{
  "cells": [
    {
      "cell_type": "markdown",
      "source": [
        "# Automated ML\n",
        "\n",
        "TODO: Import Dependencies. In the cell below, import all the dependencies that you will need to complete the project."
      ],
      "metadata": {}
    },
    {
      "cell_type": "code",
      "source": [
        "from azureml.core import Workspace, Experiment\n",
        "\n",
        "from azureml.core.compute import ComputeTarget, AmlCompute\n",
        "from azureml.core.compute_target import ComputeTargetException\n",
        "\n",
        "from azureml.data.dataset_factory import TabularDatasetFactory\n",
        "from azureml.core import Dataset\n",
        "\n",
        "#import seaborn as sns\n",
        "from matplotlib import pyplot as plt\n",
        "\n",
        "from sklearn.model_selection import train_test_split\n",
        "\n",
        "from azureml.train.automl import AutoMLConfig\n",
        "\n",
        "from azureml.widgets import RunDetails\n",
        "\n",
        "from azureml.core import Model\n",
        "\n",
        "import joblib\n",
        "\n",
        "from azureml.core.webservice import AciWebservice, Webservice"
      ],
      "outputs": [],
      "execution_count": 1,
      "metadata": {
        "gather": {
          "logged": 1612900760138
        },
        "jupyter": {
          "outputs_hidden": false,
          "source_hidden": false
        },
        "nteract": {
          "transient": {
            "deleting": false
          }
        }
      }
    },
    {
      "cell_type": "markdown",
      "source": [
        "## Dataset\n",
        "\n",
        "### Overview\n",
        "Dataset that will be used is Iris dataset available in UCI machine learining repository. Classification experiment will be done.\n",
        "\n",
        "\n",
        "TODO: Get data. In the cell below, write code to access the data you will be using in this project. Remember that the dataset needs to be external."
      ],
      "metadata": {}
    },
    {
      "cell_type": "code",
      "source": [
        "ws = Workspace.from_config()\n",
        "exp = Experiment(workspace=ws, name=\"capstone\")\n",
        "\n",
        "print('Workspace name: ' + ws.name, \n",
        "      'Azure region: ' + ws.location, \n",
        "      'Subscription id: ' + ws.subscription_id, \n",
        "      'Resource group: ' + ws.resource_group, sep = '\\n')\n",
        "\n",
        "run = exp.start_logging()"
      ],
      "outputs": [
        {
          "output_type": "stream",
          "name": "stdout",
          "text": [
            "Workspace name: quick-starts-ws-138282\n",
            "Azure region: southcentralus\n",
            "Subscription id: 976ee174-3882-4721-b90a-b5fef6b72f24\n",
            "Resource group: aml-quickstarts-138282\n"
          ]
        }
      ],
      "execution_count": 2,
      "metadata": {
        "gather": {
          "logged": 1612900764419
        },
        "jupyter": {
          "outputs_hidden": false,
          "source_hidden": false
        },
        "nteract": {
          "transient": {
            "deleting": false
          }
        }
      }
    },
    {
      "cell_type": "code",
      "source": [
        "cpu_cluster_name = \"udacity-project3\"\n",
        "\n",
        "# Verify that cluster does not exist already\n",
        "try:\n",
        "    cpu_cluster = ComputeTarget(workspace=ws, name=cpu_cluster_name)\n",
        "    print('Found existing cluster, use it.')\n",
        "except ComputeTargetException:\n",
        "    compute_config = AmlCompute.provisioning_configuration(vm_size='STANDARD_D2_V2',\n",
        "                                                           max_nodes=4)\n",
        "    cpu_cluster = ComputeTarget.create(ws, cpu_cluster_name, compute_config)\n",
        "\n",
        "cpu_cluster.wait_for_completion(show_output=True)"
      ],
      "outputs": [
        {
          "output_type": "stream",
          "name": "stdout",
          "text": [
            "Found existing cluster, use it.\n",
            "Succeeded\n",
            "AmlCompute wait for completion finished\n",
            "\n",
            "Minimum number of nodes requested have been provisioned\n"
          ]
        }
      ],
      "execution_count": 3,
      "metadata": {
        "gather": {
          "logged": 1612900765101
        }
      }
    },
    {
      "cell_type": "code",
      "source": [
        "#train_link = 'https://raw.githubusercontent.com/piprzyb/Azure3/main/train.csv'\n",
        "#test_link = 'https://raw.githubusercontent.com/piprzyb/Azure3/main/test.csv'\n",
        "#data_train = Dataset.Tabular.from_delimited_files(path=train_link)\n",
        "#data_test = Dataset.Tabular.from_delimited_files(path=test_link)\n",
        "\n",
        "data='https://archive.ics.uci.edu/ml/machine-learning-databases/iris/iris.data'\n",
        "dataset = Dataset.Tabular.from_delimited_files(data, header=False )\n",
        "\n",
        "train, test = dataset.random_split(percentage=0.8, seed=42)\n",
        "\n",
        "dataset=dataset.to_pandas_dataframe()\n",
        "dataset.columns=['sepal_length', 'sepal_width', 'petal_length', 'petal_width', 'iris_class']\n",
        "#test = data_test.to_pandas_dataframe()\n",
        "\n",
        "#dataset = dataset.append(test)\n",
        "\n",
        "print(dataset.size)\n",
        "dataset.head()"
      ],
      "outputs": [
        {
          "output_type": "stream",
          "name": "stdout",
          "text": [
            "750\n"
          ]
        },
        {
          "output_type": "execute_result",
          "execution_count": 4,
          "data": {
            "text/plain": "   sepal_length  sepal_width  petal_length  petal_width   iris_class\n0           5.1          3.5           1.4          0.2  Iris-setosa\n1           4.9          3.0           1.4          0.2  Iris-setosa\n2           4.7          3.2           1.3          0.2  Iris-setosa\n3           4.6          3.1           1.5          0.2  Iris-setosa\n4           5.0          3.6           1.4          0.2  Iris-setosa",
            "text/html": "<div>\n<style scoped>\n    .dataframe tbody tr th:only-of-type {\n        vertical-align: middle;\n    }\n\n    .dataframe tbody tr th {\n        vertical-align: top;\n    }\n\n    .dataframe thead th {\n        text-align: right;\n    }\n</style>\n<table border=\"1\" class=\"dataframe\">\n  <thead>\n    <tr style=\"text-align: right;\">\n      <th></th>\n      <th>sepal_length</th>\n      <th>sepal_width</th>\n      <th>petal_length</th>\n      <th>petal_width</th>\n      <th>iris_class</th>\n    </tr>\n  </thead>\n  <tbody>\n    <tr>\n      <th>0</th>\n      <td>5.1</td>\n      <td>3.5</td>\n      <td>1.4</td>\n      <td>0.2</td>\n      <td>Iris-setosa</td>\n    </tr>\n    <tr>\n      <th>1</th>\n      <td>4.9</td>\n      <td>3.0</td>\n      <td>1.4</td>\n      <td>0.2</td>\n      <td>Iris-setosa</td>\n    </tr>\n    <tr>\n      <th>2</th>\n      <td>4.7</td>\n      <td>3.2</td>\n      <td>1.3</td>\n      <td>0.2</td>\n      <td>Iris-setosa</td>\n    </tr>\n    <tr>\n      <th>3</th>\n      <td>4.6</td>\n      <td>3.1</td>\n      <td>1.5</td>\n      <td>0.2</td>\n      <td>Iris-setosa</td>\n    </tr>\n    <tr>\n      <th>4</th>\n      <td>5.0</td>\n      <td>3.6</td>\n      <td>1.4</td>\n      <td>0.2</td>\n      <td>Iris-setosa</td>\n    </tr>\n  </tbody>\n</table>\n</div>"
          },
          "metadata": {}
        }
      ],
      "execution_count": 4,
      "metadata": {
        "gather": {
          "logged": 1612900771573
        }
      }
    },
    {
      "cell_type": "code",
      "source": [
        "dataset.describe()"
      ],
      "outputs": [
        {
          "output_type": "execute_result",
          "execution_count": 5,
          "data": {
            "text/plain": "       sepal_length  sepal_width  petal_length  petal_width\ncount    150.000000   150.000000    150.000000   150.000000\nmean       5.843333     3.054000      3.758667     1.198667\nstd        0.828066     0.433594      1.764420     0.763161\nmin        4.300000     2.000000      1.000000     0.100000\n25%        5.100000     2.800000      1.600000     0.300000\n50%        5.800000     3.000000      4.350000     1.300000\n75%        6.400000     3.300000      5.100000     1.800000\nmax        7.900000     4.400000      6.900000     2.500000",
            "text/html": "<div>\n<style scoped>\n    .dataframe tbody tr th:only-of-type {\n        vertical-align: middle;\n    }\n\n    .dataframe tbody tr th {\n        vertical-align: top;\n    }\n\n    .dataframe thead th {\n        text-align: right;\n    }\n</style>\n<table border=\"1\" class=\"dataframe\">\n  <thead>\n    <tr style=\"text-align: right;\">\n      <th></th>\n      <th>sepal_length</th>\n      <th>sepal_width</th>\n      <th>petal_length</th>\n      <th>petal_width</th>\n    </tr>\n  </thead>\n  <tbody>\n    <tr>\n      <th>count</th>\n      <td>150.000000</td>\n      <td>150.000000</td>\n      <td>150.000000</td>\n      <td>150.000000</td>\n    </tr>\n    <tr>\n      <th>mean</th>\n      <td>5.843333</td>\n      <td>3.054000</td>\n      <td>3.758667</td>\n      <td>1.198667</td>\n    </tr>\n    <tr>\n      <th>std</th>\n      <td>0.828066</td>\n      <td>0.433594</td>\n      <td>1.764420</td>\n      <td>0.763161</td>\n    </tr>\n    <tr>\n      <th>min</th>\n      <td>4.300000</td>\n      <td>2.000000</td>\n      <td>1.000000</td>\n      <td>0.100000</td>\n    </tr>\n    <tr>\n      <th>25%</th>\n      <td>5.100000</td>\n      <td>2.800000</td>\n      <td>1.600000</td>\n      <td>0.300000</td>\n    </tr>\n    <tr>\n      <th>50%</th>\n      <td>5.800000</td>\n      <td>3.000000</td>\n      <td>4.350000</td>\n      <td>1.300000</td>\n    </tr>\n    <tr>\n      <th>75%</th>\n      <td>6.400000</td>\n      <td>3.300000</td>\n      <td>5.100000</td>\n      <td>1.800000</td>\n    </tr>\n    <tr>\n      <th>max</th>\n      <td>7.900000</td>\n      <td>4.400000</td>\n      <td>6.900000</td>\n      <td>2.500000</td>\n    </tr>\n  </tbody>\n</table>\n</div>"
          },
          "metadata": {}
        }
      ],
      "execution_count": 5,
      "metadata": {
        "gather": {
          "logged": 1612900774235
        }
      }
    },
    {
      "cell_type": "code",
      "source": [
        "plt.title(\"Sepal Plot\")\n",
        "plt.scatter('sepal_length', 'sepal_width', c=dataset.iris_class.map({'Iris-setosa':0, 'Iris-versicolor':1, 'Iris-virginica':2}), data=dataset)\n",
        "plt.show()"
      ],
      "outputs": [
        {
          "output_type": "display_data",
          "data": {
            "text/plain": "<Figure size 432x288 with 1 Axes>",
            "image/png": "[encoded data removed]"
          },
          "metadata": {
            "needs_background": "light"
          }
        }
      ],
      "execution_count": 6,
      "metadata": {
        "gather": {
          "logged": 1612900774645
        }
      }
    },
    {
      "cell_type": "code",
      "source": [
        "plt.title(\"Petal Plot\")\n",
        "plt.scatter('petal_length', 'petal_width', c=dataset.iris_class.map({'Iris-setosa':0, 'Iris-versicolor':1, 'Iris-virginica':2}), data=dataset)\n",
        "plt.show()"
      ],
      "outputs": [
        {
          "output_type": "display_data",
          "data": {
            "text/plain": "<Figure size 432x288 with 1 Axes>",
            "image/png": "[encoded data removed]"
          },
          "metadata": {
            "needs_background": "light"
          }
        }
      ],
      "execution_count": 7,
      "metadata": {
        "gather": {
          "logged": 1612900778689
        }
      }
    },
    {
      "cell_type": "code",
      "source": [
        "dataset.size"
      ],
      "outputs": [
        {
          "output_type": "execute_result",
          "execution_count": 8,
          "data": {
            "text/plain": "750"
          },
          "metadata": {}
        }
      ],
      "execution_count": 8,
      "metadata": {
        "collapsed": true,
        "jupyter": {
          "source_hidden": false,
          "outputs_hidden": false
        },
        "nteract": {
          "transient": {
            "deleting": false
          }
        },
        "gather": {
          "logged": 1612900781084
        }
      }
    },
    {
      "cell_type": "markdown",
      "source": [
        "## AutoML Configuration\n",
        "\n",
        "Task is classification as we try to predict iris class. Timeout is set to 15 mins as the data is pretty straightforward. Primary metric is accuracy as data is well balanced and therfore this metric will provide correct results. Train data constitutes 80% of total data, rest is holded for validation. Cross validations are set to 5 as dataset is pretty small."
      ],
      "metadata": {}
    },
    {
      "cell_type": "code",
      "source": [
        "# TODO: Put your automl settings here\n",
        "automl_settings = {\n",
        "    'experiment_timeout_minutes': 15,\n",
        "    'primary_metric' : 'accuracy',\n",
        "    'n_cross_validations': 5\n",
        "}\n",
        "\n",
        "# TODO: Put your automl config here\n",
        "automl_config = AutoMLConfig(compute_target=cpu_cluster,\n",
        "                             task = \"classification\",\n",
        "                             training_data=train,\n",
        "                             label_column_name='Column5', \n",
        "                             enable_early_stopping= True,\n",
        "                             experiment_timeout_minutes= 15,\n",
        "                             primary_metric = 'accuracy',\n",
        "                             n_cross_validations= 5\n",
        "                            )"
      ],
      "outputs": [],
      "execution_count": 9,
      "metadata": {
        "gather": {
          "logged": 1612900785546
        },
        "jupyter": {
          "outputs_hidden": false,
          "source_hidden": false
        },
        "nteract": {
          "transient": {
            "deleting": false
          }
        }
      }
    },
    {
      "cell_type": "code",
      "source": [
        "# TODO: Submit your experiment\n",
        "remote_run = exp.submit(automl_config, show_output=True)\n",
        "##remote_run.wait_for_completion(show_output=True)"
      ],
      "outputs": [
        {
          "output_type": "stream",
          "name": "stdout",
          "text": [
            "Running on remote.\n",
            "No run_configuration provided, running on udacity-project3 with default configuration\n",
            "Running on remote compute: udacity-project3\n",
            "Parent Run ID: AutoML_7fed8c43-0848-40f2-a2b1-18f977fb2fde\n",
            "\n",
            "Current status: FeaturesGeneration. Generating features for the dataset.\n",
            "Current status: DatasetCrossValidationSplit. Generating individually featurized CV splits.\n",
            "Current status: ModelSelection. Beginning model selection.\n",
            "\n",
            "****************************************************************************************************\n",
            "DATA GUARDRAILS: \n",
            "\n",
            "TYPE:         Class balancing detection\n",
            "STATUS:       PASSED\n",
            "DESCRIPTION:  Your inputs were analyzed, and all classes are balanced in your training data.\n",
            "              Learn more about imbalanced data: https://aka.ms/AutomatedMLImbalancedData\n",
            "\n",
            "****************************************************************************************************\n",
            "\n",
            "TYPE:         Missing feature values imputation\n",
            "STATUS:       PASSED\n",
            "DESCRIPTION:  No feature missing values were detected in the training data.\n",
            "              Learn more about missing value imputation: https://aka.ms/AutomatedMLFeaturization\n",
            "\n",
            "****************************************************************************************************\n",
            "\n",
            "TYPE:         High cardinality feature detection\n",
            "STATUS:       PASSED\n",
            "DESCRIPTION:  Your inputs were analyzed, and no high cardinality features were detected.\n",
            "              Learn more about high cardinality feature handling: https://aka.ms/AutomatedMLFeaturization\n",
            "\n",
            "****************************************************************************************************\n",
            "\n",
            "****************************************************************************************************\n",
            "ITERATION: The iteration being evaluated.\n",
            "PIPELINE: A summary description of the pipeline being evaluated.\n",
            "DURATION: Time taken for the current iteration.\n",
            "METRIC: The result of computing score on the fitted pipeline.\n",
            "BEST: The best observed score thus far.\n",
            "****************************************************************************************************\n",
            "\n",
            " ITERATION   PIPELINE                                       DURATION      METRIC      BEST\n",
            "         0   MaxAbsScaler LightGBM                          0:00:52       0.9206    0.9206\n",
            "         1   MaxAbsScaler XGBoostClassifier                 0:00:54       0.9286    0.9286\n",
            "         2   MinMaxScaler RandomForest                      0:01:08       0.9366    0.9366\n",
            "         3   MinMaxScaler RandomForest                      0:00:53       0.9446    0.9446\n",
            "         4   MinMaxScaler RandomForest                      0:03:29       0.9526    0.9526\n",
            "         5   MinMaxScaler SVM                               0:00:57       0.9283    0.9526\n",
            "         6   MaxAbsScaler GradientBoosting                  0:01:03       0.9366    0.9526\n",
            "         7   StandardScalerWrapper RandomForest             0:00:54       0.9366    0.9526\n",
            "         8                                                  0:00:29          nan    0.9526\n",
            "ERROR: {\n",
            "    \"additional_properties\": {},\n",
            "    \"error\": {\n",
            "        \"additional_properties\": {\n",
            "            \"debugInfo\": null\n",
            "        },\n",
            "        \"code\": \"UserError\",\n",
            "        \"severity\": null,\n",
            "        \"message\": \"Experiment timeout reached, please consider increasing your experiment timeout.\",\n",
            "        \"message_format\": \"Experiment timeout reached, please consider increasing your experiment timeout.\",\n",
            "        \"message_parameters\": {},\n",
            "        \"reference_code\": null,\n",
            "        \"details_uri\": null,\n",
            "        \"target\": null,\n",
            "        \"details\": [],\n",
            "        \"inner_error\": {\n",
            "            \"additional_properties\": {},\n",
            "            \"code\": \"ResourceExhausted\",\n",
            "            \"inner_error\": {\n",
            "                \"additional_properties\": {},\n",
            "                \"code\": \"Timeout\",\n",
            "                \"inner_error\": {\n",
            "                    \"additional_properties\": {},\n",
            "                    \"code\": \"ExperimentTimeoutForIterations\",\n",
            "                    \"inner_error\": null\n",
            "                }\n",
            "            }\n",
            "        }\n",
            "    },\n",
            "    \"correlation\": null,\n",
            "    \"environment\": null,\n",
            "    \"location\": null,\n",
            "    \"time\": {},\n",
            "    \"component_name\": null\n",
            "}\n",
            "         9    VotingEnsemble                                0:01:03       0.9446    0.9526\n",
            "        10    StackEnsemble                                 0:03:23       0.9446    0.9526\n"
          ]
        }
      ],
      "execution_count": 10,
      "metadata": {
        "gather": {
          "logged": 1612902708788
        },
        "jupyter": {
          "outputs_hidden": false,
          "source_hidden": false
        },
        "nteract": {
          "transient": {
            "deleting": false
          }
        }
      }
    },
    {
      "cell_type": "markdown",
      "source": [
        "## Run Details\n",
        "\n",
        "Ensemble model, Voting Classifier returned best results. This type of models tend to preform well on such tasks as they combine predictions of many different models in order to improve robustness over a single estimator. \n",
        "\n",
        "TODO: In the cell below, use the `RunDetails` widget to show the different experiments."
      ],
      "metadata": {}
    },
    {
      "cell_type": "code",
      "source": [
        "RunDetails(remote_run).show()"
      ],
      "outputs": [
        {
          "output_type": "display_data",
          "data": {
            "text/plain": "_AutoMLWidget(widget_settings={'childWidgetDisplay': 'popup', 'send_telemetry': False, 'log_level': 'INFO', 's…",
            "application/vnd.jupyter.widget-view+json": {
              "version_major": 2,
              "version_minor": 0,
              "model_id": "529864f3d2734809bb6c9f2289161cae"
            }
          },
          "metadata": {}
        },
        {
          "output_type": "display_data",
          "data": {
            "application/aml.mini.widget.v1": "{\"status\": \"Completed\", \"workbench_run_details_uri\": \"https://ml.azure.com/experiments/capstone/runs/AutoML_7fed8c43-0848-40f2-a2b1-18f977fb2fde?wsid=/subscriptions/976ee174-3882-4721-b90a-b5fef6b72f24/resourcegroups/aml-quickstarts-138282/workspaces/quick-starts-ws-138282\", \"run_id\": \"AutoML_7fed8c43-0848-40f2-a2b1-18f977fb2fde\", \"run_properties\": {\"run_id\": \"AutoML_7fed8c43-0848-40f2-a2b1-18f977fb2fde\", \"created_utc\": \"2021-02-09T20:01:10.50768Z\", \"properties\": {\"num_iterations\": \"1000\", \"training_type\": \"TrainFull\", \"acquisition_function\": \"EI\", \"primary_metric\": \"accuracy\", \"train_split\": \"0\", \"acquisition_parameter\": \"0\", \"num_cross_validation\": \"5\", \"target\": \"udacity-project3\", \"AMLSettingsJsonString\": \"{\\\"path\\\":null,\\\"name\\\":\\\"capstone\\\",\\\"subscription_id\\\":\\\"976ee174-3882-4721-b90a-b5fef6b72f24\\\",\\\"resource_group\\\":\\\"aml-quickstarts-138282\\\",\\\"workspace_name\\\":\\\"quick-starts-ws-138282\\\",\\\"region\\\":\\\"southcentralus\\\",\\\"compute_target\\\":\\\"udacity-project3\\\",\\\"spark_service\\\":null,\\\"azure_service\\\":\\\"remote\\\",\\\"many_models\\\":false,\\\"pipeline_fetch_max_batch_size\\\":1,\\\"iterations\\\":1000,\\\"primary_metric\\\":\\\"accuracy\\\",\\\"task_type\\\":\\\"classification\\\",\\\"data_script\\\":null,\\\"validation_size\\\":0.0,\\\"n_cross_validations\\\":5,\\\"y_min\\\":null,\\\"y_max\\\":null,\\\"num_classes\\\":null,\\\"featurization\\\":\\\"auto\\\",\\\"_ignore_package_version_incompatibilities\\\":false,\\\"is_timeseries\\\":false,\\\"max_cores_per_iteration\\\":1,\\\"max_concurrent_iterations\\\":1,\\\"iteration_timeout_minutes\\\":null,\\\"mem_in_mb\\\":null,\\\"enforce_time_on_windows\\\":false,\\\"experiment_timeout_minutes\\\":15,\\\"experiment_exit_score\\\":null,\\\"whitelist_models\\\":null,\\\"blacklist_algos\\\":[\\\"TensorFlowLinearClassifier\\\",\\\"TensorFlowDNN\\\"],\\\"supported_models\\\":[\\\"SVM\\\",\\\"LogisticRegression\\\",\\\"DecisionTree\\\",\\\"LinearSVM\\\",\\\"XGBoostClassifier\\\",\\\"LightGBM\\\",\\\"BernoulliNaiveBayes\\\",\\\"TensorFlowLinearClassifier\\\",\\\"GradientBoosting\\\",\\\"SGD\\\",\\\"AveragedPerceptronClassifier\\\",\\\"MultinomialNaiveBayes\\\",\\\"KNN\\\",\\\"TensorFlowDNN\\\",\\\"RandomForest\\\",\\\"ExtremeRandomTrees\\\"],\\\"auto_blacklist\\\":true,\\\"blacklist_samples_reached\\\":false,\\\"exclude_nan_labels\\\":true,\\\"verbosity\\\":20,\\\"_debug_log\\\":\\\"azureml_automl.log\\\",\\\"show_warnings\\\":false,\\\"model_explainability\\\":true,\\\"service_url\\\":null,\\\"sdk_url\\\":null,\\\"sdk_packages\\\":null,\\\"enable_onnx_compatible_models\\\":false,\\\"enable_split_onnx_featurizer_estimator_models\\\":false,\\\"vm_type\\\":\\\"STANDARD_D2_V2\\\",\\\"telemetry_verbosity\\\":20,\\\"send_telemetry\\\":true,\\\"enable_dnn\\\":false,\\\"scenario\\\":\\\"SDK-1.13.0\\\",\\\"environment_label\\\":null,\\\"force_text_dnn\\\":false,\\\"enable_feature_sweeping\\\":true,\\\"enable_early_stopping\\\":true,\\\"early_stopping_n_iters\\\":10,\\\"metrics\\\":null,\\\"enable_ensembling\\\":true,\\\"enable_stack_ensembling\\\":true,\\\"ensemble_iterations\\\":15,\\\"enable_tf\\\":false,\\\"enable_subsampling\\\":null,\\\"subsample_seed\\\":null,\\\"enable_nimbusml\\\":false,\\\"enable_streaming\\\":false,\\\"force_streaming\\\":false,\\\"track_child_runs\\\":true,\\\"allowed_private_models\\\":[],\\\"label_column_name\\\":\\\"Column5\\\",\\\"weight_column_name\\\":null,\\\"cv_split_column_names\\\":null,\\\"enable_local_managed\\\":false,\\\"_local_managed_run_id\\\":null,\\\"cost_mode\\\":1,\\\"lag_length\\\":0,\\\"metric_operation\\\":\\\"maximize\\\",\\\"preprocess\\\":true}\", \"DataPrepJsonString\": \"{\\\\\\\"training_data\\\\\\\": \\\\\\\"{\\\\\\\\\\\\\\\"blocks\\\\\\\\\\\\\\\": [{\\\\\\\\\\\\\\\"id\\\\\\\\\\\\\\\": \\\\\\\\\\\\\\\"9bb83045-15dd-498d-af40-b956e338a4d5\\\\\\\\\\\\\\\", \\\\\\\\\\\\\\\"type\\\\\\\\\\\\\\\": \\\\\\\\\\\\\\\"Microsoft.DPrep.GetFilesBlock\\\\\\\\\\\\\\\", \\\\\\\\\\\\\\\"arguments\\\\\\\\\\\\\\\": {\\\\\\\\\\\\\\\"isArchive\\\\\\\\\\\\\\\": false, \\\\\\\\\\\\\\\"path\\\\\\\\\\\\\\\": {\\\\\\\\\\\\\\\"target\\\\\\\\\\\\\\\": 4, \\\\\\\\\\\\\\\"resourceDetails\\\\\\\\\\\\\\\": [{\\\\\\\\\\\\\\\"path\\\\\\\\\\\\\\\": \\\\\\\\\\\\\\\"https://archive.ics.uci.edu/ml/machine-learning-databases/iris/iris.data\\\\\\\\\\\\\\\"}]}}, \\\\\\\\\\\\\\\"localData\\\\\\\\\\\\\\\": {}, \\\\\\\\\\\\\\\"isEnabled\\\\\\\\\\\\\\\": true, \\\\\\\\\\\\\\\"name\\\\\\\\\\\\\\\": null, \\\\\\\\\\\\\\\"annotation\\\\\\\\\\\\\\\": null}, {\\\\\\\\\\\\\\\"id\\\\\\\\\\\\\\\": \\\\\\\\\\\\\\\"8ef30d5f-5a56-4236-b4d5-aa513484c88a\\\\\\\\\\\\\\\", \\\\\\\\\\\\\\\"type\\\\\\\\\\\\\\\": \\\\\\\\\\\\\\\"Microsoft.DPrep.ParseDelimitedBlock\\\\\\\\\\\\\\\", \\\\\\\\\\\\\\\"arguments\\\\\\\\\\\\\\\": {\\\\\\\\\\\\\\\"columnHeadersMode\\\\\\\\\\\\\\\": 0, \\\\\\\\\\\\\\\"fileEncoding\\\\\\\\\\\\\\\": 0, \\\\\\\\\\\\\\\"handleQuotedLineBreaks\\\\\\\\\\\\\\\": false, \\\\\\\\\\\\\\\"preview\\\\\\\\\\\\\\\": false, \\\\\\\\\\\\\\\"separator\\\\\\\\\\\\\\\": \\\\\\\\\\\\\\\",\\\\\\\\\\\\\\\", \\\\\\\\\\\\\\\"skipRows\\\\\\\\\\\\\\\": 0, \\\\\\\\\\\\\\\"skipRowsMode\\\\\\\\\\\\\\\": 0}, \\\\\\\\\\\\\\\"localData\\\\\\\\\\\\\\\": {}, \\\\\\\\\\\\\\\"isEnabled\\\\\\\\\\\\\\\": true, \\\\\\\\\\\\\\\"name\\\\\\\\\\\\\\\": null, \\\\\\\\\\\\\\\"annotation\\\\\\\\\\\\\\\": null}, {\\\\\\\\\\\\\\\"id\\\\\\\\\\\\\\\": \\\\\\\\\\\\\\\"2206d6fb-aed7-4491-af63-1247c0a1ec26\\\\\\\\\\\\\\\", \\\\\\\\\\\\\\\"type\\\\\\\\\\\\\\\": \\\\\\\\\\\\\\\"Microsoft.DPrep.DropColumnsBlock\\\\\\\\\\\\\\\", \\\\\\\\\\\\\\\"arguments\\\\\\\\\\\\\\\": {\\\\\\\\\\\\\\\"columns\\\\\\\\\\\\\\\": {\\\\\\\\\\\\\\\"type\\\\\\\\\\\\\\\": 0, \\\\\\\\\\\\\\\"details\\\\\\\\\\\\\\\": {\\\\\\\\\\\\\\\"selectedColumns\\\\\\\\\\\\\\\": [\\\\\\\\\\\\\\\"Path\\\\\\\\\\\\\\\"]}}}, \\\\\\\\\\\\\\\"localData\\\\\\\\\\\\\\\": {}, \\\\\\\\\\\\\\\"isEnabled\\\\\\\\\\\\\\\": true, \\\\\\\\\\\\\\\"name\\\\\\\\\\\\\\\": null, \\\\\\\\\\\\\\\"annotation\\\\\\\\\\\\\\\": null}, {\\\\\\\\\\\\\\\"id\\\\\\\\\\\\\\\": \\\\\\\\\\\\\\\"2317431d-4003-4aea-a111-05e28708e46a\\\\\\\\\\\\\\\", \\\\\\\\\\\\\\\"type\\\\\\\\\\\\\\\": \\\\\\\\\\\\\\\"Microsoft.DPrep.SetColumnTypesBlock\\\\\\\\\\\\\\\", \\\\\\\\\\\\\\\"arguments\\\\\\\\\\\\\\\": {\\\\\\\\\\\\\\\"columnConversion\\\\\\\\\\\\\\\": [{\\\\\\\\\\\\\\\"column\\\\\\\\\\\\\\\": {\\\\\\\\\\\\\\\"type\\\\\\\\\\\\\\\": 2, \\\\\\\\\\\\\\\"details\\\\\\\\\\\\\\\": {\\\\\\\\\\\\\\\"selectedColumn\\\\\\\\\\\\\\\": \\\\\\\\\\\\\\\"Column1\\\\\\\\\\\\\\\"}}, \\\\\\\\\\\\\\\"typeProperty\\\\\\\\\\\\\\\": 3}, {\\\\\\\\\\\\\\\"column\\\\\\\\\\\\\\\": {\\\\\\\\\\\\\\\"type\\\\\\\\\\\\\\\": 2, \\\\\\\\\\\\\\\"details\\\\\\\\\\\\\\\": {\\\\\\\\\\\\\\\"selectedColumn\\\\\\\\\\\\\\\": \\\\\\\\\\\\\\\"Column2\\\\\\\\\\\\\\\"}}, \\\\\\\\\\\\\\\"typeProperty\\\\\\\\\\\\\\\": 3}, {\\\\\\\\\\\\\\\"column\\\\\\\\\\\\\\\": {\\\\\\\\\\\\\\\"type\\\\\\\\\\\\\\\": 2, \\\\\\\\\\\\\\\"details\\\\\\\\\\\\\\\": {\\\\\\\\\\\\\\\"selectedColumn\\\\\\\\\\\\\\\": \\\\\\\\\\\\\\\"Column3\\\\\\\\\\\\\\\"}}, \\\\\\\\\\\\\\\"typeProperty\\\\\\\\\\\\\\\": 3}, {\\\\\\\\\\\\\\\"column\\\\\\\\\\\\\\\": {\\\\\\\\\\\\\\\"type\\\\\\\\\\\\\\\": 2, \\\\\\\\\\\\\\\"details\\\\\\\\\\\\\\\": {\\\\\\\\\\\\\\\"selectedColumn\\\\\\\\\\\\\\\": \\\\\\\\\\\\\\\"Column4\\\\\\\\\\\\\\\"}}, \\\\\\\\\\\\\\\"typeProperty\\\\\\\\\\\\\\\": 3}, {\\\\\\\\\\\\\\\"column\\\\\\\\\\\\\\\": {\\\\\\\\\\\\\\\"type\\\\\\\\\\\\\\\": 2, \\\\\\\\\\\\\\\"details\\\\\\\\\\\\\\\": {\\\\\\\\\\\\\\\"selectedColumn\\\\\\\\\\\\\\\": \\\\\\\\\\\\\\\"Column5\\\\\\\\\\\\\\\"}}, \\\\\\\\\\\\\\\"typeProperty\\\\\\\\\\\\\\\": 0}]}, \\\\\\\\\\\\\\\"localData\\\\\\\\\\\\\\\": {}, \\\\\\\\\\\\\\\"isEnabled\\\\\\\\\\\\\\\": true, \\\\\\\\\\\\\\\"name\\\\\\\\\\\\\\\": null, \\\\\\\\\\\\\\\"annotation\\\\\\\\\\\\\\\": null}, {\\\\\\\\\\\\\\\"id\\\\\\\\\\\\\\\": \\\\\\\\\\\\\\\"285bf7b3-6a8a-43dd-a806-dc8b60739144\\\\\\\\\\\\\\\", \\\\\\\\\\\\\\\"type\\\\\\\\\\\\\\\": \\\\\\\\\\\\\\\"Microsoft.DPrep.TakeSampleBlock\\\\\\\\\\\\\\\", \\\\\\\\\\\\\\\"arguments\\\\\\\\\\\\\\\": {\\\\\\\\\\\\\\\"probability\\\\\\\\\\\\\\\": 0.8, \\\\\\\\\\\\\\\"probabilityLowerBound\\\\\\\\\\\\\\\": 0.0, \\\\\\\\\\\\\\\"seed\\\\\\\\\\\\\\\": 42}, \\\\\\\\\\\\\\\"localData\\\\\\\\\\\\\\\": {}, \\\\\\\\\\\\\\\"isEnabled\\\\\\\\\\\\\\\": true, \\\\\\\\\\\\\\\"name\\\\\\\\\\\\\\\": null, \\\\\\\\\\\\\\\"annotation\\\\\\\\\\\\\\\": null}], \\\\\\\\\\\\\\\"inspectors\\\\\\\\\\\\\\\": [], \\\\\\\\\\\\\\\"meta\\\\\\\\\\\\\\\": {\\\\\\\\\\\\\\\"savedDatasetId\\\\\\\\\\\\\\\": \\\\\\\\\\\\\\\"928fde33-c73a-4276-99f2-fac92cc52b1f\\\\\\\\\\\\\\\", \\\\\\\\\\\\\\\"datasetType\\\\\\\\\\\\\\\": \\\\\\\\\\\\\\\"tabular\\\\\\\\\\\\\\\", \\\\\\\\\\\\\\\"subscriptionId\\\\\\\\\\\\\\\": \\\\\\\\\\\\\\\"976ee174-3882-4721-b90a-b5fef6b72f24\\\\\\\\\\\\\\\", \\\\\\\\\\\\\\\"workspaceId\\\\\\\\\\\\\\\": \\\\\\\\\\\\\\\"20454cea-f05c-4e62-9668-03a9d2908498\\\\\\\\\\\\\\\", \\\\\\\\\\\\\\\"workspaceLocation\\\\\\\\\\\\\\\": \\\\\\\\\\\\\\\"southcentralus\\\\\\\\\\\\\\\"}}\\\\\\\", \\\\\\\"activities\\\\\\\": 0}\", \"EnableSubsampling\": null, \"runTemplate\": \"AutoML\", \"azureml.runsource\": \"automl\", \"display_task_type\": \"classification\", \"dependencies_versions\": \"{\\\"azureml-widgets\\\": \\\"1.20.0\\\", \\\"azureml-train\\\": \\\"1.20.0\\\", \\\"azureml-train-restclients-hyperdrive\\\": \\\"1.20.0\\\", \\\"azureml-train-core\\\": \\\"1.20.0\\\", \\\"azureml-train-automl\\\": \\\"1.20.0\\\", \\\"azureml-train-automl-runtime\\\": \\\"1.20.0\\\", \\\"azureml-train-automl-client\\\": \\\"1.20.0\\\", \\\"azureml-tensorboard\\\": \\\"1.20.0\\\", \\\"azureml-telemetry\\\": \\\"1.20.0\\\", \\\"azureml-sdk\\\": \\\"1.20.0\\\", \\\"azureml-samples\\\": \\\"0+unknown\\\", \\\"azureml-pipeline\\\": \\\"1.20.0\\\", \\\"azureml-pipeline-steps\\\": \\\"1.20.0\\\", \\\"azureml-pipeline-core\\\": \\\"1.20.0\\\", \\\"azureml-opendatasets\\\": \\\"1.20.0\\\", \\\"azureml-model-management-sdk\\\": \\\"1.0.1b6.post1\\\", \\\"azureml-mlflow\\\": \\\"1.20.0.post1\\\", \\\"azureml-interpret\\\": \\\"1.20.0\\\", \\\"azureml-explain-model\\\": \\\"1.20.0\\\", \\\"azureml-defaults\\\": \\\"1.20.0\\\", \\\"azureml-dataset-runtime\\\": \\\"1.20.0\\\", \\\"azureml-dataprep\\\": \\\"2.7.3\\\", \\\"azureml-dataprep-rslex\\\": \\\"1.5.0\\\", \\\"azureml-dataprep-native\\\": \\\"27.0.0\\\", \\\"azureml-datadrift\\\": \\\"1.20.0\\\", \\\"azureml-core\\\": \\\"1.20.0\\\", \\\"azureml-contrib-services\\\": \\\"1.20.0\\\", \\\"azureml-contrib-server\\\": \\\"1.20.0\\\", \\\"azureml-contrib-reinforcementlearning\\\": \\\"1.20.0\\\", \\\"azureml-contrib-pipeline-steps\\\": \\\"1.20.0\\\", \\\"azureml-contrib-notebook\\\": \\\"1.20.0\\\", \\\"azureml-contrib-interpret\\\": \\\"1.20.0\\\", \\\"azureml-contrib-gbdt\\\": \\\"1.20.0\\\", \\\"azureml-contrib-fairness\\\": \\\"1.20.0\\\", \\\"azureml-contrib-dataset\\\": \\\"1.20.0\\\", \\\"azureml-cli-common\\\": \\\"1.20.0\\\", \\\"azureml-automl-runtime\\\": \\\"1.20.0\\\", \\\"azureml-automl-core\\\": \\\"1.20.0\\\", \\\"azureml-accel-models\\\": \\\"1.20.0\\\"}\", \"_aml_system_scenario_identification\": \"Remote.Parent\", \"ClientType\": \"SDK\", \"environment_cpu_name\": \"AzureML-AutoML\", \"environment_cpu_label\": \"prod\", \"environment_gpu_name\": \"AzureML-AutoML-GPU\", \"environment_gpu_label\": \"prod\", \"root_attribution\": \"automl\", \"attribution\": \"AutoML\", \"Orchestrator\": \"AutoML\", \"CancelUri\": \"https://southcentralus.experiments.azureml.net/jasmine/v1.0/subscriptions/976ee174-3882-4721-b90a-b5fef6b72f24/resourceGroups/aml-quickstarts-138282/providers/Microsoft.MachineLearningServices/workspaces/quick-starts-ws-138282/experimentids/c01f7658-a910-457b-8f49-d3ed6b3aa1f8/cancel/AutoML_7fed8c43-0848-40f2-a2b1-18f977fb2fde\", \"ClientSdkVersion\": \"1.21.0\", \"snapshotId\": \"00000000-0000-0000-0000-000000000000\", \"SetupRunId\": \"AutoML_7fed8c43-0848-40f2-a2b1-18f977fb2fde_setup\", \"SetupRunContainerId\": \"dcid.AutoML_7fed8c43-0848-40f2-a2b1-18f977fb2fde_setup\", \"FeaturizationRunJsonPath\": \"featurizer_container.json\", \"FeaturizationRunId\": \"AutoML_7fed8c43-0848-40f2-a2b1-18f977fb2fde_featurize\", \"ProblemInfoJsonString\": \"{\\\"dataset_num_categorical\\\": 0, \\\"is_sparse\\\": false, \\\"subsampling\\\": false, \\\"dataset_classes\\\": 3, \\\"dataset_features\\\": 4, \\\"dataset_samples\\\": 126, \\\"single_frequency_class_detected\\\": false}\", \"ModelExplainRunId\": \"AutoML_7fed8c43-0848-40f2-a2b1-18f977fb2fde_ModelExplain\"}, \"tags\": {\"model_explain_run\": \"best_run\", \"_aml_system_azureml.automlComponent\": \"AutoML\", \"pipeline_id\": \"<5dfac790c5c209f98a1da2dc1c7fb76f0397324f>;<c7af0367625be6ac5c2fecbfc72ed444cb7a2111>;<cf1dc9b7ea4a50d759bce352343ec6737501695a>;<b19eeb61727e9c4fbb5aa45fb6e9fe3fab5b1f04>;<032c2f067189c1f56172ca21b98c8843539dd9de>;<54d1f68a5b840751d165dd1e62e212fac7a0826c>;<2ffa6cf359ffe417a117666f62b1ae554d99df21>;<8d8bbc86e60505299c7e25ffdf284c5d4f3fd55d>;<82b7a511bb356ccec67e5e1d975af2ebb63e564e>;<__AutoML_Ensemble__>;<__AutoML_Stack_Ensemble__>;\", \"score\": \"<0.9206153846153846>;<0.9286153846153846>;<0.9366153846153846>;<0.9446153846153846>;<0.9526153846153846>;<0.9283076923076923>;<0.9366153846153846>;<0.9366153846153846>;<NaN>;<0.9446153846153846>;<0.9446153846153846>;\", \"predicted_cost\": \"<0>;<0>;<0.5>;<0.015560600000000004>;<0.018266412091784007>;<0.013058672704520031>;<0.015176310307935854>;<0.03166398303945151>;<0.04309007496010644>;<0>;<0>;\", \"fit_time\": \"<0.0293478>;<0.025746800000000004>;<0.015560600000000003>;<0.021709>;<0.0486608>;<0.0065742>;<0.1849828>;<0.033504599999999995>;<NaN>;<12>;<10>;\", \"training_percent\": \"<100>;<100>;<100>;<100>;<100>;<100>;<100>;<100>;<100>;<100>;<100>;\", \"iteration\": \"<0>;<1>;<2>;<3>;<4>;<5>;<6>;<7>;<8>;<9>;<10>;\", \"run_preprocessor\": \"<MaxAbsScaler>;<MaxAbsScaler>;<MinMaxScaler>;<MinMaxScaler>;<MinMaxScaler>;<MinMaxScaler>;<MaxAbsScaler>;<StandardScalerWrapper>;<>;<>;<>;\", \"run_algorithm\": \"<LightGBM>;<XGBoostClassifier>;<RandomForest>;<RandomForest>;<RandomForest>;<SVM>;<GradientBoosting>;<RandomForest>;<>;<VotingEnsemble>;<StackEnsemble>;\", \"automl_best_child_run_id\": \"AutoML_7fed8c43-0848-40f2-a2b1-18f977fb2fde_4\"}, \"end_time_utc\": \"2021-02-09T20:31:41.543292Z\", \"status\": \"Completed\", \"log_files\": {}, \"log_groups\": [], \"run_duration\": \"0:30:31\"}, \"child_runs\": [{\"run_id\": \"AutoML_7fed8c43-0848-40f2-a2b1-18f977fb2fde_0\", \"run_number\": 38, \"metric\": null, \"status\": \"Completed\", \"run_type\": \"azureml.scriptrun\", \"training_percent\": \"100\", \"start_time\": \"2021-02-09T20:11:17.311933Z\", \"end_time\": \"2021-02-09T20:12:09.652401Z\", \"created_time\": \"2021-02-09T20:11:02.975175Z\", \"created_time_dt\": \"2021-02-09T20:11:02.975175Z\", \"duration\": \"0:01:06\", \"iteration\": \"0\", \"goal\": \"accuracy_max\", \"run_name\": \"MaxAbsScaler, LightGBM\", \"run_properties\": \"copy=True\", \"primary_metric\": 0.92061538, \"best_metric\": 0.92061538}, {\"run_id\": \"AutoML_7fed8c43-0848-40f2-a2b1-18f977fb2fde_1\", \"run_number\": 39, \"metric\": null, \"status\": \"Completed\", \"run_type\": \"azureml.scriptrun\", \"training_percent\": \"100\", \"start_time\": \"2021-02-09T20:12:22.369311Z\", \"end_time\": \"2021-02-09T20:13:16.086758Z\", \"created_time\": \"2021-02-09T20:12:10.585321Z\", \"created_time_dt\": \"2021-02-09T20:12:10.585321Z\", \"duration\": \"0:01:05\", \"iteration\": \"1\", \"goal\": \"accuracy_max\", \"run_name\": \"MaxAbsScaler, XGBoostClassifier\", \"run_properties\": \"copy=True\", \"primary_metric\": 0.92861538, \"best_metric\": 0.92861538}, {\"run_id\": \"AutoML_7fed8c43-0848-40f2-a2b1-18f977fb2fde_2\", \"run_number\": 40, \"metric\": null, \"status\": \"Completed\", \"run_type\": \"azureml.scriptrun\", \"training_percent\": \"100\", \"start_time\": \"2021-02-09T20:13:30.437824Z\", \"end_time\": \"2021-02-09T20:14:38.114064Z\", \"created_time\": \"2021-02-09T20:13:18.450713Z\", \"created_time_dt\": \"2021-02-09T20:13:18.450713Z\", \"duration\": \"0:01:19\", \"iteration\": \"2\", \"goal\": \"accuracy_max\", \"run_name\": \"MinMaxScaler, RandomForest\", \"run_properties\": \"copy=True, feature_range=(0, 1\", \"primary_metric\": 0.93661538, \"best_metric\": 0.93661538}, {\"run_id\": \"AutoML_7fed8c43-0848-40f2-a2b1-18f977fb2fde_3\", \"run_number\": 41, \"metric\": null, \"status\": \"Completed\", \"run_type\": \"azureml.scriptrun\", \"training_percent\": \"100\", \"start_time\": \"2021-02-09T20:17:13.068889Z\", \"end_time\": \"2021-02-09T20:18:05.984986Z\", \"created_time\": \"2021-02-09T20:14:40.82457Z\", \"created_time_dt\": \"2021-02-09T20:14:40.82457Z\", \"duration\": \"0:03:25\", \"iteration\": \"3\", \"goal\": \"accuracy_max\", \"run_name\": \"MinMaxScaler, RandomForest\", \"run_properties\": \"copy=True, feature_range=(0, 1\", \"primary_metric\": 0.94461538, \"best_metric\": 0.94461538}, {\"run_id\": \"AutoML_7fed8c43-0848-40f2-a2b1-18f977fb2fde_4\", \"run_number\": 42, \"metric\": null, \"status\": \"Completed\", \"run_type\": \"azureml.scriptrun\", \"training_percent\": \"100\", \"start_time\": \"2021-02-09T20:18:36.150966Z\", \"end_time\": \"2021-02-09T20:22:05.448844Z\", \"created_time\": \"2021-02-09T20:18:08.988051Z\", \"created_time_dt\": \"2021-02-09T20:18:08.988051Z\", \"duration\": \"0:03:56\", \"iteration\": \"4\", \"goal\": \"accuracy_max\", \"run_name\": \"MinMaxScaler, RandomForest\", \"run_properties\": \"copy=True, feature_range=(0, 1\", \"primary_metric\": 0.95261538, \"best_metric\": 0.95261538}, {\"run_id\": \"AutoML_7fed8c43-0848-40f2-a2b1-18f977fb2fde_5\", \"run_number\": 43, \"metric\": null, \"status\": \"Completed\", \"run_type\": \"azureml.scriptrun\", \"training_percent\": \"100\", \"start_time\": \"2021-02-09T20:22:19.009367Z\", \"end_time\": \"2021-02-09T20:23:15.923385Z\", \"created_time\": \"2021-02-09T20:22:08.027131Z\", \"created_time_dt\": \"2021-02-09T20:22:08.027131Z\", \"duration\": \"0:01:07\", \"iteration\": \"5\", \"goal\": \"accuracy_max\", \"run_name\": \"MinMaxScaler, SVM\", \"run_properties\": \"copy=True, feature_range=(0, 1\", \"primary_metric\": 0.92830769, \"best_metric\": 0.95261538}, {\"run_id\": \"AutoML_7fed8c43-0848-40f2-a2b1-18f977fb2fde_6\", \"run_number\": 44, \"metric\": null, \"status\": \"Completed\", \"run_type\": \"azureml.scriptrun\", \"training_percent\": \"100\", \"start_time\": \"2021-02-09T20:23:31.979377Z\", \"end_time\": \"2021-02-09T20:24:34.870299Z\", \"created_time\": \"2021-02-09T20:23:19.07389Z\", \"created_time_dt\": \"2021-02-09T20:23:19.07389Z\", \"duration\": \"0:01:15\", \"iteration\": \"6\", \"goal\": \"accuracy_max\", \"run_name\": \"MaxAbsScaler, GradientBoosting\", \"run_properties\": \"copy=True\", \"primary_metric\": 0.93661538, \"best_metric\": 0.95261538}, {\"run_id\": \"AutoML_7fed8c43-0848-40f2-a2b1-18f977fb2fde_7\", \"run_number\": 45, \"metric\": null, \"status\": \"Completed\", \"run_type\": \"azureml.scriptrun\", \"training_percent\": \"100\", \"start_time\": \"2021-02-09T20:24:56.400939Z\", \"end_time\": \"2021-02-09T20:25:50.365996Z\", \"created_time\": \"2021-02-09T20:24:36.580824Z\", \"created_time_dt\": \"2021-02-09T20:24:36.580824Z\", \"duration\": \"0:01:13\", \"iteration\": \"7\", \"goal\": \"accuracy_max\", \"run_name\": \"StandardScalerWrapper, RandomForest\", \"run_properties\": \"<azureml.automl.runtime.shared.model_wrappers.StandardScalerWrapper object at 0x7fea605b9908\", \"primary_metric\": 0.93661538, \"best_metric\": 0.95261538}, {\"run_id\": \"AutoML_7fed8c43-0848-40f2-a2b1-18f977fb2fde_8\", \"run_number\": 46, \"metric\": null, \"status\": \"Canceled\", \"run_type\": \"azureml.scriptrun\", \"training_percent\": \"100\", \"start_time\": \"2021-02-09T20:26:05.184549Z\", \"end_time\": \"2021-02-09T20:26:34.502996Z\", \"created_time\": \"2021-02-09T20:25:54.211554Z\", \"created_time_dt\": \"2021-02-09T20:25:54.211554Z\", \"duration\": \"0:00:40\", \"iteration\": \"8\", \"goal\": null, \"run_name\": \"Canceled\", \"run_properties\": null}, {\"run_id\": \"AutoML_7fed8c43-0848-40f2-a2b1-18f977fb2fde_9\", \"run_number\": 47, \"metric\": null, \"status\": \"Completed\", \"run_type\": \"azureml.scriptrun\", \"training_percent\": \"100\", \"start_time\": \"2021-02-09T20:26:48.516624Z\", \"end_time\": \"2021-02-09T20:27:51.138108Z\", \"created_time\": \"2021-02-09T20:26:35.411648Z\", \"created_time_dt\": \"2021-02-09T20:26:35.411648Z\", \"duration\": \"0:01:15\", \"iteration\": \"9\", \"goal\": \"accuracy_max\", \"run_name\": \"VotingEnsemble\", \"run_properties\": \"classification_labels=None,\\n                              estimators=[('4',\\n                                           Pipeline(memory=None,\\n                                                    steps=[('minmaxscaler',\\n                                                            MinMaxScaler(copy=True,\\n                                                                         feature_range=(0,\\n                                                                                        1\", \"primary_metric\": 0.94461538, \"best_metric\": 0.95261538}, {\"run_id\": \"AutoML_7fed8c43-0848-40f2-a2b1-18f977fb2fde_10\", \"run_number\": 48, \"metric\": null, \"status\": \"Completed\", \"run_type\": \"azureml.scriptrun\", \"training_percent\": \"100\", \"start_time\": \"2021-02-09T20:28:05.476074Z\", \"end_time\": \"2021-02-09T20:31:28.637969Z\", \"created_time\": \"2021-02-09T20:27:52.850611Z\", \"created_time_dt\": \"2021-02-09T20:27:52.850611Z\", \"duration\": \"0:03:35\", \"iteration\": \"10\", \"goal\": \"accuracy_max\", \"run_name\": \"StackEnsemble\", \"run_properties\": \"base_learners=[('4',\\n                                        Pipeline(memory=None,\\n                                                 steps=[('minmaxscaler',\\n                                                         MinMaxScaler(copy=True,\\n                                                                      feature_range=(0,\\n                                                                                     1\", \"primary_metric\": 0.94461538, \"best_metric\": 0.95261538}], \"children_metrics\": {\"categories\": [0], \"series\": {\"norm_macro_recall\": [{\"categories\": [\"0\", \"1\", \"2\", \"3\", \"4\", \"5\", \"6\", \"7\", \"9\", \"10\"], \"mode\": \"markers\", \"name\": \"norm_macro_recall\", \"stepped\": false, \"type\": \"scatter\", \"data\": [0.893088023088023, 0.8969841269841268, 0.9080952380952378, 0.9192063492063491, 0.9292063492063491, 0.9023809523809522, 0.9080952380952378, 0.9069841269841268, 0.9192063492063491, 0.9192063492063491]}, {\"categories\": [\"0\", \"1\", \"2\", \"3\", \"4\", \"5\", \"6\", \"7\", \"9\", \"10\"], \"mode\": \"lines\", \"name\": \"norm_macro_recall_max\", \"stepped\": true, \"type\": \"scatter\", \"data\": [0.893088023088023, 0.8969841269841268, 0.9080952380952378, 0.9192063492063491, 0.9292063492063491, 0.9292063492063491, 0.9292063492063491, 0.9292063492063491, 0.9292063492063491, 0.9292063492063491]}], \"log_loss\": [{\"categories\": [\"0\", \"1\", \"2\", \"3\", \"4\", \"5\", \"6\", \"7\", \"9\", \"10\"], \"mode\": \"markers\", \"name\": \"log_loss\", \"stepped\": false, \"type\": \"scatter\", \"data\": [0.24399144672643974, 0.21915317864152134, 0.37293742584469297, 0.13710180419716947, 0.09704204633367444, 0.22667533160794467, 0.18321253888579395, 0.16103865456203334, 0.12269018244172988, 0.1700156701283406]}, {\"categories\": [\"0\", \"1\", \"2\", \"3\", \"4\", \"5\", \"6\", \"7\", \"9\", \"10\"], \"mode\": \"lines\", \"name\": \"log_loss_min\", \"stepped\": true, \"type\": \"scatter\", \"data\": [0.24399144672643974, 0.21915317864152134, 0.21915317864152134, 0.13710180419716947, 0.09704204633367444, 0.09704204633367444, 0.09704204633367444, 0.09704204633367444, 0.09704204633367444, 0.09704204633367444]}], \"recall_score_macro\": [{\"categories\": [\"0\", \"1\", \"2\", \"3\", \"4\", \"5\", \"6\", \"7\", \"9\", \"10\"], \"mode\": \"markers\", \"name\": \"recall_score_macro\", \"stepped\": false, \"type\": \"scatter\", \"data\": [0.9287253487253487, 0.9313227513227513, 0.9387301587301586, 0.9461375661375662, 0.9528042328042329, 0.9349206349206349, 0.9387301587301586, 0.9379894179894179, 0.9461375661375662, 0.9461375661375662]}, {\"categories\": [\"0\", \"1\", \"2\", \"3\", \"4\", \"5\", \"6\", \"7\", \"9\", \"10\"], \"mode\": \"lines\", \"name\": \"recall_score_macro_max\", \"stepped\": true, \"type\": \"scatter\", \"data\": [0.9287253487253487, 0.9313227513227513, 0.9387301587301586, 0.9461375661375662, 0.9528042328042329, 0.9528042328042329, 0.9528042328042329, 0.9528042328042329, 0.9528042328042329, 0.9528042328042329]}], \"AUC_micro\": [{\"categories\": [\"0\", \"1\", \"2\", \"3\", \"4\", \"5\", \"6\", \"7\", \"9\", \"10\"], \"mode\": \"markers\", \"name\": \"AUC_micro\", \"stepped\": false, \"type\": \"scatter\", \"data\": [0.9874807100591717, 0.9813704142011833, 0.988872426035503, 0.9947682840236686, 0.997512426035503, 0.9872844970414201, 0.9865931360946746, 0.9920844970414201, 0.9959003550295857, 0.9938082840236687]}, {\"categories\": [\"0\", \"1\", \"2\", \"3\", \"4\", \"5\", \"6\", \"7\", \"9\", \"10\"], \"mode\": \"lines\", \"name\": \"AUC_micro_max\", \"stepped\": true, \"type\": \"scatter\", \"data\": [0.9874807100591717, 0.9874807100591717, 0.988872426035503, 0.9947682840236686, 0.997512426035503, 0.997512426035503, 0.997512426035503, 0.997512426035503, 0.997512426035503, 0.997512426035503]}], \"f1_score_weighted\": [{\"categories\": [\"0\", \"1\", \"2\", \"3\", \"4\", \"5\", \"6\", \"7\", \"9\", \"10\"], \"mode\": \"markers\", \"name\": \"f1_score_weighted\", \"stepped\": false, \"type\": \"scatter\", \"data\": [0.9206039924987295, 0.9275820144767513, 0.9359930152406932, 0.9441274690222059, 0.952082651095035, 0.9286961883286888, 0.9359930152406932, 0.935720287967966, 0.9441274690222059, 0.9441274690222059]}, {\"categories\": [\"0\", \"1\", \"2\", \"3\", \"4\", \"5\", \"6\", \"7\", \"9\", \"10\"], \"mode\": \"lines\", \"name\": \"f1_score_weighted_max\", \"stepped\": true, \"type\": \"scatter\", \"data\": [0.9206039924987295, 0.9275820144767513, 0.9359930152406932, 0.9441274690222059, 0.952082651095035, 0.952082651095035, 0.952082651095035, 0.952082651095035, 0.952082651095035, 0.952082651095035]}], \"accuracy\": [{\"categories\": [\"0\", \"1\", \"2\", \"3\", \"4\", \"5\", \"6\", \"7\", \"9\", \"10\"], \"mode\": \"markers\", \"name\": \"accuracy\", \"stepped\": false, \"type\": \"scatter\", \"data\": [0.9206153846153846, 0.9286153846153846, 0.9366153846153846, 0.9446153846153846, 0.9526153846153846, 0.9283076923076923, 0.9366153846153846, 0.9366153846153846, 0.9446153846153846, 0.9446153846153846]}, {\"categories\": [\"0\", \"1\", \"2\", \"3\", \"4\", \"5\", \"6\", \"7\", \"9\", \"10\"], \"mode\": \"lines\", \"name\": \"accuracy_max\", \"stepped\": true, \"type\": \"scatter\", \"data\": [0.9206153846153846, 0.9286153846153846, 0.9366153846153846, 0.9446153846153846, 0.9526153846153846, 0.9526153846153846, 0.9526153846153846, 0.9526153846153846, 0.9526153846153846, 0.9526153846153846]}], \"recall_score_micro\": [{\"categories\": [\"0\", \"1\", \"2\", \"3\", \"4\", \"5\", \"6\", \"7\", \"9\", \"10\"], \"mode\": \"markers\", \"name\": \"recall_score_micro\", \"stepped\": false, \"type\": \"scatter\", \"data\": [0.9206153846153846, 0.9286153846153846, 0.9366153846153846, 0.9446153846153846, 0.9526153846153846, 0.9283076923076923, 0.9366153846153846, 0.9366153846153846, 0.9446153846153846, 0.9446153846153846]}, {\"categories\": [\"0\", \"1\", \"2\", \"3\", \"4\", \"5\", \"6\", \"7\", \"9\", \"10\"], \"mode\": \"lines\", \"name\": \"recall_score_micro_max\", \"stepped\": true, \"type\": \"scatter\", \"data\": [0.9206153846153846, 0.9286153846153846, 0.9366153846153846, 0.9446153846153846, 0.9526153846153846, 0.9526153846153846, 0.9526153846153846, 0.9526153846153846, 0.9526153846153846, 0.9526153846153846]}], \"precision_score_weighted\": [{\"categories\": [\"0\", \"1\", \"2\", \"3\", \"4\", \"5\", \"6\", \"7\", \"9\", \"10\"], \"mode\": \"markers\", \"name\": \"precision_score_weighted\", \"stepped\": false, \"type\": \"scatter\", \"data\": [0.9256630036630037, 0.9340298675683292, 0.9407701273085889, 0.9483155818540434, 0.9570428545813161, 0.9384032634032634, 0.9407701273085889, 0.9434367939752555, 0.9483155818540434, 0.9483155818540434]}, {\"categories\": [\"0\", \"1\", \"2\", \"3\", \"4\", \"5\", \"6\", \"7\", \"9\", \"10\"], \"mode\": \"lines\", \"name\": \"precision_score_weighted_max\", \"stepped\": true, \"type\": \"scatter\", \"data\": [0.9256630036630037, 0.9340298675683292, 0.9407701273085889, 0.9483155818540434, 0.9570428545813161, 0.9570428545813161, 0.9570428545813161, 0.9570428545813161, 0.9570428545813161, 0.9570428545813161]}], \"precision_score_macro\": [{\"categories\": [\"0\", \"1\", \"2\", \"3\", \"4\", \"5\", \"6\", \"7\", \"9\", \"10\"], \"mode\": \"markers\", \"name\": \"precision_score_macro\", \"stepped\": false, \"type\": \"scatter\", \"data\": [0.9163732563732563, 0.9383679283679284, 0.9441038591038591, 0.9504843304843306, 0.9584977984977986, 0.9349158249158249, 0.9441038591038591, 0.9470668220668221, 0.9504843304843306, 0.9504843304843306]}, {\"categories\": [\"0\", \"1\", \"2\", \"3\", \"4\", \"5\", \"6\", \"7\", \"9\", \"10\"], \"mode\": \"lines\", \"name\": \"precision_score_macro_max\", \"stepped\": true, \"type\": \"scatter\", \"data\": [0.9163732563732563, 0.9383679283679284, 0.9441038591038591, 0.9504843304843306, 0.9584977984977986, 0.9584977984977986, 0.9584977984977986, 0.9584977984977986, 0.9584977984977986, 0.9584977984977986]}], \"recall_score_weighted\": [{\"categories\": [\"0\", \"1\", \"2\", \"3\", \"4\", \"5\", \"6\", \"7\", \"9\", \"10\"], \"mode\": \"markers\", \"name\": \"recall_score_weighted\", \"stepped\": false, \"type\": \"scatter\", \"data\": [0.9206153846153846, 0.9286153846153846, 0.9366153846153846, 0.9446153846153846, 0.9526153846153846, 0.9283076923076923, 0.9366153846153846, 0.9366153846153846, 0.9446153846153846, 0.9446153846153846]}, {\"categories\": [\"0\", \"1\", \"2\", \"3\", \"4\", \"5\", \"6\", \"7\", \"9\", \"10\"], \"mode\": \"lines\", \"name\": \"recall_score_weighted_max\", \"stepped\": true, \"type\": \"scatter\", \"data\": [0.9206153846153846, 0.9286153846153846, 0.9366153846153846, 0.9446153846153846, 0.9526153846153846, 0.9526153846153846, 0.9526153846153846, 0.9526153846153846, 0.9526153846153846, 0.9526153846153846]}], \"f1_score_macro\": [{\"categories\": [\"0\", \"1\", \"2\", \"3\", \"4\", \"5\", \"6\", \"7\", \"9\", \"10\"], \"mode\": \"markers\", \"name\": \"f1_score_macro\", \"stepped\": false, \"type\": \"scatter\", \"data\": [0.9192858408647883, 0.9309020024809499, 0.938401365862666, 0.9456158071947545, 0.9525937094667745, 0.9294613333999523, 0.938401365862666, 0.9380815005428008, 0.9456158071947545, 0.9456158071947545]}, {\"categories\": [\"0\", \"1\", \"2\", \"3\", \"4\", \"5\", \"6\", \"7\", \"9\", \"10\"], \"mode\": \"lines\", \"name\": \"f1_score_macro_max\", \"stepped\": true, \"type\": \"scatter\", \"data\": [0.9192858408647883, 0.9309020024809499, 0.938401365862666, 0.9456158071947545, 0.9525937094667745, 0.9525937094667745, 0.9525937094667745, 0.9525937094667745, 0.9525937094667745, 0.9525937094667745]}], \"AUC_weighted\": [{\"categories\": [\"0\", \"1\", \"2\", \"3\", \"4\", \"5\", \"6\", \"7\", \"9\", \"10\"], \"mode\": \"markers\", \"name\": \"AUC_weighted\", \"stepped\": false, \"type\": \"scatter\", \"data\": [0.9843802968960864, 0.9809736842105263, 0.985798987854251, 0.9928666666666667, 0.9959823211875843, 0.9852518218623482, 0.9848677462887989, 0.9902118083670715, 0.9959951417004049, 0.9948333333333335]}, {\"categories\": [\"0\", \"1\", \"2\", \"3\", \"4\", \"5\", \"6\", \"7\", \"9\", \"10\"], \"mode\": \"lines\", \"name\": \"AUC_weighted_max\", \"stepped\": true, \"type\": \"scatter\", \"data\": [0.9843802968960864, 0.9843802968960864, 0.985798987854251, 0.9928666666666667, 0.9959823211875843, 0.9959823211875843, 0.9959823211875843, 0.9959823211875843, 0.9959951417004049, 0.9959951417004049]}], \"balanced_accuracy\": [{\"categories\": [\"0\", \"1\", \"2\", \"3\", \"4\", \"5\", \"6\", \"7\", \"9\", \"10\"], \"mode\": \"markers\", \"name\": \"balanced_accuracy\", \"stepped\": false, \"type\": \"scatter\", \"data\": [0.9287253487253487, 0.9313227513227513, 0.9387301587301586, 0.9461375661375662, 0.9528042328042329, 0.9349206349206349, 0.9387301587301586, 0.9379894179894179, 0.9461375661375662, 0.9461375661375662]}, {\"categories\": [\"0\", \"1\", \"2\", \"3\", \"4\", \"5\", \"6\", \"7\", \"9\", \"10\"], \"mode\": \"lines\", \"name\": \"balanced_accuracy_max\", \"stepped\": true, \"type\": \"scatter\", \"data\": [0.9287253487253487, 0.9313227513227513, 0.9387301587301586, 0.9461375661375662, 0.9528042328042329, 0.9528042328042329, 0.9528042328042329, 0.9528042328042329, 0.9528042328042329, 0.9528042328042329]}], \"average_precision_score_micro\": [{\"categories\": [\"0\", \"1\", \"2\", \"3\", \"4\", \"5\", \"6\", \"7\", \"9\", \"10\"], \"mode\": \"markers\", \"name\": \"average_precision_score_micro\", \"stepped\": false, \"type\": \"scatter\", \"data\": [0.9757814052929372, 0.9665231745513638, 0.9771953592922709, 0.9896515753240578, 0.9953006054481918, 0.9766774843443956, 0.9756305514062236, 0.9851354180298568, 0.992254667391579, 0.9884008771605458]}, {\"categories\": [\"0\", \"1\", \"2\", \"3\", \"4\", \"5\", \"6\", \"7\", \"9\", \"10\"], \"mode\": \"lines\", \"name\": \"average_precision_score_micro_max\", \"stepped\": true, \"type\": \"scatter\", \"data\": [0.9757814052929372, 0.9757814052929372, 0.9771953592922709, 0.9896515753240578, 0.9953006054481918, 0.9953006054481918, 0.9953006054481918, 0.9953006054481918, 0.9953006054481918, 0.9953006054481918]}], \"weighted_accuracy\": [{\"categories\": [\"0\", \"1\", \"2\", \"3\", \"4\", \"5\", \"6\", \"7\", \"9\", \"10\"], \"mode\": \"markers\", \"name\": \"weighted_accuracy\", \"stepped\": false, \"type\": \"scatter\", \"data\": [0.9153486522616454, 0.9275323959194927, 0.9358273267950686, 0.9441222576706447, 0.9533388475323958, 0.9240324550001968, 0.9358273267950686, 0.9367489857812437, 0.9441222576706447, 0.9441222576706447]}, {\"categories\": [\"0\", \"1\", \"2\", \"3\", \"4\", \"5\", \"6\", \"7\", \"9\", \"10\"], \"mode\": \"lines\", \"name\": \"weighted_accuracy_max\", \"stepped\": true, \"type\": \"scatter\", \"data\": [0.9153486522616454, 0.9275323959194927, 0.9358273267950686, 0.9441222576706447, 0.9533388475323958, 0.9533388475323958, 0.9533388475323958, 0.9533388475323958, 0.9533388475323958, 0.9533388475323958]}], \"AUC_macro\": [{\"categories\": [\"0\", \"1\", \"2\", \"3\", \"4\", \"5\", \"6\", \"7\", \"9\", \"10\"], \"mode\": \"markers\", \"name\": \"AUC_macro\", \"stepped\": false, \"type\": \"scatter\", \"data\": [0.9844322675375305, 0.9811461102250576, 0.9870669286853497, 0.9934444444444445, 0.9963724842409054, 0.9868964836333257, 0.9848131692868535, 0.9900450431634642, 0.9963135616819828, 0.9954629629629629]}, {\"categories\": [\"0\", \"1\", \"2\", \"3\", \"4\", \"5\", \"6\", \"7\", \"9\", \"10\"], \"mode\": \"lines\", \"name\": \"AUC_macro_max\", \"stepped\": true, \"type\": \"scatter\", \"data\": [0.9844322675375305, 0.9844322675375305, 0.9870669286853497, 0.9934444444444445, 0.9963724842409054, 0.9963724842409054, 0.9963724842409054, 0.9963724842409054, 0.9963724842409054, 0.9963724842409054]}], \"precision_score_micro\": [{\"categories\": [\"0\", \"1\", \"2\", \"3\", \"4\", \"5\", \"6\", \"7\", \"9\", \"10\"], \"mode\": \"markers\", \"name\": \"precision_score_micro\", \"stepped\": false, \"type\": \"scatter\", \"data\": [0.9206153846153846, 0.9286153846153846, 0.9366153846153846, 0.9446153846153846, 0.9526153846153846, 0.9283076923076923, 0.9366153846153846, 0.9366153846153846, 0.9446153846153846, 0.9446153846153846]}, {\"categories\": [\"0\", \"1\", \"2\", \"3\", \"4\", \"5\", \"6\", \"7\", \"9\", \"10\"], \"mode\": \"lines\", \"name\": \"precision_score_micro_max\", \"stepped\": true, \"type\": \"scatter\", \"data\": [0.9206153846153846, 0.9286153846153846, 0.9366153846153846, 0.9446153846153846, 0.9526153846153846, 0.9526153846153846, 0.9526153846153846, 0.9526153846153846, 0.9526153846153846, 0.9526153846153846]}], \"average_precision_score_weighted\": [{\"categories\": [\"0\", \"1\", \"2\", \"3\", \"4\", \"5\", \"6\", \"7\", \"9\", \"10\"], \"mode\": \"markers\", \"name\": \"average_precision_score_weighted\", \"stepped\": false, \"type\": \"scatter\", \"data\": [0.9703120435120434, 0.9747633255633256, 0.9760471328671327, 0.9876225330225331, 0.9938479409479409, 0.9776846486846488, 0.9723216783216783, 0.980092451992452, 0.993834421134421, 0.9924831390831391]}, {\"categories\": [\"0\", \"1\", \"2\", \"3\", \"4\", \"5\", \"6\", \"7\", \"9\", \"10\"], \"mode\": \"lines\", \"name\": \"average_precision_score_weighted_max\", \"stepped\": true, \"type\": \"scatter\", \"data\": [0.9703120435120434, 0.9747633255633256, 0.9760471328671327, 0.9876225330225331, 0.9938479409479409, 0.9938479409479409, 0.9938479409479409, 0.9938479409479409, 0.9938479409479409, 0.9938479409479409]}], \"average_precision_score_macro\": [{\"categories\": [\"0\", \"1\", \"2\", \"3\", \"4\", \"5\", \"6\", \"7\", \"9\", \"10\"], \"mode\": \"markers\", \"name\": \"average_precision_score_macro\", \"stepped\": false, \"type\": \"scatter\", \"data\": [0.966064662983855, 0.9706454895646814, 0.9778112073112073, 0.9880795706351263, 0.9942827748383303, 0.9797875265400517, 0.9662864008419565, 0.9761612872723984, 0.9941817647373202, 0.9933522979078535]}, {\"categories\": [\"0\", \"1\", \"2\", \"3\", \"4\", \"5\", \"6\", \"7\", \"9\", \"10\"], \"mode\": \"lines\", \"name\": \"average_precision_score_macro_max\", \"stepped\": true, \"type\": \"scatter\", \"data\": [0.966064662983855, 0.9706454895646814, 0.9778112073112073, 0.9880795706351263, 0.9942827748383303, 0.9942827748383303, 0.9942827748383303, 0.9942827748383303, 0.9942827748383303, 0.9942827748383303]}], \"matthews_correlation\": [{\"categories\": [\"0\", \"1\", \"2\", \"3\", \"4\", \"5\", \"6\", \"7\", \"9\", \"10\"], \"mode\": \"markers\", \"name\": \"matthews_correlation\", \"stepped\": false, \"type\": \"scatter\", \"data\": [0.8797777952535645, 0.8936176403243306, 0.9049106570709993, 0.9168520707259962, 0.9295414977974202, 0.8951156516139698, 0.9049106570709993, 0.9065546197537724, 0.9168520707259962, 0.9168520707259962]}, {\"categories\": [\"0\", \"1\", \"2\", \"3\", \"4\", \"5\", \"6\", \"7\", \"9\", \"10\"], \"mode\": \"lines\", \"name\": \"matthews_correlation_max\", \"stepped\": true, \"type\": \"scatter\", \"data\": [0.8797777952535645, 0.8936176403243306, 0.9049106570709993, 0.9168520707259962, 0.9295414977974202, 0.9295414977974202, 0.9295414977974202, 0.9295414977974202, 0.9295414977974202, 0.9295414977974202]}], \"f1_score_micro\": [{\"categories\": [\"0\", \"1\", \"2\", \"3\", \"4\", \"5\", \"6\", \"7\", \"9\", \"10\"], \"mode\": \"markers\", \"name\": \"f1_score_micro\", \"stepped\": false, \"type\": \"scatter\", \"data\": [0.9206153846153846, 0.9286153846153846, 0.9366153846153846, 0.9446153846153846, 0.9526153846153846, 0.9283076923076923, 0.9366153846153846, 0.9366153846153846, 0.9446153846153846, 0.9446153846153846]}, {\"categories\": [\"0\", \"1\", \"2\", \"3\", \"4\", \"5\", \"6\", \"7\", \"9\", \"10\"], \"mode\": \"lines\", \"name\": \"f1_score_micro_max\", \"stepped\": true, \"type\": \"scatter\", \"data\": [0.9206153846153846, 0.9286153846153846, 0.9366153846153846, 0.9446153846153846, 0.9526153846153846, 0.9526153846153846, 0.9526153846153846, 0.9526153846153846, 0.9526153846153846, 0.9526153846153846]}]}, \"metricName\": null, \"primaryMetricName\": \"accuracy\", \"showLegend\": false}, \"run_metrics\": [{\"name\": \"experiment_status\", \"run_id\": \"AutoML_7fed8c43-0848-40f2-a2b1-18f977fb2fde\", \"categories\": [0, 1, 2, 3, 4, 5], \"series\": [{\"data\": [\"DatasetEvaluation\", \"FeaturesGeneration\", \"DatasetFeaturization\", \"DatasetFeaturizationCompleted\", \"DatasetCrossValidationSplit\", \"ModelSelection\"]}]}, {\"name\": \"experiment_status_description\", \"run_id\": \"AutoML_7fed8c43-0848-40f2-a2b1-18f977fb2fde\", \"categories\": [0, 1, 2, 3, 4, 5], \"series\": [{\"data\": [\"Gathering dataset statistics.\", \"Generating features for the dataset.\", \"Beginning to fit featurizers and featurize the dataset.\", \"Completed fit featurizers and featurizing the dataset.\", \"Generating individually featurized CV splits.\", \"Beginning model selection.\"]}]}, {\"name\": \"balanced_accuracy\", \"run_id\": \"AutoML_7fed8c43-0848-40f2-a2b1-18f977fb2fde\", \"categories\": [0], \"series\": [{\"data\": [0.9528042328042329]}]}, {\"name\": \"recall_score_macro\", \"run_id\": \"AutoML_7fed8c43-0848-40f2-a2b1-18f977fb2fde\", \"categories\": [0], \"series\": [{\"data\": [0.9528042328042329]}]}, {\"name\": \"average_precision_score_macro\", \"run_id\": \"AutoML_7fed8c43-0848-40f2-a2b1-18f977fb2fde\", \"categories\": [0], \"series\": [{\"data\": [0.9942827748383303]}]}, {\"name\": \"average_precision_score_weighted\", \"run_id\": \"AutoML_7fed8c43-0848-40f2-a2b1-18f977fb2fde\", \"categories\": [0], \"series\": [{\"data\": [0.9938479409479409]}]}, {\"name\": \"matthews_correlation\", \"run_id\": \"AutoML_7fed8c43-0848-40f2-a2b1-18f977fb2fde\", \"categories\": [0], \"series\": [{\"data\": [0.9295414977974202]}]}, {\"name\": \"recall_score_micro\", \"run_id\": \"AutoML_7fed8c43-0848-40f2-a2b1-18f977fb2fde\", \"categories\": [0], \"series\": [{\"data\": [0.9526153846153846]}]}, {\"name\": \"accuracy\", \"run_id\": \"AutoML_7fed8c43-0848-40f2-a2b1-18f977fb2fde\", \"categories\": [0], \"series\": [{\"data\": [0.9526153846153846]}]}, {\"name\": \"f1_score_micro\", \"run_id\": \"AutoML_7fed8c43-0848-40f2-a2b1-18f977fb2fde\", \"categories\": [0], \"series\": [{\"data\": [0.9526153846153846]}]}, {\"name\": \"precision_score_macro\", \"run_id\": \"AutoML_7fed8c43-0848-40f2-a2b1-18f977fb2fde\", \"categories\": [0], \"series\": [{\"data\": [0.9584977984977986]}]}, {\"name\": \"AUC_micro\", \"run_id\": \"AutoML_7fed8c43-0848-40f2-a2b1-18f977fb2fde\", \"categories\": [0], \"series\": [{\"data\": [0.997512426035503]}]}, {\"name\": \"log_loss\", \"run_id\": \"AutoML_7fed8c43-0848-40f2-a2b1-18f977fb2fde\", \"categories\": [0], \"series\": [{\"data\": [0.09704204633367444]}]}, {\"name\": \"weighted_accuracy\", \"run_id\": \"AutoML_7fed8c43-0848-40f2-a2b1-18f977fb2fde\", \"categories\": [0], \"series\": [{\"data\": [0.9533388475323958]}]}, {\"name\": \"f1_score_macro\", \"run_id\": \"AutoML_7fed8c43-0848-40f2-a2b1-18f977fb2fde\", \"categories\": [0], \"series\": [{\"data\": [0.9525937094667745]}]}, {\"name\": \"recall_score_weighted\", \"run_id\": \"AutoML_7fed8c43-0848-40f2-a2b1-18f977fb2fde\", \"categories\": [0], \"series\": [{\"data\": [0.9526153846153846]}]}, {\"name\": \"f1_score_weighted\", \"run_id\": \"AutoML_7fed8c43-0848-40f2-a2b1-18f977fb2fde\", \"categories\": [0], \"series\": [{\"data\": [0.952082651095035]}]}, {\"name\": \"AUC_weighted\", \"run_id\": \"AutoML_7fed8c43-0848-40f2-a2b1-18f977fb2fde\", \"categories\": [0], \"series\": [{\"data\": [0.9959823211875843]}]}, {\"name\": \"precision_score_weighted\", \"run_id\": \"AutoML_7fed8c43-0848-40f2-a2b1-18f977fb2fde\", \"categories\": [0], \"series\": [{\"data\": [0.9570428545813161]}]}, {\"name\": \"average_precision_score_micro\", \"run_id\": \"AutoML_7fed8c43-0848-40f2-a2b1-18f977fb2fde\", \"categories\": [0], \"series\": [{\"data\": [0.9953006054481918]}]}, {\"name\": \"norm_macro_recall\", \"run_id\": \"AutoML_7fed8c43-0848-40f2-a2b1-18f977fb2fde\", \"categories\": [0], \"series\": [{\"data\": [0.9292063492063491]}]}, {\"name\": \"AUC_macro\", \"run_id\": \"AutoML_7fed8c43-0848-40f2-a2b1-18f977fb2fde\", \"categories\": [0], \"series\": [{\"data\": [0.9963724842409054]}]}, {\"name\": \"precision_score_micro\", \"run_id\": \"AutoML_7fed8c43-0848-40f2-a2b1-18f977fb2fde\", \"categories\": [0], \"series\": [{\"data\": [0.9526153846153846]}]}], \"run_logs\": \"\\nRun is completed.\", \"graph\": {}, \"widget_settings\": {\"childWidgetDisplay\": \"popup\", \"send_telemetry\": false, \"log_level\": \"INFO\", \"sdk_version\": \"1.20.0\"}, \"loading\": false}"
          },
          "metadata": {}
        }
      ],
      "execution_count": 12,
      "metadata": {
        "gather": {
          "logged": 1612902736491
        },
        "jupyter": {
          "outputs_hidden": false,
          "source_hidden": false
        },
        "nteract": {
          "transient": {
            "deleting": false
          }
        }
      }
    },
    {
      "cell_type": "markdown",
      "source": [
        "## Best Model\n",
        "\n",
        "TODO: In the cell below, get the best model from the automl experiments and display all the properties of the model.\n",
        "\n"
      ],
      "metadata": {}
    },
    {
      "cell_type": "code",
      "source": [
        "best_run, best_model = remote_run.get_output()\n",
        "best_run_metrics = best_run.get_metrics()\n",
        "\n",
        "best_run"
      ],
      "outputs": [
        {
          "output_type": "stream",
          "name": "stderr",
          "text": [
            "WARNING:root:The version of the SDK does not match the version the model was trained on.\n",
            "WARNING:root:The consistency in the result may not be guaranteed.\n",
            "WARNING:root:Package:azureml-automl-core, training version:1.21.0, current version:1.20.0\n",
            "Package:azureml-automl-runtime, training version:1.21.0, current version:1.20.0\n",
            "Package:azureml-core, training version:1.21.0.post1, current version:1.20.0\n",
            "Package:azureml-dataprep, training version:2.8.2, current version:2.7.3\n",
            "Package:azureml-dataprep-native, training version:28.0.0, current version:27.0.0\n",
            "Package:azureml-dataprep-rslex, training version:1.6.0, current version:1.5.0\n",
            "Package:azureml-dataset-runtime, training version:1.21.0, current version:1.20.0\n",
            "Package:azureml-defaults, training version:1.21.0, current version:1.20.0\n",
            "Package:azureml-interpret, training version:1.21.0, current version:1.20.0\n",
            "Package:azureml-pipeline-core, training version:1.21.0, current version:1.20.0\n",
            "Package:azureml-telemetry, training version:1.21.0, current version:1.20.0\n",
            "Package:azureml-train-automl-client, training version:1.21.0, current version:1.20.0\n",
            "Package:azureml-train-automl-runtime, training version:1.21.0, current version:1.20.0\n",
            "WARNING:root:Please ensure the version of your local conda dependencies match the version on which your model was trained in order to properly retrieve your model.\n"
          ]
        },
        {
          "output_type": "execute_result",
          "execution_count": 14,
          "data": {
            "text/plain": "Run(Experiment: capstone,\nId: AutoML_7fed8c43-0848-40f2-a2b1-18f977fb2fde_4,\nType: azureml.scriptrun,\nStatus: Completed)",
            "text/html": "<table style=\"width:100%\"><tr><th>Experiment</th><th>Id</th><th>Type</th><th>Status</th><th>Details Page</th><th>Docs Page</th></tr><tr><td>capstone</td><td>AutoML_7fed8c43-0848-40f2-a2b1-18f977fb2fde_4</td><td>azureml.scriptrun</td><td>Completed</td><td><a href=\"https://ml.azure.com/experiments/capstone/runs/AutoML_7fed8c43-0848-40f2-a2b1-18f977fb2fde_4?wsid=/subscriptions/976ee174-3882-4721-b90a-b5fef6b72f24/resourcegroups/aml-quickstarts-138282/workspaces/quick-starts-ws-138282\" target=\"_blank\" rel=\"noopener\">Link to Azure Machine Learning studio</a></td><td><a href=\"https://docs.microsoft.com/en-us/python/api/azureml-core/azureml.core.run.Run?view=azure-ml-py\" target=\"_blank\" rel=\"noopener\">Link to Documentation</a></td></tr></table>"
          },
          "metadata": {}
        }
      ],
      "execution_count": 14,
      "metadata": {
        "gather": {
          "logged": 1612902830734
        },
        "jupyter": {
          "outputs_hidden": false,
          "source_hidden": false
        },
        "nteract": {
          "transient": {
            "deleting": false
          }
        }
      }
    },
    {
      "cell_type": "code",
      "source": [
        "best_model"
      ],
      "outputs": [
        {
          "output_type": "execute_result",
          "execution_count": 16,
          "data": {
            "text/plain": "PipelineWithYTransformations(Pipeline={'memory': None,\n                                       'steps': [('datatransformer',\n                                                  DataTransformer(enable_dnn=None,\n                                                                  enable_feature_sweeping=None,\n                                                                  feature_sweeping_config=None,\n                                                                  feature_sweeping_timeout=None,\n                                                                  featurization_config=None,\n                                                                  force_text_dnn=None,\n                                                                  is_cross_validation=None,\n                                                                  is_onnx_compatible=None,\n                                                                  logger=None,\n                                                                  observer=None,\n                                                                  task=None,\n                                                                  working_dir=None))...\n                                                                         max_depth=None,\n                                                                         max_features='log2',\n                                                                         max_leaf_nodes=None,\n                                                                         max_samples=None,\n                                                                         min_impurity_decrease=0.0,\n                                                                         min_impurity_split=None,\n                                                                         min_samples_leaf=0.01,\n                                                                         min_samples_split=0.01,\n                                                                         min_weight_fraction_leaf=0.0,\n                                                                         n_estimators=25,\n                                                                         n_jobs=1,\n                                                                         oob_score=True,\n                                                                         random_state=None,\n                                                                         verbose=0,\n                                                                         warm_start=False))],\n                                       'verbose': False},\n                             y_transformer={},\n                             y_transformer_name='LabelEncoder')"
          },
          "metadata": {}
        }
      ],
      "execution_count": 16,
      "metadata": {
        "gather": {
          "logged": 1612902840989
        }
      }
    },
    {
      "cell_type": "code",
      "source": [
        "print('Best Run Id: ', best_run.id)\n",
        "print('Accuracy:', best_run_metrics['accuracy'])\n",
        "print(best_model._final_estimator)"
      ],
      "outputs": [
        {
          "output_type": "stream",
          "name": "stdout",
          "text": [
            "Best Run Id:  AutoML_7fed8c43-0848-40f2-a2b1-18f977fb2fde_4\n",
            "Accuracy: 0.9526153846153846\n",
            "RandomForestClassifier(bootstrap=True, ccp_alpha=0.0, class_weight='balanced',\n",
            "                       criterion='gini', max_depth=None, max_features='log2',\n",
            "                       max_leaf_nodes=None, max_samples=None,\n",
            "                       min_impurity_decrease=0.0, min_impurity_split=None,\n",
            "                       min_samples_leaf=0.01, min_samples_split=0.01,\n",
            "                       min_weight_fraction_leaf=0.0, n_estimators=25, n_jobs=1,\n",
            "                       oob_score=True, random_state=None, verbose=0,\n",
            "                       warm_start=False)\n"
          ]
        }
      ],
      "execution_count": 17,
      "metadata": {
        "gather": {
          "logged": 1612902848026
        }
      }
    },
    {
      "cell_type": "code",
      "source": [
        "#TODO: Save the best model\n",
        "os.makedirs('./outputs', exist_ok=True)\n",
        "\n",
        "joblib.dump(best_model, filename='outputs/automl.joblib')\n",
        "\n",
        "model_name = best_run.properties['model_name']\n",
        "print(model_name)"
      ],
      "outputs": [
        {
          "output_type": "stream",
          "name": "stdout",
          "text": [
            "AutoML7fed8c4304\n"
          ]
        }
      ],
      "execution_count": 18,
      "metadata": {
        "gather": {
          "logged": 1612902860259
        },
        "jupyter": {
          "outputs_hidden": false,
          "source_hidden": false
        },
        "nteract": {
          "transient": {
            "deleting": false
          }
        }
      }
    },
    {
      "cell_type": "markdown",
      "source": [
        "## Model Deployment\n",
        "\n",
        "Remember you have to deploy only one of the two models you trained.. Perform the steps in the rest of this notebook only if you wish to deploy this model.\n",
        "\n",
        "TODO: In the cell below, register the model, create an inference config and deploy the model as a web service."
      ],
      "metadata": {}
    },
    {
      "cell_type": "code",
      "source": [
        "model = best_run.register_model(model_name = 'automl_model', \n",
        "                                                model_path='outputs/automl.joblib')\n",
        "\n",
        "aci_config = AciWebservice.deploy_configuration(cpu_cores=1, memory_gb=2,\n",
        "                                                enable_app_insights=True, auth_enabled=True)  \n",
        "\n",
        "service_name = 'service_aml'\n",
        "service = Model.deploy(ws, service_name, [model], deployment_config=aci_config)\n",
        "service.wait_for_deployment(show_output = True)\n",
        "print(service.state)\n",
        "print(service.scoring_uri)\n"
      ],
      "outputs": [],
      "execution_count": null,
      "metadata": {
        "gather": {
          "logged": 1598431435189
        },
        "jupyter": {
          "outputs_hidden": false,
          "source_hidden": false
        },
        "nteract": {
          "transient": {
            "deleting": false
          }
        }
      }
    },
    {
      "cell_type": "markdown",
      "source": [
        "TODO: In the cell below, send a request to the web service you deployed to test it."
      ],
      "metadata": {
        "collapsed": true,
        "gather": {
          "logged": 1598431657736
        },
        "jupyter": {
          "outputs_hidden": false,
          "source_hidden": false
        },
        "nteract": {
          "transient": {
            "deleting": false
          }
        }
      }
    },
    {
      "cell_type": "code",
      "source": [
        "test_ws = train.tail()\n",
        "target = test_ws['iris_class']\n",
        "test_ws = test_ws[:-1]\n",
        "\n",
        "test_json = json.dumps({'data':test_ws.to_dict(orient='records')})\n",
        "print(test_json)\n",
        "\n",
        "results = service.run(teste_json)\n",
        "print('Model results:', results)\n",
        "print('Actual results:', y_actual.values)"
      ],
      "outputs": [],
      "execution_count": null,
      "metadata": {
        "gather": {
          "logged": 1598432707604
        },
        "jupyter": {
          "outputs_hidden": false,
          "source_hidden": false
        },
        "nteract": {
          "transient": {
            "deleting": false
          }
        }
      }
    },
    {
      "cell_type": "markdown",
      "source": [
        "TODO: In the cell below, print the logs of the web service and delete the service"
      ],
      "metadata": {
        "collapsed": true,
        "gather": {
          "logged": 1598432765711
        },
        "jupyter": {
          "outputs_hidden": false,
          "source_hidden": false
        },
        "nteract": {
          "transient": {
            "deleting": false
          }
        }
      }
    },
    {
      "cell_type": "code",
      "source": [
        "print(service.get_logs())\n",
        "\n",
        "service.delete()"
      ],
      "outputs": [],
      "execution_count": null,
      "metadata": {
        "jupyter": {
          "outputs_hidden": false,
          "source_hidden": false
        },
        "nteract": {
          "transient": {
            "deleting": false
          }
        }
      }
    }
  ],
  "metadata": {
    "kernel_info": {
      "name": "python3"
    },
    "kernelspec": {
      "name": "python3",
      "language": "python",
      "display_name": "Python 3"
    },
    "language_info": {
      "name": "python",
      "version": "3.6.9",
      "mimetype": "text/x-python",
      "codemirror_mode": {
        "name": "ipython",
        "version": 3
      },
      "pygments_lexer": "ipython3",
      "nbconvert_exporter": "python",
      "file_extension": ".py"
    },
    "nteract": {
      "version": "nteract-front-end@1.0.0"
    }
  },
  "nbformat": 4,
  "nbformat_minor": 2
}