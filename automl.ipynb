{
  "cells": [
    {
      "cell_type": "markdown",
      "source": [
        "# Automated ML\n",
        "\n",
        "TODO: Import Dependencies. In the cell below, import all the dependencies that you will need to complete the project."
      ],
      "metadata": {}
    },
    {
      "cell_type": "code",
      "source": [
        "from azureml.core import Workspace, Experiment\n",
        "\n",
        "from azureml.core.compute import ComputeTarget, AmlCompute\n",
        "from azureml.core.compute_target import ComputeTargetException\n",
        "\n",
        "from azureml.data.dataset_factory import TabularDatasetFactory\n",
        "from azureml.core import Dataset\n",
        "\n",
        "#import seaborn as sns\n",
        "from matplotlib import pyplot as plt\n",
        "\n",
        "from sklearn.model_selection import train_test_split\n",
        "\n",
        "from azureml.train.automl import AutoMLConfig\n",
        "\n",
        "from azureml.widgets import RunDetails\n",
        "\n",
        "from azureml.core import Model\n",
        "\n",
        "import joblib\n",
        "\n",
        "from azureml.core.webservice import AciWebservice, Webservice"
      ],
      "outputs": [],
      "execution_count": 21,
      "metadata": {
        "gather": {
          "logged": 1612703982961
        },
        "jupyter": {
          "outputs_hidden": false,
          "source_hidden": false
        },
        "nteract": {
          "transient": {
            "deleting": false
          }
        }
      }
    },
    {
      "cell_type": "markdown",
      "source": [
        "## Dataset\n",
        "\n",
        "### Overview\n",
        "TODO: In this markdown cell, give an overview of the dataset you are using. Also mention the task you will be performing.\n",
        "\n",
        "\n",
        "TODO: Get data. In the cell below, write code to access the data you will be using in this project. Remember that the dataset needs to be external."
      ],
      "metadata": {}
    },
    {
      "cell_type": "code",
      "source": [
        "ws = Workspace.from_config()\n",
        "exp = Experiment(workspace=ws, name=\"capstone\")\n",
        "\n",
        "print('Workspace name: ' + ws.name, \n",
        "      'Azure region: ' + ws.location, \n",
        "      'Subscription id: ' + ws.subscription_id, \n",
        "      'Resource group: ' + ws.resource_group, sep = '\\n')\n",
        "\n",
        "run = exp.start_logging()"
      ],
      "outputs": [
        {
          "output_type": "stream",
          "name": "stdout",
          "text": [
            "Workspace name: quick-starts-ws-137812\n",
            "Azure region: southcentralus\n",
            "Subscription id: b968fb36-f06a-4c76-a15f-afab68ae7667\n",
            "Resource group: aml-quickstarts-137812\n"
          ]
        }
      ],
      "execution_count": 2,
      "metadata": {
        "gather": {
          "logged": 1612701880082
        },
        "jupyter": {
          "outputs_hidden": false,
          "source_hidden": false
        },
        "nteract": {
          "transient": {
            "deleting": false
          }
        }
      }
    },
    {
      "cell_type": "code",
      "source": [
        "cpu_cluster_name = \"udacity-project3\"\n",
        "\n",
        "# Verify that cluster does not exist already\n",
        "try:\n",
        "    cpu_cluster = ComputeTarget(workspace=ws, name=cpu_cluster_name)\n",
        "    print('Found existing cluster, use it.')\n",
        "except ComputeTargetException:\n",
        "    compute_config = AmlCompute.provisioning_configuration(vm_size='STANDARD_D2_V2',\n",
        "                                                           max_nodes=4)\n",
        "    cpu_cluster = ComputeTarget.create(ws, cpu_cluster_name, compute_config)\n",
        "\n",
        "cpu_cluster.wait_for_completion(show_output=True)"
      ],
      "outputs": [
        {
          "output_type": "stream",
          "name": "stdout",
          "text": [
            "Found existing cluster, use it.\n",
            "Succeeded\n",
            "AmlCompute wait for completion finished\n",
            "\n",
            "Minimum number of nodes requested have been provisioned\n"
          ]
        }
      ],
      "execution_count": 3,
      "metadata": {
        "gather": {
          "logged": 1612701884319
        }
      }
    },
    {
      "cell_type": "code",
      "source": [
        "train_link = 'https://raw.githubusercontent.com/piprzyb/Azure3/main/train.csv'\n",
        "test_link = 'https://raw.githubusercontent.com/piprzyb/Azure3/main/test.csv'\n",
        "data_train = Dataset.Tabular.from_delimited_files(path=train_link)\n",
        "data_test = Dataset.Tabular.from_delimited_files(path=test_link)\n",
        "\n",
        "dataset=data_train.to_pandas_dataframe()\n",
        "test = data_test.to_pandas_dataframe()\n",
        "\n",
        "dataset = dataset.append(test)\n",
        "\n",
        "print(dataset.size)\n",
        "dataset.head()"
      ],
      "outputs": [
        {
          "output_type": "stream",
          "name": "stdout",
          "text": [
            "750\n"
          ]
        },
        {
          "output_type": "execute_result",
          "execution_count": 4,
          "data": {
            "text/plain": "   sepal_length  sepal_width  petal_length  petal_width       iris_class\n0           4.6          3.6           1.0          0.2      Iris-setosa\n1           5.7          4.4           1.5          0.4      Iris-setosa\n2           6.7          3.1           4.4          1.4  Iris-versicolor\n3           4.8          3.4           1.6          0.2      Iris-setosa\n4           4.4          3.2           1.3          0.2      Iris-setosa",
            "text/html": "<div>\n<style scoped>\n    .dataframe tbody tr th:only-of-type {\n        vertical-align: middle;\n    }\n\n    .dataframe tbody tr th {\n        vertical-align: top;\n    }\n\n    .dataframe thead th {\n        text-align: right;\n    }\n</style>\n<table border=\"1\" class=\"dataframe\">\n  <thead>\n    <tr style=\"text-align: right;\">\n      <th></th>\n      <th>sepal_length</th>\n      <th>sepal_width</th>\n      <th>petal_length</th>\n      <th>petal_width</th>\n      <th>iris_class</th>\n    </tr>\n  </thead>\n  <tbody>\n    <tr>\n      <th>0</th>\n      <td>4.6</td>\n      <td>3.6</td>\n      <td>1.0</td>\n      <td>0.2</td>\n      <td>Iris-setosa</td>\n    </tr>\n    <tr>\n      <th>1</th>\n      <td>5.7</td>\n      <td>4.4</td>\n      <td>1.5</td>\n      <td>0.4</td>\n      <td>Iris-setosa</td>\n    </tr>\n    <tr>\n      <th>2</th>\n      <td>6.7</td>\n      <td>3.1</td>\n      <td>4.4</td>\n      <td>1.4</td>\n      <td>Iris-versicolor</td>\n    </tr>\n    <tr>\n      <th>3</th>\n      <td>4.8</td>\n      <td>3.4</td>\n      <td>1.6</td>\n      <td>0.2</td>\n      <td>Iris-setosa</td>\n    </tr>\n    <tr>\n      <th>4</th>\n      <td>4.4</td>\n      <td>3.2</td>\n      <td>1.3</td>\n      <td>0.2</td>\n      <td>Iris-setosa</td>\n    </tr>\n  </tbody>\n</table>\n</div>"
          },
          "metadata": {}
        }
      ],
      "execution_count": 4,
      "metadata": {
        "gather": {
          "logged": 1612701892950
        }
      }
    },
    {
      "cell_type": "code",
      "source": [
        "dataset.describe()"
      ],
      "outputs": [
        {
          "output_type": "execute_result",
          "execution_count": 5,
          "data": {
            "text/plain": "       sepal_length  sepal_width  petal_length  petal_width\ncount    150.000000   150.000000    150.000000   150.000000\nmean       5.843333     3.054000      3.758667     1.198667\nstd        0.828066     0.433594      1.764420     0.763161\nmin        4.300000     2.000000      1.000000     0.100000\n25%        5.100000     2.800000      1.600000     0.300000\n50%        5.800000     3.000000      4.350000     1.300000\n75%        6.400000     3.300000      5.100000     1.800000\nmax        7.900000     4.400000      6.900000     2.500000",
            "text/html": "<div>\n<style scoped>\n    .dataframe tbody tr th:only-of-type {\n        vertical-align: middle;\n    }\n\n    .dataframe tbody tr th {\n        vertical-align: top;\n    }\n\n    .dataframe thead th {\n        text-align: right;\n    }\n</style>\n<table border=\"1\" class=\"dataframe\">\n  <thead>\n    <tr style=\"text-align: right;\">\n      <th></th>\n      <th>sepal_length</th>\n      <th>sepal_width</th>\n      <th>petal_length</th>\n      <th>petal_width</th>\n    </tr>\n  </thead>\n  <tbody>\n    <tr>\n      <th>count</th>\n      <td>150.000000</td>\n      <td>150.000000</td>\n      <td>150.000000</td>\n      <td>150.000000</td>\n    </tr>\n    <tr>\n      <th>mean</th>\n      <td>5.843333</td>\n      <td>3.054000</td>\n      <td>3.758667</td>\n      <td>1.198667</td>\n    </tr>\n    <tr>\n      <th>std</th>\n      <td>0.828066</td>\n      <td>0.433594</td>\n      <td>1.764420</td>\n      <td>0.763161</td>\n    </tr>\n    <tr>\n      <th>min</th>\n      <td>4.300000</td>\n      <td>2.000000</td>\n      <td>1.000000</td>\n      <td>0.100000</td>\n    </tr>\n    <tr>\n      <th>25%</th>\n      <td>5.100000</td>\n      <td>2.800000</td>\n      <td>1.600000</td>\n      <td>0.300000</td>\n    </tr>\n    <tr>\n      <th>50%</th>\n      <td>5.800000</td>\n      <td>3.000000</td>\n      <td>4.350000</td>\n      <td>1.300000</td>\n    </tr>\n    <tr>\n      <th>75%</th>\n      <td>6.400000</td>\n      <td>3.300000</td>\n      <td>5.100000</td>\n      <td>1.800000</td>\n    </tr>\n    <tr>\n      <th>max</th>\n      <td>7.900000</td>\n      <td>4.400000</td>\n      <td>6.900000</td>\n      <td>2.500000</td>\n    </tr>\n  </tbody>\n</table>\n</div>"
          },
          "metadata": {}
        }
      ],
      "execution_count": 5,
      "metadata": {
        "gather": {
          "logged": 1612701895089
        }
      }
    },
    {
      "cell_type": "code",
      "source": [
        "plt.title(\"Sepal Plot\")\n",
        "plt.scatter('sepal_length', 'sepal_width', c=dataset.iris_class.map({'Iris-setosa':0, 'Iris-versicolor':1, 'Iris-virginica':2}), data=dataset)\n",
        "plt.show()"
      ],
      "outputs": [
        {
          "output_type": "display_data",
          "data": {
            "text/plain": "<Figure size 432x288 with 1 Axes>",
            "image/png": "[encoded data removed]"
          },
          "metadata": {
            "needs_background": "light"
          }
        }
      ],
      "execution_count": 6,
      "metadata": {
        "gather": {
          "logged": 1612701896934
        }
      }
    },
    {
      "cell_type": "code",
      "source": [
        "plt.title(\"Petal Plot\")\n",
        "plt.scatter('petal_length', 'petal_width', c=dataset.iris_class.map({'Iris-setosa':0, 'Iris-versicolor':1, 'Iris-virginica':2}), data=dataset)\n",
        "plt.show()"
      ],
      "outputs": [
        {
          "output_type": "display_data",
          "data": {
            "text/plain": "<Figure size 432x288 with 1 Axes>",
            "image/png": "[encoded data removed]"
          },
          "metadata": {
            "needs_background": "light"
          }
        }
      ],
      "execution_count": 7,
      "metadata": {
        "gather": {
          "logged": 1612701899389
        }
      }
    },
    {
      "cell_type": "code",
      "source": [
        "dataset.size"
      ],
      "outputs": [
        {
          "output_type": "execute_result",
          "execution_count": 8,
          "data": {
            "text/plain": "750"
          },
          "metadata": {}
        }
      ],
      "execution_count": 8,
      "metadata": {
        "collapsed": true,
        "jupyter": {
          "source_hidden": false,
          "outputs_hidden": false
        },
        "nteract": {
          "transient": {
            "deleting": false
          }
        },
        "gather": {
          "logged": 1612701901968
        }
      }
    },
    {
      "cell_type": "markdown",
      "source": [
        "## AutoML Configuration\n",
        "\n",
        "TODO: Explain why you chose the automl settings and cofiguration you used below."
      ],
      "metadata": {}
    },
    {
      "cell_type": "code",
      "source": [
        "# TODO: Put your automl settings here\n",
        "automl_settings = {\n",
        "    'experiment_timeout_minutes': 15,\n",
        "    'primary_metric' : 'accuracy',\n",
        "    'n_cross_validations': 5\n",
        "}\n",
        "\n",
        "# TODO: Put your automl config here\n",
        "automl_config = AutoMLConfig(compute_target=cpu_cluster,\n",
        "                             task = \"classification\",\n",
        "                             training_data=data_train,\n",
        "                             label_column_name='iris_class', \n",
        "                             enable_early_stopping= True,\n",
        "                             experiment_timeout_minutes= 15,\n",
        "                             primary_metric = 'accuracy',\n",
        "                             n_cross_validations= 5\n",
        "                            )"
      ],
      "outputs": [],
      "execution_count": 11,
      "metadata": {
        "gather": {
          "logged": 1612701940512
        },
        "jupyter": {
          "outputs_hidden": false,
          "source_hidden": false
        },
        "nteract": {
          "transient": {
            "deleting": false
          }
        }
      }
    },
    {
      "cell_type": "code",
      "source": [
        "# TODO: Submit your experiment\n",
        "remote_run = exp.submit(automl_config)\n",
        "remote_run.wait_for_completion(show_output=True)"
      ],
      "outputs": [
        {
          "output_type": "stream",
          "name": "stdout",
          "text": [
            "Running on remote.\n",
            "\n",
            "Current status: FeaturesGeneration. Generating features for the dataset.\n",
            "Current status: ModelSelection. Beginning model selection.\n",
            "\n",
            "****************************************************************************************************\n",
            "DATA GUARDRAILS: \n",
            "\n",
            "TYPE:         Class balancing detection\n",
            "STATUS:       PASSED\n",
            "DESCRIPTION:  Your inputs were analyzed, and all classes are balanced in your training data.\n",
            "              Learn more about imbalanced data: https://aka.ms/AutomatedMLImbalancedData\n",
            "\n",
            "****************************************************************************************************\n",
            "\n",
            "TYPE:         Missing feature values imputation\n",
            "STATUS:       PASSED\n",
            "DESCRIPTION:  No feature missing values were detected in the training data.\n",
            "              Learn more about missing value imputation: https://aka.ms/AutomatedMLFeaturization\n",
            "\n",
            "****************************************************************************************************\n",
            "\n",
            "TYPE:         High cardinality feature detection\n",
            "STATUS:       PASSED\n",
            "DESCRIPTION:  Your inputs were analyzed, and no high cardinality features were detected.\n",
            "              Learn more about high cardinality feature handling: https://aka.ms/AutomatedMLFeaturization\n",
            "\n",
            "****************************************************************************************************\n",
            "\n",
            "****************************************************************************************************\n",
            "ITERATION: The iteration being evaluated.\n",
            "PIPELINE: A summary description of the pipeline being evaluated.\n",
            "DURATION: Time taken for the current iteration.\n",
            "METRIC: The result of computing score on the fitted pipeline.\n",
            "BEST: The best observed score thus far.\n",
            "****************************************************************************************************\n",
            "\n",
            " ITERATION   PIPELINE                                       DURATION      METRIC      BEST\n",
            "         0   MaxAbsScaler LightGBM                          0:00:50       0.9500    0.9500\n",
            "         1   MaxAbsScaler XGBoostClassifier                 0:00:51       0.9500    0.9500\n",
            "         2   MinMaxScaler RandomForest                      0:00:56       0.9500    0.9500\n",
            "         3   MinMaxScaler RandomForest                      0:00:57       0.9250    0.9500\n",
            "         4   MinMaxScaler RandomForest                      0:01:00       0.9417    0.9500\n",
            "         5   MinMaxScaler SVM                               0:00:53       0.9417    0.9500\n",
            "         6   MaxAbsScaler GradientBoosting                  0:00:55       0.9417    0.9500\n",
            "         7   StandardScalerWrapper RandomForest             0:00:58       0.9500    0.9500\n",
            "         8   SparseNormalizer XGBoostClassifier             0:00:48       0.9500    0.9500\n",
            "         9   SparseNormalizer LightGBM                      0:00:50       0.9750    0.9750\n",
            "        10   StandardScalerWrapper LightGBM                 0:00:52       0.9250    0.9750\n",
            "        11   SparseNormalizer XGBoostClassifier             0:00:47       0.9583    0.9750\n",
            "        12   RobustScaler ExtremeRandomTrees                0:00:54       0.9417    0.9750\n",
            "        13   RobustScaler ExtremeRandomTrees                0:00:49       0.9417    0.9750\n",
            "        14    VotingEnsemble                                0:01:07       0.9833    0.9833\n",
            "        15    StackEnsemble                                 0:01:09       0.9833    0.9833\n"
          ]
        },
        {
          "output_type": "execute_result",
          "execution_count": 13,
          "data": {
            "text/plain": "{'runId': 'AutoML_ecb72259-be79-4d1d-bc4e-7fbe2df9fb8f',\n 'target': 'udacity-project3',\n 'status': 'Completed',\n 'startTimeUtc': '2021-02-07T12:46:21.703474Z',\n 'endTimeUtc': '2021-02-07T13:16:10.331047Z',\n 'properties': {'num_iterations': '1000',\n  'training_type': 'TrainFull',\n  'acquisition_function': 'EI',\n  'primary_metric': 'accuracy',\n  'train_split': '0',\n  'acquisition_parameter': '0',\n  'num_cross_validation': '5',\n  'target': 'udacity-project3',\n  'AMLSettingsJsonString': '{\"path\":null,\"name\":\"capstone\",\"subscription_id\":\"b968fb36-f06a-4c76-a15f-afab68ae7667\",\"resource_group\":\"aml-quickstarts-137812\",\"workspace_name\":\"quick-starts-ws-137812\",\"region\":\"southcentralus\",\"compute_target\":\"udacity-project3\",\"spark_service\":null,\"azure_service\":\"remote\",\"many_models\":false,\"pipeline_fetch_max_batch_size\":1,\"iterations\":1000,\"primary_metric\":\"accuracy\",\"task_type\":\"classification\",\"data_script\":null,\"validation_size\":0.0,\"n_cross_validations\":5,\"y_min\":null,\"y_max\":null,\"num_classes\":null,\"featurization\":\"auto\",\"_ignore_package_version_incompatibilities\":false,\"is_timeseries\":false,\"max_cores_per_iteration\":1,\"max_concurrent_iterations\":1,\"iteration_timeout_minutes\":null,\"mem_in_mb\":null,\"enforce_time_on_windows\":false,\"experiment_timeout_minutes\":15,\"experiment_exit_score\":null,\"whitelist_models\":null,\"blacklist_algos\":[\"TensorFlowLinearClassifier\",\"TensorFlowDNN\"],\"supported_models\":[\"LogisticRegression\",\"ExtremeRandomTrees\",\"TensorFlowDNN\",\"LinearSVM\",\"SVM\",\"GradientBoosting\",\"MultinomialNaiveBayes\",\"AveragedPerceptronClassifier\",\"XGBoostClassifier\",\"TensorFlowLinearClassifier\",\"SGD\",\"RandomForest\",\"BernoulliNaiveBayes\",\"DecisionTree\",\"LightGBM\",\"KNN\"],\"auto_blacklist\":true,\"blacklist_samples_reached\":false,\"exclude_nan_labels\":true,\"verbosity\":20,\"_debug_log\":\"azureml_automl.log\",\"show_warnings\":false,\"model_explainability\":true,\"service_url\":null,\"sdk_url\":null,\"sdk_packages\":null,\"enable_onnx_compatible_models\":false,\"enable_split_onnx_featurizer_estimator_models\":false,\"vm_type\":\"STANDARD_D2_V2\",\"telemetry_verbosity\":20,\"send_telemetry\":true,\"enable_dnn\":false,\"scenario\":\"SDK-1.13.0\",\"environment_label\":null,\"force_text_dnn\":false,\"enable_feature_sweeping\":true,\"enable_early_stopping\":true,\"early_stopping_n_iters\":10,\"metrics\":null,\"enable_ensembling\":true,\"enable_stack_ensembling\":true,\"ensemble_iterations\":15,\"enable_tf\":false,\"enable_subsampling\":null,\"subsample_seed\":null,\"enable_nimbusml\":false,\"enable_streaming\":false,\"force_streaming\":false,\"track_child_runs\":true,\"allowed_private_models\":[],\"label_column_name\":\"iris_class\",\"weight_column_name\":null,\"cv_split_column_names\":null,\"enable_local_managed\":false,\"_local_managed_run_id\":null,\"cost_mode\":1,\"lag_length\":0,\"metric_operation\":\"maximize\",\"preprocess\":true}',\n  'DataPrepJsonString': '{\\\\\"training_data\\\\\": \\\\\"{\\\\\\\\\\\\\"blocks\\\\\\\\\\\\\": [{\\\\\\\\\\\\\"id\\\\\\\\\\\\\": \\\\\\\\\\\\\"cc3a3467-b914-4916-a48e-7355e39161b4\\\\\\\\\\\\\", \\\\\\\\\\\\\"type\\\\\\\\\\\\\": \\\\\\\\\\\\\"Microsoft.DPrep.GetFilesBlock\\\\\\\\\\\\\", \\\\\\\\\\\\\"arguments\\\\\\\\\\\\\": {\\\\\\\\\\\\\"isArchive\\\\\\\\\\\\\": false, \\\\\\\\\\\\\"path\\\\\\\\\\\\\": {\\\\\\\\\\\\\"target\\\\\\\\\\\\\": 4, \\\\\\\\\\\\\"resourceDetails\\\\\\\\\\\\\": [{\\\\\\\\\\\\\"path\\\\\\\\\\\\\": \\\\\\\\\\\\\"https://raw.githubusercontent.com/piprzyb/Azure3/main/train.csv\\\\\\\\\\\\\"}]}}, \\\\\\\\\\\\\"localData\\\\\\\\\\\\\": {}, \\\\\\\\\\\\\"isEnabled\\\\\\\\\\\\\": true, \\\\\\\\\\\\\"name\\\\\\\\\\\\\": null, \\\\\\\\\\\\\"annotation\\\\\\\\\\\\\": null}, {\\\\\\\\\\\\\"id\\\\\\\\\\\\\": \\\\\\\\\\\\\"047d57b9-9ef6-4787-ad0f-44a05426e410\\\\\\\\\\\\\", \\\\\\\\\\\\\"type\\\\\\\\\\\\\": \\\\\\\\\\\\\"Microsoft.DPrep.ParseDelimitedBlock\\\\\\\\\\\\\", \\\\\\\\\\\\\"arguments\\\\\\\\\\\\\": {\\\\\\\\\\\\\"columnHeadersMode\\\\\\\\\\\\\": 3, \\\\\\\\\\\\\"fileEncoding\\\\\\\\\\\\\": 0, \\\\\\\\\\\\\"handleQuotedLineBreaks\\\\\\\\\\\\\": false, \\\\\\\\\\\\\"preview\\\\\\\\\\\\\": false, \\\\\\\\\\\\\"separator\\\\\\\\\\\\\": \\\\\\\\\\\\\",\\\\\\\\\\\\\", \\\\\\\\\\\\\"skipRows\\\\\\\\\\\\\": 0, \\\\\\\\\\\\\"skipRowsMode\\\\\\\\\\\\\": 0}, \\\\\\\\\\\\\"localData\\\\\\\\\\\\\": {}, \\\\\\\\\\\\\"isEnabled\\\\\\\\\\\\\": true, \\\\\\\\\\\\\"name\\\\\\\\\\\\\": null, \\\\\\\\\\\\\"annotation\\\\\\\\\\\\\": null}, {\\\\\\\\\\\\\"id\\\\\\\\\\\\\": \\\\\\\\\\\\\"d75de65c-e44f-4dc2-a91a-938dc7bf425a\\\\\\\\\\\\\", \\\\\\\\\\\\\"type\\\\\\\\\\\\\": \\\\\\\\\\\\\"Microsoft.DPrep.DropColumnsBlock\\\\\\\\\\\\\", \\\\\\\\\\\\\"arguments\\\\\\\\\\\\\": {\\\\\\\\\\\\\"columns\\\\\\\\\\\\\": {\\\\\\\\\\\\\"type\\\\\\\\\\\\\": 0, \\\\\\\\\\\\\"details\\\\\\\\\\\\\": {\\\\\\\\\\\\\"selectedColumns\\\\\\\\\\\\\": [\\\\\\\\\\\\\"Path\\\\\\\\\\\\\"]}}}, \\\\\\\\\\\\\"localData\\\\\\\\\\\\\": {}, \\\\\\\\\\\\\"isEnabled\\\\\\\\\\\\\": true, \\\\\\\\\\\\\"name\\\\\\\\\\\\\": null, \\\\\\\\\\\\\"annotation\\\\\\\\\\\\\": null}, {\\\\\\\\\\\\\"id\\\\\\\\\\\\\": \\\\\\\\\\\\\"3e2069b2-e3d1-4670-8e60-b7e31d71c246\\\\\\\\\\\\\", \\\\\\\\\\\\\"type\\\\\\\\\\\\\": \\\\\\\\\\\\\"Microsoft.DPrep.SetColumnTypesBlock\\\\\\\\\\\\\", \\\\\\\\\\\\\"arguments\\\\\\\\\\\\\": {\\\\\\\\\\\\\"columnConversion\\\\\\\\\\\\\": [{\\\\\\\\\\\\\"column\\\\\\\\\\\\\": {\\\\\\\\\\\\\"type\\\\\\\\\\\\\": 2, \\\\\\\\\\\\\"details\\\\\\\\\\\\\": {\\\\\\\\\\\\\"selectedColumn\\\\\\\\\\\\\": \\\\\\\\\\\\\"sepal_length\\\\\\\\\\\\\"}}, \\\\\\\\\\\\\"typeProperty\\\\\\\\\\\\\": 3}, {\\\\\\\\\\\\\"column\\\\\\\\\\\\\": {\\\\\\\\\\\\\"type\\\\\\\\\\\\\": 2, \\\\\\\\\\\\\"details\\\\\\\\\\\\\": {\\\\\\\\\\\\\"selectedColumn\\\\\\\\\\\\\": \\\\\\\\\\\\\"sepal_width\\\\\\\\\\\\\"}}, \\\\\\\\\\\\\"typeProperty\\\\\\\\\\\\\": 3}, {\\\\\\\\\\\\\"column\\\\\\\\\\\\\": {\\\\\\\\\\\\\"type\\\\\\\\\\\\\": 2, \\\\\\\\\\\\\"details\\\\\\\\\\\\\": {\\\\\\\\\\\\\"selectedColumn\\\\\\\\\\\\\": \\\\\\\\\\\\\"petal_length\\\\\\\\\\\\\"}}, \\\\\\\\\\\\\"typeProperty\\\\\\\\\\\\\": 3}, {\\\\\\\\\\\\\"column\\\\\\\\\\\\\": {\\\\\\\\\\\\\"type\\\\\\\\\\\\\": 2, \\\\\\\\\\\\\"details\\\\\\\\\\\\\": {\\\\\\\\\\\\\"selectedColumn\\\\\\\\\\\\\": \\\\\\\\\\\\\"petal_width\\\\\\\\\\\\\"}}, \\\\\\\\\\\\\"typeProperty\\\\\\\\\\\\\": 3}, {\\\\\\\\\\\\\"column\\\\\\\\\\\\\": {\\\\\\\\\\\\\"type\\\\\\\\\\\\\": 2, \\\\\\\\\\\\\"details\\\\\\\\\\\\\": {\\\\\\\\\\\\\"selectedColumn\\\\\\\\\\\\\": \\\\\\\\\\\\\"iris_class\\\\\\\\\\\\\"}}, \\\\\\\\\\\\\"typeProperty\\\\\\\\\\\\\": 0}]}, \\\\\\\\\\\\\"localData\\\\\\\\\\\\\": {}, \\\\\\\\\\\\\"isEnabled\\\\\\\\\\\\\": true, \\\\\\\\\\\\\"name\\\\\\\\\\\\\": null, \\\\\\\\\\\\\"annotation\\\\\\\\\\\\\": null}], \\\\\\\\\\\\\"inspectors\\\\\\\\\\\\\": [], \\\\\\\\\\\\\"meta\\\\\\\\\\\\\": {\\\\\\\\\\\\\"savedDatasetId\\\\\\\\\\\\\": \\\\\\\\\\\\\"f65f0d59-ce13-427d-b42c-8bdf9ee31eab\\\\\\\\\\\\\", \\\\\\\\\\\\\"datasetType\\\\\\\\\\\\\": \\\\\\\\\\\\\"tabular\\\\\\\\\\\\\", \\\\\\\\\\\\\"subscriptionId\\\\\\\\\\\\\": \\\\\\\\\\\\\"b968fb36-f06a-4c76-a15f-afab68ae7667\\\\\\\\\\\\\", \\\\\\\\\\\\\"workspaceId\\\\\\\\\\\\\": \\\\\\\\\\\\\"7d45c687-7bd2-4678-b810-10982bb4ce41\\\\\\\\\\\\\", \\\\\\\\\\\\\"workspaceLocation\\\\\\\\\\\\\": \\\\\\\\\\\\\"southcentralus\\\\\\\\\\\\\"}}\\\\\", \\\\\"activities\\\\\": 0}',\n  'EnableSubsampling': None,\n  'runTemplate': 'AutoML',\n  'azureml.runsource': 'automl',\n  'display_task_type': 'classification',\n  'dependencies_versions': '{\"azureml-widgets\": \"1.20.0\", \"azureml-train\": \"1.20.0\", \"azureml-train-restclients-hyperdrive\": \"1.20.0\", \"azureml-train-core\": \"1.20.0\", \"azureml-train-automl\": \"1.20.0\", \"azureml-train-automl-runtime\": \"1.20.0\", \"azureml-train-automl-client\": \"1.20.0\", \"azureml-tensorboard\": \"1.20.0\", \"azureml-telemetry\": \"1.20.0\", \"azureml-sdk\": \"1.20.0\", \"azureml-samples\": \"0+unknown\", \"azureml-pipeline\": \"1.20.0\", \"azureml-pipeline-steps\": \"1.20.0\", \"azureml-pipeline-core\": \"1.20.0\", \"azureml-opendatasets\": \"1.20.0\", \"azureml-model-management-sdk\": \"1.0.1b6.post1\", \"azureml-mlflow\": \"1.20.0.post1\", \"azureml-interpret\": \"1.20.0\", \"azureml-explain-model\": \"1.20.0\", \"azureml-defaults\": \"1.20.0\", \"azureml-dataset-runtime\": \"1.20.0\", \"azureml-dataprep\": \"2.7.3\", \"azureml-dataprep-rslex\": \"1.5.0\", \"azureml-dataprep-native\": \"27.0.0\", \"azureml-datadrift\": \"1.20.0\", \"azureml-core\": \"1.20.0\", \"azureml-contrib-services\": \"1.20.0\", \"azureml-contrib-server\": \"1.20.0\", \"azureml-contrib-reinforcementlearning\": \"1.20.0\", \"azureml-contrib-pipeline-steps\": \"1.20.0\", \"azureml-contrib-notebook\": \"1.20.0\", \"azureml-contrib-interpret\": \"1.20.0\", \"azureml-contrib-gbdt\": \"1.20.0\", \"azureml-contrib-fairness\": \"1.20.0\", \"azureml-contrib-dataset\": \"1.20.0\", \"azureml-cli-common\": \"1.20.0\", \"azureml-automl-runtime\": \"1.20.0\", \"azureml-automl-core\": \"1.20.0\", \"azureml-accel-models\": \"1.20.0\"}',\n  '_aml_system_scenario_identification': 'Remote.Parent',\n  'ClientType': 'SDK',\n  'environment_cpu_name': 'AzureML-AutoML',\n  'environment_cpu_label': 'prod',\n  'environment_gpu_name': 'AzureML-AutoML-GPU',\n  'environment_gpu_label': 'prod',\n  'root_attribution': 'automl',\n  'attribution': 'AutoML',\n  'Orchestrator': 'AutoML',\n  'CancelUri': 'https://southcentralus.experiments.azureml.net/jasmine/v1.0/subscriptions/b968fb36-f06a-4c76-a15f-afab68ae7667/resourceGroups/aml-quickstarts-137812/providers/Microsoft.MachineLearningServices/workspaces/quick-starts-ws-137812/experimentids/61d31801-b399-4917-aa96-b23bea52063d/cancel/AutoML_ecb72259-be79-4d1d-bc4e-7fbe2df9fb8f',\n  'ClientSdkVersion': '1.21.0',\n  'snapshotId': '00000000-0000-0000-0000-000000000000',\n  'SetupRunId': 'AutoML_ecb72259-be79-4d1d-bc4e-7fbe2df9fb8f_setup',\n  'SetupRunContainerId': 'dcid.AutoML_ecb72259-be79-4d1d-bc4e-7fbe2df9fb8f_setup',\n  'FeaturizationRunJsonPath': 'featurizer_container.json',\n  'FeaturizationRunId': 'AutoML_ecb72259-be79-4d1d-bc4e-7fbe2df9fb8f_featurize',\n  'ProblemInfoJsonString': '{\"dataset_num_categorical\": 0, \"is_sparse\": false, \"subsampling\": false, \"dataset_classes\": 3, \"dataset_features\": 4, \"dataset_samples\": 120, \"single_frequency_class_detected\": false}',\n  'ModelExplainRunId': 'AutoML_ecb72259-be79-4d1d-bc4e-7fbe2df9fb8f_ModelExplain'},\n 'inputDatasets': [{'dataset': {'id': 'f65f0d59-ce13-427d-b42c-8bdf9ee31eab'}, 'consumptionDetails': {'type': 'RunInput', 'inputName': 'training_data', 'mechanism': 'Direct'}}],\n 'outputDatasets': [],\n 'logFiles': {},\n 'submittedBy': 'ODL_User 137812'}"
          },
          "metadata": {}
        }
      ],
      "execution_count": 13,
      "metadata": {
        "gather": {
          "logged": 1612703780274
        },
        "jupyter": {
          "outputs_hidden": false,
          "source_hidden": false
        },
        "nteract": {
          "transient": {
            "deleting": false
          }
        }
      }
    },
    {
      "cell_type": "markdown",
      "source": [
        "## Run Details\n",
        "\n",
        "OPTIONAL: Write about the different models trained and their performance. Why do you think some models did better than others?\n",
        "\n",
        "TODO: In the cell below, use the `RunDetails` widget to show the different experiments."
      ],
      "metadata": {}
    },
    {
      "cell_type": "code",
      "source": [
        "RunDetails(remote_run).show()"
      ],
      "outputs": [
        {
          "output_type": "display_data",
          "data": {
            "text/plain": "_AutoMLWidget(widget_settings={'childWidgetDisplay': 'popup', 'send_telemetry': False, 'log_level': 'INFO', 's…",
            "application/vnd.jupyter.widget-view+json": {
              "version_major": 2,
              "version_minor": 0,
              "model_id": "ab28367ac736499c982096a7c0054379"
            }
          },
          "metadata": {}
        },
        {
          "output_type": "display_data",
          "data": {
            "application/aml.mini.widget.v1": "{\"status\": \"Completed\", \"workbench_run_details_uri\": \"https://ml.azure.com/experiments/capstone/runs/AutoML_ecb72259-be79-4d1d-bc4e-7fbe2df9fb8f?wsid=/subscriptions/b968fb36-f06a-4c76-a15f-afab68ae7667/resourcegroups/aml-quickstarts-137812/workspaces/quick-starts-ws-137812\", \"run_id\": \"AutoML_ecb72259-be79-4d1d-bc4e-7fbe2df9fb8f\", \"run_properties\": {\"run_id\": \"AutoML_ecb72259-be79-4d1d-bc4e-7fbe2df9fb8f\", \"created_utc\": \"2021-02-07T12:45:58.551839Z\", \"properties\": {\"num_iterations\": \"1000\", \"training_type\": \"TrainFull\", \"acquisition_function\": \"EI\", \"primary_metric\": \"accuracy\", \"train_split\": \"0\", \"acquisition_parameter\": \"0\", \"num_cross_validation\": \"5\", \"target\": \"udacity-project3\", \"AMLSettingsJsonString\": \"{\\\"path\\\":null,\\\"name\\\":\\\"capstone\\\",\\\"subscription_id\\\":\\\"b968fb36-f06a-4c76-a15f-afab68ae7667\\\",\\\"resource_group\\\":\\\"aml-quickstarts-137812\\\",\\\"workspace_name\\\":\\\"quick-starts-ws-137812\\\",\\\"region\\\":\\\"southcentralus\\\",\\\"compute_target\\\":\\\"udacity-project3\\\",\\\"spark_service\\\":null,\\\"azure_service\\\":\\\"remote\\\",\\\"many_models\\\":false,\\\"pipeline_fetch_max_batch_size\\\":1,\\\"iterations\\\":1000,\\\"primary_metric\\\":\\\"accuracy\\\",\\\"task_type\\\":\\\"classification\\\",\\\"data_script\\\":null,\\\"validation_size\\\":0.0,\\\"n_cross_validations\\\":5,\\\"y_min\\\":null,\\\"y_max\\\":null,\\\"num_classes\\\":null,\\\"featurization\\\":\\\"auto\\\",\\\"_ignore_package_version_incompatibilities\\\":false,\\\"is_timeseries\\\":false,\\\"max_cores_per_iteration\\\":1,\\\"max_concurrent_iterations\\\":1,\\\"iteration_timeout_minutes\\\":null,\\\"mem_in_mb\\\":null,\\\"enforce_time_on_windows\\\":false,\\\"experiment_timeout_minutes\\\":15,\\\"experiment_exit_score\\\":null,\\\"whitelist_models\\\":null,\\\"blacklist_algos\\\":[\\\"TensorFlowLinearClassifier\\\",\\\"TensorFlowDNN\\\"],\\\"supported_models\\\":[\\\"LogisticRegression\\\",\\\"ExtremeRandomTrees\\\",\\\"TensorFlowDNN\\\",\\\"LinearSVM\\\",\\\"SVM\\\",\\\"GradientBoosting\\\",\\\"MultinomialNaiveBayes\\\",\\\"AveragedPerceptronClassifier\\\",\\\"XGBoostClassifier\\\",\\\"TensorFlowLinearClassifier\\\",\\\"SGD\\\",\\\"RandomForest\\\",\\\"BernoulliNaiveBayes\\\",\\\"DecisionTree\\\",\\\"LightGBM\\\",\\\"KNN\\\"],\\\"auto_blacklist\\\":true,\\\"blacklist_samples_reached\\\":false,\\\"exclude_nan_labels\\\":true,\\\"verbosity\\\":20,\\\"_debug_log\\\":\\\"azureml_automl.log\\\",\\\"show_warnings\\\":false,\\\"model_explainability\\\":true,\\\"service_url\\\":null,\\\"sdk_url\\\":null,\\\"sdk_packages\\\":null,\\\"enable_onnx_compatible_models\\\":false,\\\"enable_split_onnx_featurizer_estimator_models\\\":false,\\\"vm_type\\\":\\\"STANDARD_D2_V2\\\",\\\"telemetry_verbosity\\\":20,\\\"send_telemetry\\\":true,\\\"enable_dnn\\\":false,\\\"scenario\\\":\\\"SDK-1.13.0\\\",\\\"environment_label\\\":null,\\\"force_text_dnn\\\":false,\\\"enable_feature_sweeping\\\":true,\\\"enable_early_stopping\\\":true,\\\"early_stopping_n_iters\\\":10,\\\"metrics\\\":null,\\\"enable_ensembling\\\":true,\\\"enable_stack_ensembling\\\":true,\\\"ensemble_iterations\\\":15,\\\"enable_tf\\\":false,\\\"enable_subsampling\\\":null,\\\"subsample_seed\\\":null,\\\"enable_nimbusml\\\":false,\\\"enable_streaming\\\":false,\\\"force_streaming\\\":false,\\\"track_child_runs\\\":true,\\\"allowed_private_models\\\":[],\\\"label_column_name\\\":\\\"iris_class\\\",\\\"weight_column_name\\\":null,\\\"cv_split_column_names\\\":null,\\\"enable_local_managed\\\":false,\\\"_local_managed_run_id\\\":null,\\\"cost_mode\\\":1,\\\"lag_length\\\":0,\\\"metric_operation\\\":\\\"maximize\\\",\\\"preprocess\\\":true}\", \"DataPrepJsonString\": \"{\\\\\\\"training_data\\\\\\\": \\\\\\\"{\\\\\\\\\\\\\\\"blocks\\\\\\\\\\\\\\\": [{\\\\\\\\\\\\\\\"id\\\\\\\\\\\\\\\": \\\\\\\\\\\\\\\"cc3a3467-b914-4916-a48e-7355e39161b4\\\\\\\\\\\\\\\", \\\\\\\\\\\\\\\"type\\\\\\\\\\\\\\\": \\\\\\\\\\\\\\\"Microsoft.DPrep.GetFilesBlock\\\\\\\\\\\\\\\", \\\\\\\\\\\\\\\"arguments\\\\\\\\\\\\\\\": {\\\\\\\\\\\\\\\"isArchive\\\\\\\\\\\\\\\": false, \\\\\\\\\\\\\\\"path\\\\\\\\\\\\\\\": {\\\\\\\\\\\\\\\"target\\\\\\\\\\\\\\\": 4, \\\\\\\\\\\\\\\"resourceDetails\\\\\\\\\\\\\\\": [{\\\\\\\\\\\\\\\"path\\\\\\\\\\\\\\\": \\\\\\\\\\\\\\\"https://raw.githubusercontent.com/piprzyb/Azure3/main/train.csv\\\\\\\\\\\\\\\"}]}}, \\\\\\\\\\\\\\\"localData\\\\\\\\\\\\\\\": {}, \\\\\\\\\\\\\\\"isEnabled\\\\\\\\\\\\\\\": true, \\\\\\\\\\\\\\\"name\\\\\\\\\\\\\\\": null, \\\\\\\\\\\\\\\"annotation\\\\\\\\\\\\\\\": null}, {\\\\\\\\\\\\\\\"id\\\\\\\\\\\\\\\": \\\\\\\\\\\\\\\"047d57b9-9ef6-4787-ad0f-44a05426e410\\\\\\\\\\\\\\\", \\\\\\\\\\\\\\\"type\\\\\\\\\\\\\\\": \\\\\\\\\\\\\\\"Microsoft.DPrep.ParseDelimitedBlock\\\\\\\\\\\\\\\", \\\\\\\\\\\\\\\"arguments\\\\\\\\\\\\\\\": {\\\\\\\\\\\\\\\"columnHeadersMode\\\\\\\\\\\\\\\": 3, \\\\\\\\\\\\\\\"fileEncoding\\\\\\\\\\\\\\\": 0, \\\\\\\\\\\\\\\"handleQuotedLineBreaks\\\\\\\\\\\\\\\": false, \\\\\\\\\\\\\\\"preview\\\\\\\\\\\\\\\": false, \\\\\\\\\\\\\\\"separator\\\\\\\\\\\\\\\": \\\\\\\\\\\\\\\",\\\\\\\\\\\\\\\", \\\\\\\\\\\\\\\"skipRows\\\\\\\\\\\\\\\": 0, \\\\\\\\\\\\\\\"skipRowsMode\\\\\\\\\\\\\\\": 0}, \\\\\\\\\\\\\\\"localData\\\\\\\\\\\\\\\": {}, \\\\\\\\\\\\\\\"isEnabled\\\\\\\\\\\\\\\": true, \\\\\\\\\\\\\\\"name\\\\\\\\\\\\\\\": null, \\\\\\\\\\\\\\\"annotation\\\\\\\\\\\\\\\": null}, {\\\\\\\\\\\\\\\"id\\\\\\\\\\\\\\\": \\\\\\\\\\\\\\\"d75de65c-e44f-4dc2-a91a-938dc7bf425a\\\\\\\\\\\\\\\", \\\\\\\\\\\\\\\"type\\\\\\\\\\\\\\\": \\\\\\\\\\\\\\\"Microsoft.DPrep.DropColumnsBlock\\\\\\\\\\\\\\\", \\\\\\\\\\\\\\\"arguments\\\\\\\\\\\\\\\": {\\\\\\\\\\\\\\\"columns\\\\\\\\\\\\\\\": {\\\\\\\\\\\\\\\"type\\\\\\\\\\\\\\\": 0, \\\\\\\\\\\\\\\"details\\\\\\\\\\\\\\\": {\\\\\\\\\\\\\\\"selectedColumns\\\\\\\\\\\\\\\": [\\\\\\\\\\\\\\\"Path\\\\\\\\\\\\\\\"]}}}, \\\\\\\\\\\\\\\"localData\\\\\\\\\\\\\\\": {}, \\\\\\\\\\\\\\\"isEnabled\\\\\\\\\\\\\\\": true, \\\\\\\\\\\\\\\"name\\\\\\\\\\\\\\\": null, \\\\\\\\\\\\\\\"annotation\\\\\\\\\\\\\\\": null}, {\\\\\\\\\\\\\\\"id\\\\\\\\\\\\\\\": \\\\\\\\\\\\\\\"3e2069b2-e3d1-4670-8e60-b7e31d71c246\\\\\\\\\\\\\\\", \\\\\\\\\\\\\\\"type\\\\\\\\\\\\\\\": \\\\\\\\\\\\\\\"Microsoft.DPrep.SetColumnTypesBlock\\\\\\\\\\\\\\\", \\\\\\\\\\\\\\\"arguments\\\\\\\\\\\\\\\": {\\\\\\\\\\\\\\\"columnConversion\\\\\\\\\\\\\\\": [{\\\\\\\\\\\\\\\"column\\\\\\\\\\\\\\\": {\\\\\\\\\\\\\\\"type\\\\\\\\\\\\\\\": 2, \\\\\\\\\\\\\\\"details\\\\\\\\\\\\\\\": {\\\\\\\\\\\\\\\"selectedColumn\\\\\\\\\\\\\\\": \\\\\\\\\\\\\\\"sepal_length\\\\\\\\\\\\\\\"}}, \\\\\\\\\\\\\\\"typeProperty\\\\\\\\\\\\\\\": 3}, {\\\\\\\\\\\\\\\"column\\\\\\\\\\\\\\\": {\\\\\\\\\\\\\\\"type\\\\\\\\\\\\\\\": 2, \\\\\\\\\\\\\\\"details\\\\\\\\\\\\\\\": {\\\\\\\\\\\\\\\"selectedColumn\\\\\\\\\\\\\\\": \\\\\\\\\\\\\\\"sepal_width\\\\\\\\\\\\\\\"}}, \\\\\\\\\\\\\\\"typeProperty\\\\\\\\\\\\\\\": 3}, {\\\\\\\\\\\\\\\"column\\\\\\\\\\\\\\\": {\\\\\\\\\\\\\\\"type\\\\\\\\\\\\\\\": 2, \\\\\\\\\\\\\\\"details\\\\\\\\\\\\\\\": {\\\\\\\\\\\\\\\"selectedColumn\\\\\\\\\\\\\\\": \\\\\\\\\\\\\\\"petal_length\\\\\\\\\\\\\\\"}}, \\\\\\\\\\\\\\\"typeProperty\\\\\\\\\\\\\\\": 3}, {\\\\\\\\\\\\\\\"column\\\\\\\\\\\\\\\": {\\\\\\\\\\\\\\\"type\\\\\\\\\\\\\\\": 2, \\\\\\\\\\\\\\\"details\\\\\\\\\\\\\\\": {\\\\\\\\\\\\\\\"selectedColumn\\\\\\\\\\\\\\\": \\\\\\\\\\\\\\\"petal_width\\\\\\\\\\\\\\\"}}, \\\\\\\\\\\\\\\"typeProperty\\\\\\\\\\\\\\\": 3}, {\\\\\\\\\\\\\\\"column\\\\\\\\\\\\\\\": {\\\\\\\\\\\\\\\"type\\\\\\\\\\\\\\\": 2, \\\\\\\\\\\\\\\"details\\\\\\\\\\\\\\\": {\\\\\\\\\\\\\\\"selectedColumn\\\\\\\\\\\\\\\": \\\\\\\\\\\\\\\"iris_class\\\\\\\\\\\\\\\"}}, \\\\\\\\\\\\\\\"typeProperty\\\\\\\\\\\\\\\": 0}]}, \\\\\\\\\\\\\\\"localData\\\\\\\\\\\\\\\": {}, \\\\\\\\\\\\\\\"isEnabled\\\\\\\\\\\\\\\": true, \\\\\\\\\\\\\\\"name\\\\\\\\\\\\\\\": null, \\\\\\\\\\\\\\\"annotation\\\\\\\\\\\\\\\": null}], \\\\\\\\\\\\\\\"inspectors\\\\\\\\\\\\\\\": [], \\\\\\\\\\\\\\\"meta\\\\\\\\\\\\\\\": {\\\\\\\\\\\\\\\"savedDatasetId\\\\\\\\\\\\\\\": \\\\\\\\\\\\\\\"f65f0d59-ce13-427d-b42c-8bdf9ee31eab\\\\\\\\\\\\\\\", \\\\\\\\\\\\\\\"datasetType\\\\\\\\\\\\\\\": \\\\\\\\\\\\\\\"tabular\\\\\\\\\\\\\\\", \\\\\\\\\\\\\\\"subscriptionId\\\\\\\\\\\\\\\": \\\\\\\\\\\\\\\"b968fb36-f06a-4c76-a15f-afab68ae7667\\\\\\\\\\\\\\\", \\\\\\\\\\\\\\\"workspaceId\\\\\\\\\\\\\\\": \\\\\\\\\\\\\\\"7d45c687-7bd2-4678-b810-10982bb4ce41\\\\\\\\\\\\\\\", \\\\\\\\\\\\\\\"workspaceLocation\\\\\\\\\\\\\\\": \\\\\\\\\\\\\\\"southcentralus\\\\\\\\\\\\\\\"}}\\\\\\\", \\\\\\\"activities\\\\\\\": 0}\", \"EnableSubsampling\": null, \"runTemplate\": \"AutoML\", \"azureml.runsource\": \"automl\", \"display_task_type\": \"classification\", \"dependencies_versions\": \"{\\\"azureml-widgets\\\": \\\"1.20.0\\\", \\\"azureml-train\\\": \\\"1.20.0\\\", \\\"azureml-train-restclients-hyperdrive\\\": \\\"1.20.0\\\", \\\"azureml-train-core\\\": \\\"1.20.0\\\", \\\"azureml-train-automl\\\": \\\"1.20.0\\\", \\\"azureml-train-automl-runtime\\\": \\\"1.20.0\\\", \\\"azureml-train-automl-client\\\": \\\"1.20.0\\\", \\\"azureml-tensorboard\\\": \\\"1.20.0\\\", \\\"azureml-telemetry\\\": \\\"1.20.0\\\", \\\"azureml-sdk\\\": \\\"1.20.0\\\", \\\"azureml-samples\\\": \\\"0+unknown\\\", \\\"azureml-pipeline\\\": \\\"1.20.0\\\", \\\"azureml-pipeline-steps\\\": \\\"1.20.0\\\", \\\"azureml-pipeline-core\\\": \\\"1.20.0\\\", \\\"azureml-opendatasets\\\": \\\"1.20.0\\\", \\\"azureml-model-management-sdk\\\": \\\"1.0.1b6.post1\\\", \\\"azureml-mlflow\\\": \\\"1.20.0.post1\\\", \\\"azureml-interpret\\\": \\\"1.20.0\\\", \\\"azureml-explain-model\\\": \\\"1.20.0\\\", \\\"azureml-defaults\\\": \\\"1.20.0\\\", \\\"azureml-dataset-runtime\\\": \\\"1.20.0\\\", \\\"azureml-dataprep\\\": \\\"2.7.3\\\", \\\"azureml-dataprep-rslex\\\": \\\"1.5.0\\\", \\\"azureml-dataprep-native\\\": \\\"27.0.0\\\", \\\"azureml-datadrift\\\": \\\"1.20.0\\\", \\\"azureml-core\\\": \\\"1.20.0\\\", \\\"azureml-contrib-services\\\": \\\"1.20.0\\\", \\\"azureml-contrib-server\\\": \\\"1.20.0\\\", \\\"azureml-contrib-reinforcementlearning\\\": \\\"1.20.0\\\", \\\"azureml-contrib-pipeline-steps\\\": \\\"1.20.0\\\", \\\"azureml-contrib-notebook\\\": \\\"1.20.0\\\", \\\"azureml-contrib-interpret\\\": \\\"1.20.0\\\", \\\"azureml-contrib-gbdt\\\": \\\"1.20.0\\\", \\\"azureml-contrib-fairness\\\": \\\"1.20.0\\\", \\\"azureml-contrib-dataset\\\": \\\"1.20.0\\\", \\\"azureml-cli-common\\\": \\\"1.20.0\\\", \\\"azureml-automl-runtime\\\": \\\"1.20.0\\\", \\\"azureml-automl-core\\\": \\\"1.20.0\\\", \\\"azureml-accel-models\\\": \\\"1.20.0\\\"}\", \"_aml_system_scenario_identification\": \"Remote.Parent\", \"ClientType\": \"SDK\", \"environment_cpu_name\": \"AzureML-AutoML\", \"environment_cpu_label\": \"prod\", \"environment_gpu_name\": \"AzureML-AutoML-GPU\", \"environment_gpu_label\": \"prod\", \"root_attribution\": \"automl\", \"attribution\": \"AutoML\", \"Orchestrator\": \"AutoML\", \"CancelUri\": \"https://southcentralus.experiments.azureml.net/jasmine/v1.0/subscriptions/b968fb36-f06a-4c76-a15f-afab68ae7667/resourceGroups/aml-quickstarts-137812/providers/Microsoft.MachineLearningServices/workspaces/quick-starts-ws-137812/experimentids/61d31801-b399-4917-aa96-b23bea52063d/cancel/AutoML_ecb72259-be79-4d1d-bc4e-7fbe2df9fb8f\", \"ClientSdkVersion\": \"1.21.0\", \"snapshotId\": \"00000000-0000-0000-0000-000000000000\", \"SetupRunId\": \"AutoML_ecb72259-be79-4d1d-bc4e-7fbe2df9fb8f_setup\", \"SetupRunContainerId\": \"dcid.AutoML_ecb72259-be79-4d1d-bc4e-7fbe2df9fb8f_setup\", \"FeaturizationRunJsonPath\": \"featurizer_container.json\", \"FeaturizationRunId\": \"AutoML_ecb72259-be79-4d1d-bc4e-7fbe2df9fb8f_featurize\", \"ProblemInfoJsonString\": \"{\\\"dataset_num_categorical\\\": 0, \\\"is_sparse\\\": false, \\\"subsampling\\\": false, \\\"dataset_classes\\\": 3, \\\"dataset_features\\\": 4, \\\"dataset_samples\\\": 120, \\\"single_frequency_class_detected\\\": false}\", \"ModelExplainRunId\": \"AutoML_ecb72259-be79-4d1d-bc4e-7fbe2df9fb8f_ModelExplain\"}, \"tags\": {\"model_explain_run\": \"best_run\", \"_aml_system_azureml.automlComponent\": \"AutoML\", \"pipeline_id\": \"\", \"score\": \"\", \"predicted_cost\": \"\", \"fit_time\": \"\", \"training_percent\": \"\", \"iteration\": \"\", \"run_preprocessor\": \"\", \"run_algorithm\": \"\", \"automl_best_child_run_id\": \"AutoML_ecb72259-be79-4d1d-bc4e-7fbe2df9fb8f_14\"}, \"end_time_utc\": \"2021-02-07T13:16:10.331047Z\", \"status\": \"Completed\", \"log_files\": {}, \"log_groups\": [], \"run_duration\": \"0:30:11\"}, \"child_runs\": [{\"run_id\": \"AutoML_ecb72259-be79-4d1d-bc4e-7fbe2df9fb8f_0\", \"run_number\": 14, \"metric\": null, \"status\": \"Completed\", \"run_type\": \"azureml.scriptrun\", \"training_percent\": \"100\", \"start_time\": \"2021-02-07T12:57:47.728534Z\", \"end_time\": \"2021-02-07T12:58:38.06709Z\", \"created_time\": \"2021-02-07T12:57:33.231431Z\", \"created_time_dt\": \"2021-02-07T12:57:33.231431Z\", \"duration\": \"0:01:04\", \"iteration\": \"0\", \"goal\": \"accuracy_max\", \"run_name\": \"MaxAbsScaler, LightGBM\", \"run_properties\": \"copy=True\", \"primary_metric\": 0.95, \"best_metric\": 0.95}, {\"run_id\": \"AutoML_ecb72259-be79-4d1d-bc4e-7fbe2df9fb8f_1\", \"run_number\": 15, \"metric\": null, \"status\": \"Completed\", \"run_type\": \"azureml.scriptrun\", \"training_percent\": \"100\", \"start_time\": \"2021-02-07T12:58:52.955183Z\", \"end_time\": \"2021-02-07T12:59:43.71419Z\", \"created_time\": \"2021-02-07T12:58:39.88314Z\", \"created_time_dt\": \"2021-02-07T12:58:39.88314Z\", \"duration\": \"0:01:03\", \"iteration\": \"1\", \"goal\": \"accuracy_max\", \"run_name\": \"MaxAbsScaler, XGBoostClassifier\", \"run_properties\": \"copy=True\", \"primary_metric\": 0.95, \"best_metric\": 0.95}, {\"run_id\": \"AutoML_ecb72259-be79-4d1d-bc4e-7fbe2df9fb8f_2\", \"run_number\": 16, \"metric\": null, \"status\": \"Completed\", \"run_type\": \"azureml.scriptrun\", \"training_percent\": \"100\", \"start_time\": \"2021-02-07T12:59:58.263404Z\", \"end_time\": \"2021-02-07T13:00:54.089935Z\", \"created_time\": \"2021-02-07T12:59:45.209129Z\", \"created_time_dt\": \"2021-02-07T12:59:45.209129Z\", \"duration\": \"0:01:08\", \"iteration\": \"2\", \"goal\": \"accuracy_max\", \"run_name\": \"MinMaxScaler, RandomForest\", \"run_properties\": \"copy=True, feature_range=(0, 1\", \"primary_metric\": 0.95, \"best_metric\": 0.95}, {\"run_id\": \"AutoML_ecb72259-be79-4d1d-bc4e-7fbe2df9fb8f_3\", \"run_number\": 17, \"metric\": null, \"status\": \"Completed\", \"run_type\": \"azureml.scriptrun\", \"training_percent\": \"100\", \"start_time\": \"2021-02-07T13:01:08.768155Z\", \"end_time\": \"2021-02-07T13:02:05.325314Z\", \"created_time\": \"2021-02-07T13:00:57.156434Z\", \"created_time_dt\": \"2021-02-07T13:00:57.156434Z\", \"duration\": \"0:01:08\", \"iteration\": \"3\", \"goal\": \"accuracy_max\", \"run_name\": \"MinMaxScaler, RandomForest\", \"run_properties\": \"copy=True, feature_range=(0, 1\", \"primary_metric\": 0.925, \"best_metric\": 0.95}, {\"run_id\": \"AutoML_ecb72259-be79-4d1d-bc4e-7fbe2df9fb8f_4\", \"run_number\": 18, \"metric\": null, \"status\": \"Completed\", \"run_type\": \"azureml.scriptrun\", \"training_percent\": \"100\", \"start_time\": \"2021-02-07T13:02:20.51614Z\", \"end_time\": \"2021-02-07T13:03:20.528938Z\", \"created_time\": \"2021-02-07T13:02:08.689433Z\", \"created_time_dt\": \"2021-02-07T13:02:08.689433Z\", \"duration\": \"0:01:11\", \"iteration\": \"4\", \"goal\": \"accuracy_max\", \"run_name\": \"MinMaxScaler, RandomForest\", \"run_properties\": \"copy=True, feature_range=(0, 1\", \"primary_metric\": 0.94166667, \"best_metric\": 0.95}, {\"run_id\": \"AutoML_ecb72259-be79-4d1d-bc4e-7fbe2df9fb8f_5\", \"run_number\": 19, \"metric\": null, \"status\": \"Completed\", \"run_type\": \"azureml.scriptrun\", \"training_percent\": \"100\", \"start_time\": \"2021-02-07T13:03:34.794618Z\", \"end_time\": \"2021-02-07T13:04:27.924019Z\", \"created_time\": \"2021-02-07T13:03:23.446798Z\", \"created_time_dt\": \"2021-02-07T13:03:23.446798Z\", \"duration\": \"0:01:04\", \"iteration\": \"5\", \"goal\": \"accuracy_max\", \"run_name\": \"MinMaxScaler, SVM\", \"run_properties\": \"copy=True, feature_range=(0, 1\", \"primary_metric\": 0.94166667, \"best_metric\": 0.95}, {\"run_id\": \"AutoML_ecb72259-be79-4d1d-bc4e-7fbe2df9fb8f_6\", \"run_number\": 20, \"metric\": null, \"status\": \"Completed\", \"run_type\": \"azureml.scriptrun\", \"training_percent\": \"100\", \"start_time\": \"2021-02-07T13:04:44.053383Z\", \"end_time\": \"2021-02-07T13:05:39.251011Z\", \"created_time\": \"2021-02-07T13:04:30.221442Z\", \"created_time_dt\": \"2021-02-07T13:04:30.221442Z\", \"duration\": \"0:01:09\", \"iteration\": \"6\", \"goal\": \"accuracy_max\", \"run_name\": \"MaxAbsScaler, GradientBoosting\", \"run_properties\": \"copy=True\", \"primary_metric\": 0.94166667, \"best_metric\": 0.95}, {\"run_id\": \"AutoML_ecb72259-be79-4d1d-bc4e-7fbe2df9fb8f_7\", \"run_number\": 21, \"metric\": null, \"status\": \"Completed\", \"run_type\": \"azureml.scriptrun\", \"training_percent\": \"100\", \"start_time\": \"2021-02-07T13:05:57.287742Z\", \"end_time\": \"2021-02-07T13:06:55.174624Z\", \"created_time\": \"2021-02-07T13:05:41.727147Z\", \"created_time_dt\": \"2021-02-07T13:05:41.727147Z\", \"duration\": \"0:01:13\", \"iteration\": \"7\", \"goal\": \"accuracy_max\", \"run_name\": \"StandardScalerWrapper, RandomForest\", \"run_properties\": \"<azureml.automl.runtime.shared.model_wrappers.StandardScalerWrapper object at 0x7fcbfdac4710\", \"primary_metric\": 0.95, \"best_metric\": 0.95}, {\"run_id\": \"AutoML_ecb72259-be79-4d1d-bc4e-7fbe2df9fb8f_8\", \"run_number\": 22, \"metric\": null, \"status\": \"Completed\", \"run_type\": \"azureml.scriptrun\", \"training_percent\": \"100\", \"start_time\": \"2021-02-07T13:07:10.292784Z\", \"end_time\": \"2021-02-07T13:07:57.932245Z\", \"created_time\": \"2021-02-07T13:06:58.638856Z\", \"created_time_dt\": \"2021-02-07T13:06:58.638856Z\", \"duration\": \"0:00:59\", \"iteration\": \"8\", \"goal\": \"accuracy_max\", \"run_name\": \"SparseNormalizer, XGBoostClassifier\", \"run_properties\": \"<azureml.automl.runtime.shared.model_wrappers.SparseNormalizer object at 0x7fd0d08b2f60\", \"primary_metric\": 0.95, \"best_metric\": 0.95}, {\"run_id\": \"AutoML_ecb72259-be79-4d1d-bc4e-7fbe2df9fb8f_9\", \"run_number\": 23, \"metric\": null, \"status\": \"Completed\", \"run_type\": \"azureml.scriptrun\", \"training_percent\": \"100\", \"start_time\": \"2021-02-07T13:08:12.724767Z\", \"end_time\": \"2021-02-07T13:09:02.308266Z\", \"created_time\": \"2021-02-07T13:08:00.370819Z\", \"created_time_dt\": \"2021-02-07T13:08:00.370819Z\", \"duration\": \"0:01:01\", \"iteration\": \"9\", \"goal\": \"accuracy_max\", \"run_name\": \"SparseNormalizer, LightGBM\", \"run_properties\": \"<azureml.automl.runtime.shared.model_wrappers.SparseNormalizer object at 0x7f6f9c3dd438\", \"primary_metric\": 0.975, \"best_metric\": 0.975}, {\"run_id\": \"AutoML_ecb72259-be79-4d1d-bc4e-7fbe2df9fb8f_10\", \"run_number\": 24, \"metric\": null, \"status\": \"Completed\", \"run_type\": \"azureml.scriptrun\", \"training_percent\": \"100\", \"start_time\": \"2021-02-07T13:09:18.885681Z\", \"end_time\": \"2021-02-07T13:10:11.283726Z\", \"created_time\": \"2021-02-07T13:09:04.85815Z\", \"created_time_dt\": \"2021-02-07T13:09:04.85815Z\", \"duration\": \"0:01:06\", \"iteration\": \"10\", \"goal\": \"accuracy_max\", \"run_name\": \"StandardScalerWrapper, LightGBM\", \"run_properties\": \"<azureml.automl.runtime.shared.model_wrappers.StandardScalerWrapper object at 0x7efd69f50128\", \"primary_metric\": 0.925, \"best_metric\": 0.975}, {\"run_id\": \"AutoML_ecb72259-be79-4d1d-bc4e-7fbe2df9fb8f_11\", \"run_number\": 25, \"metric\": null, \"status\": \"Completed\", \"run_type\": \"azureml.scriptrun\", \"training_percent\": \"100\", \"start_time\": \"2021-02-07T13:10:24.638392Z\", \"end_time\": \"2021-02-07T13:11:12.111185Z\", \"created_time\": \"2021-02-07T13:10:13.983399Z\", \"created_time_dt\": \"2021-02-07T13:10:13.983399Z\", \"duration\": \"0:00:58\", \"iteration\": \"11\", \"goal\": \"accuracy_max\", \"run_name\": \"SparseNormalizer, XGBoostClassifier\", \"run_properties\": \"<azureml.automl.runtime.shared.model_wrappers.SparseNormalizer object at 0x7f5b7def9898\", \"primary_metric\": 0.95833333, \"best_metric\": 0.975}, {\"run_id\": \"AutoML_ecb72259-be79-4d1d-bc4e-7fbe2df9fb8f_12\", \"run_number\": 26, \"metric\": null, \"status\": \"Completed\", \"run_type\": \"azureml.scriptrun\", \"training_percent\": \"100\", \"start_time\": \"2021-02-07T13:11:25.409505Z\", \"end_time\": \"2021-02-07T13:12:19.251111Z\", \"created_time\": \"2021-02-07T13:11:14.347383Z\", \"created_time_dt\": \"2021-02-07T13:11:14.347383Z\", \"duration\": \"0:01:04\", \"iteration\": \"12\", \"goal\": \"accuracy_max\", \"run_name\": \"RobustScaler, ExtremeRandomTrees\", \"run_properties\": \"copy=True, quantile_range=[25, 75], with_centering=True,\\n             with_scaling=False\", \"primary_metric\": 0.94166667, \"best_metric\": 0.975}, {\"run_id\": \"AutoML_ecb72259-be79-4d1d-bc4e-7fbe2df9fb8f_13\", \"run_number\": 27, \"metric\": null, \"status\": \"Completed\", \"run_type\": \"azureml.scriptrun\", \"training_percent\": \"100\", \"start_time\": \"2021-02-07T13:12:31.414515Z\", \"end_time\": \"2021-02-07T13:13:20.011133Z\", \"created_time\": \"2021-02-07T13:12:21.066711Z\", \"created_time_dt\": \"2021-02-07T13:12:21.066711Z\", \"duration\": \"0:00:58\", \"iteration\": \"13\", \"goal\": \"accuracy_max\", \"run_name\": \"RobustScaler, ExtremeRandomTrees\", \"run_properties\": \"copy=True, quantile_range=[25, 75], with_centering=True,\\n             with_scaling=False\", \"primary_metric\": 0.94166667, \"best_metric\": 0.975}, {\"run_id\": \"AutoML_ecb72259-be79-4d1d-bc4e-7fbe2df9fb8f_14\", \"run_number\": 28, \"metric\": null, \"status\": \"Completed\", \"run_type\": \"azureml.scriptrun\", \"training_percent\": \"100\", \"start_time\": \"2021-02-07T13:13:33.791439Z\", \"end_time\": \"2021-02-07T13:14:40.472036Z\", \"created_time\": \"2021-02-07T13:13:20.956959Z\", \"created_time_dt\": \"2021-02-07T13:13:20.956959Z\", \"duration\": \"0:01:19\", \"iteration\": \"14\", \"goal\": \"accuracy_max\", \"run_name\": \"VotingEnsemble\", \"run_properties\": \"classification_labels=None,\\n                              estimators=[('9',\\n                                           Pipeline(memory=None,\\n                                                    steps=[('sparsenormalizer',\\n                                                            <azureml.automl.runtime.shared.model_wrappers.SparseNormalizer object at 0x7f8c042bf6d8>\", \"primary_metric\": 0.98333333, \"best_metric\": 0.98333333}, {\"run_id\": \"AutoML_ecb72259-be79-4d1d-bc4e-7fbe2df9fb8f_15\", \"run_number\": 29, \"metric\": null, \"status\": \"Completed\", \"run_type\": \"azureml.scriptrun\", \"training_percent\": \"100\", \"start_time\": \"2021-02-07T13:14:54.469211Z\", \"end_time\": \"2021-02-07T13:16:03.622795Z\", \"created_time\": \"2021-02-07T13:14:41.862488Z\", \"created_time_dt\": \"2021-02-07T13:14:41.862488Z\", \"duration\": \"0:01:21\", \"iteration\": \"15\", \"goal\": \"accuracy_max\", \"run_name\": \"StackEnsemble\", \"run_properties\": \"base_learners=[('9',\\n                                        Pipeline(memory=None,\\n                                                 steps=[('sparsenormalizer',\\n                                                         <azureml.automl.runtime.shared.model_wrappers.SparseNormalizer object at 0x7fc8ad222588>\", \"primary_metric\": 0.98333333, \"best_metric\": 0.98333333}], \"children_metrics\": {\"categories\": [0], \"series\": {\"f1_score_weighted\": [{\"categories\": [\"0\", \"1\", \"2\", \"3\", \"4\", \"5\", \"6\", \"7\", \"8\", \"9\", \"10\", \"11\", \"12\", \"13\", \"14\", \"15\"], \"mode\": \"markers\", \"name\": \"f1_score_weighted\", \"stepped\": false, \"type\": \"scatter\", \"data\": [0.9500335462467815, 0.9500335462467815, 0.9500335462467815, 0.9248016757207933, 0.9415844721727075, 0.9420214752567693, 0.9415844721727075, 0.9502514111705288, 0.9494889308380356, 0.9748529536401389, 0.9251556178026765, 0.9583410797865131, 0.9418023370964548, 0.9418023370964548, 0.9832447665056361, 0.9832447665056361]}, {\"categories\": [\"0\", \"1\", \"2\", \"3\", \"4\", \"5\", \"6\", \"7\", \"8\", \"9\", \"10\", \"11\", \"12\", \"13\", \"14\", \"15\"], \"mode\": \"lines\", \"name\": \"f1_score_weighted_max\", \"stepped\": true, \"type\": \"scatter\", \"data\": [0.9500335462467815, 0.9500335462467815, 0.9500335462467815, 0.9500335462467815, 0.9500335462467815, 0.9500335462467815, 0.9500335462467815, 0.9502514111705288, 0.9502514111705288, 0.9748529536401389, 0.9748529536401389, 0.9748529536401389, 0.9748529536401389, 0.9748529536401389, 0.9832447665056361, 0.9832447665056361]}], \"average_precision_score_macro\": [{\"categories\": [\"0\", \"1\", \"2\", \"3\", \"4\", \"5\", \"6\", \"7\", \"8\", \"9\", \"10\", \"11\", \"12\", \"13\", \"14\", \"15\"], \"mode\": \"markers\", \"name\": \"average_precision_score_macro\", \"stepped\": false, \"type\": \"scatter\", \"data\": [0.9833395176252319, 0.9606684618291762, 0.9725132275132274, 0.9839836295391852, 0.9866345856524429, 0.9840783984533985, 0.9786019213003339, 0.9857590557590559, 0.9837603930461073, 0.9809297052154194, 0.9783668422259693, 0.9815646258503401, 0.9934126984126983, 0.991575963718821, 0.9932426303854875, 0.9845820901459998]}, {\"categories\": [\"0\", \"1\", \"2\", \"3\", \"4\", \"5\", \"6\", \"7\", \"8\", \"9\", \"10\", \"11\", \"12\", \"13\", \"14\", \"15\"], \"mode\": \"lines\", \"name\": \"average_precision_score_macro_max\", \"stepped\": true, \"type\": \"scatter\", \"data\": [0.9833395176252319, 0.9833395176252319, 0.9833395176252319, 0.9839836295391852, 0.9866345856524429, 0.9866345856524429, 0.9866345856524429, 0.9866345856524429, 0.9866345856524429, 0.9866345856524429, 0.9866345856524429, 0.9866345856524429, 0.9934126984126983, 0.9934126984126983, 0.9934126984126983, 0.9934126984126983]}], \"log_loss\": [{\"categories\": [\"0\", \"1\", \"2\", \"3\", \"4\", \"5\", \"6\", \"7\", \"8\", \"9\", \"10\", \"11\", \"12\", \"13\", \"14\", \"15\"], \"mode\": \"markers\", \"name\": \"log_loss\", \"stepped\": false, \"type\": \"scatter\", \"data\": [0.12768339105824716, 0.20628559384288878, 0.6439693182784713, 0.14968924734167915, 0.13135843854091953, 0.22751414940050138, 0.19192754515369168, 0.16858709783897546, 0.20818539309930725, 0.13683671132614889, 0.2998694915810984, 0.15840893301341527, 0.15757503981432894, 0.1534839226413006, 0.13533743678789437, 0.6282094087293121]}, {\"categories\": [\"0\", \"1\", \"2\", \"3\", \"4\", \"5\", \"6\", \"7\", \"8\", \"9\", \"10\", \"11\", \"12\", \"13\", \"14\", \"15\"], \"mode\": \"lines\", \"name\": \"log_loss_min\", \"stepped\": true, \"type\": \"scatter\", \"data\": [0.12768339105824716, 0.12768339105824716, 0.12768339105824716, 0.12768339105824716, 0.12768339105824716, 0.12768339105824716, 0.12768339105824716, 0.12768339105824716, 0.12768339105824716, 0.12768339105824716, 0.12768339105824716, 0.12768339105824716, 0.12768339105824716, 0.12768339105824716, 0.12768339105824716, 0.12768339105824716]}], \"average_precision_score_weighted\": [{\"categories\": [\"0\", \"1\", \"2\", \"3\", \"4\", \"5\", \"6\", \"7\", \"8\", \"9\", \"10\", \"11\", \"12\", \"13\", \"14\", \"15\"], \"mode\": \"markers\", \"name\": \"average_precision_score_weighted\", \"stepped\": false, \"type\": \"scatter\", \"data\": [0.9867442279942281, 0.9622784391534391, 0.973313492063492, 0.9851101444851444, 0.9872943722943723, 0.9847985347985349, 0.9801696682946683, 0.9862873931623932, 0.9861144179894181, 0.9845634920634921, 0.9795070207570209, 0.9850396825396824, 0.994295634920635, 0.9923875661375663, 0.9941468253968255, 0.9876374965190756]}, {\"categories\": [\"0\", \"1\", \"2\", \"3\", \"4\", \"5\", \"6\", \"7\", \"8\", \"9\", \"10\", \"11\", \"12\", \"13\", \"14\", \"15\"], \"mode\": \"lines\", \"name\": \"average_precision_score_weighted_max\", \"stepped\": true, \"type\": \"scatter\", \"data\": [0.9867442279942281, 0.9867442279942281, 0.9867442279942281, 0.9867442279942281, 0.9872943722943723, 0.9872943722943723, 0.9872943722943723, 0.9872943722943723, 0.9872943722943723, 0.9872943722943723, 0.9872943722943723, 0.9872943722943723, 0.994295634920635, 0.994295634920635, 0.994295634920635, 0.994295634920635]}], \"recall_score_macro\": [{\"categories\": [\"0\", \"1\", \"2\", \"3\", \"4\", \"5\", \"6\", \"7\", \"8\", \"9\", \"10\", \"11\", \"12\", \"13\", \"14\", \"15\"], \"mode\": \"markers\", \"name\": \"recall_score_macro\", \"stepped\": false, \"type\": \"scatter\", \"data\": [0.9514814814814814, 0.9514814814814814, 0.9514814814814814, 0.9274074074074073, 0.9440740740740742, 0.9438095238095239, 0.9440740740740742, 0.9502910052910053, 0.9477777777777778, 0.9727777777777777, 0.928068783068783, 0.9588888888888889, 0.9428835978835981, 0.9428835978835981, 0.981111111111111, 0.981111111111111]}, {\"categories\": [\"0\", \"1\", \"2\", \"3\", \"4\", \"5\", \"6\", \"7\", \"8\", \"9\", \"10\", \"11\", \"12\", \"13\", \"14\", \"15\"], \"mode\": \"lines\", \"name\": \"recall_score_macro_max\", \"stepped\": true, \"type\": \"scatter\", \"data\": [0.9514814814814814, 0.9514814814814814, 0.9514814814814814, 0.9514814814814814, 0.9514814814814814, 0.9514814814814814, 0.9514814814814814, 0.9514814814814814, 0.9514814814814814, 0.9727777777777777, 0.9727777777777777, 0.9727777777777777, 0.9727777777777777, 0.9727777777777777, 0.981111111111111, 0.981111111111111]}], \"recall_score_micro\": [{\"categories\": [\"0\", \"1\", \"2\", \"3\", \"4\", \"5\", \"6\", \"7\", \"8\", \"9\", \"10\", \"11\", \"12\", \"13\", \"14\", \"15\"], \"mode\": \"markers\", \"name\": \"recall_score_micro\", \"stepped\": false, \"type\": \"scatter\", \"data\": [0.95, 0.95, 0.95, 0.925, 0.9416666666666667, 0.9416666666666667, 0.9416666666666667, 0.95, 0.95, 0.975, 0.925, 0.9583333333333334, 0.9416666666666668, 0.9416666666666668, 0.9833333333333334, 0.9833333333333334]}, {\"categories\": [\"0\", \"1\", \"2\", \"3\", \"4\", \"5\", \"6\", \"7\", \"8\", \"9\", \"10\", \"11\", \"12\", \"13\", \"14\", \"15\"], \"mode\": \"lines\", \"name\": \"recall_score_micro_max\", \"stepped\": true, \"type\": \"scatter\", \"data\": [0.95, 0.95, 0.95, 0.95, 0.95, 0.95, 0.95, 0.95, 0.95, 0.975, 0.975, 0.975, 0.975, 0.975, 0.9833333333333334, 0.9833333333333334]}], \"AUC_weighted\": [{\"categories\": [\"0\", \"1\", \"2\", \"3\", \"4\", \"5\", \"6\", \"7\", \"8\", \"9\", \"10\", \"11\", \"12\", \"13\", \"14\", \"15\"], \"mode\": \"markers\", \"name\": \"AUC_weighted\", \"stepped\": false, \"type\": \"scatter\", \"data\": [0.9930383556931546, 0.9754719212246303, 0.9858568756449948, 0.9917412710698315, 0.992718062005504, 0.9901659786721705, 0.9885345717234262, 0.9909605048159614, 0.9926180340557276, 0.9918795149638804, 0.9866942939456484, 0.9934511523907809, 0.9978865669074647, 0.9956255374957002, 0.996701926384589, 0.9879665462676298]}, {\"categories\": [\"0\", \"1\", \"2\", \"3\", \"4\", \"5\", \"6\", \"7\", \"8\", \"9\", \"10\", \"11\", \"12\", \"13\", \"14\", \"15\"], \"mode\": \"lines\", \"name\": \"AUC_weighted_max\", \"stepped\": true, \"type\": \"scatter\", \"data\": [0.9930383556931546, 0.9930383556931546, 0.9930383556931546, 0.9930383556931546, 0.9930383556931546, 0.9930383556931546, 0.9930383556931546, 0.9930383556931546, 0.9930383556931546, 0.9930383556931546, 0.9930383556931546, 0.9934511523907809, 0.9978865669074647, 0.9978865669074647, 0.9978865669074647, 0.9978865669074647]}], \"AUC_micro\": [{\"categories\": [\"0\", \"1\", \"2\", \"3\", \"4\", \"5\", \"6\", \"7\", \"8\", \"9\", \"10\", \"11\", \"12\", \"13\", \"14\", \"15\"], \"mode\": \"markers\", \"name\": \"AUC_micro\", \"stepped\": false, \"type\": \"scatter\", \"data\": [0.9947916666666666, 0.9769097222222223, 0.9855902777777779, 0.9932291666666666, 0.9925347222222223, 0.9916666666666666, 0.9868055555555555, 0.9907986111111111, 0.9946180555555555, 0.9949652777777779, 0.986111111111111, 0.9951388888888889, 0.9967013888888889, 0.9953125, 0.9979166666666668, 0.9848958333333334]}, {\"categories\": [\"0\", \"1\", \"2\", \"3\", \"4\", \"5\", \"6\", \"7\", \"8\", \"9\", \"10\", \"11\", \"12\", \"13\", \"14\", \"15\"], \"mode\": \"lines\", \"name\": \"AUC_micro_max\", \"stepped\": true, \"type\": \"scatter\", \"data\": [0.9947916666666666, 0.9947916666666666, 0.9947916666666666, 0.9947916666666666, 0.9947916666666666, 0.9947916666666666, 0.9947916666666666, 0.9947916666666666, 0.9947916666666666, 0.9949652777777779, 0.9949652777777779, 0.9951388888888889, 0.9967013888888889, 0.9967013888888889, 0.9979166666666668, 0.9979166666666668]}], \"balanced_accuracy\": [{\"categories\": [\"0\", \"1\", \"2\", \"3\", \"4\", \"5\", \"6\", \"7\", \"8\", \"9\", \"10\", \"11\", \"12\", \"13\", \"14\", \"15\"], \"mode\": \"markers\", \"name\": \"balanced_accuracy\", \"stepped\": false, \"type\": \"scatter\", \"data\": [0.9514814814814814, 0.9514814814814814, 0.9514814814814814, 0.9274074074074073, 0.9440740740740742, 0.9438095238095239, 0.9440740740740742, 0.9502910052910053, 0.9477777777777778, 0.9727777777777777, 0.928068783068783, 0.9588888888888889, 0.9428835978835981, 0.9428835978835981, 0.981111111111111, 0.981111111111111]}, {\"categories\": [\"0\", \"1\", \"2\", \"3\", \"4\", \"5\", \"6\", \"7\", \"8\", \"9\", \"10\", \"11\", \"12\", \"13\", \"14\", \"15\"], \"mode\": \"lines\", \"name\": \"balanced_accuracy_max\", \"stepped\": true, \"type\": \"scatter\", \"data\": [0.9514814814814814, 0.9514814814814814, 0.9514814814814814, 0.9514814814814814, 0.9514814814814814, 0.9514814814814814, 0.9514814814814814, 0.9514814814814814, 0.9514814814814814, 0.9727777777777777, 0.9727777777777777, 0.9727777777777777, 0.9727777777777777, 0.9727777777777777, 0.981111111111111, 0.981111111111111]}], \"accuracy\": [{\"categories\": [\"0\", \"1\", \"2\", \"3\", \"4\", \"5\", \"6\", \"7\", \"8\", \"9\", \"10\", \"11\", \"12\", \"13\", \"14\", \"15\"], \"mode\": \"markers\", \"name\": \"accuracy\", \"stepped\": false, \"type\": \"scatter\", \"data\": [0.95, 0.95, 0.95, 0.925, 0.9416666666666667, 0.9416666666666667, 0.9416666666666667, 0.95, 0.95, 0.975, 0.925, 0.9583333333333334, 0.9416666666666668, 0.9416666666666668, 0.9833333333333334, 0.9833333333333334]}, {\"categories\": [\"0\", \"1\", \"2\", \"3\", \"4\", \"5\", \"6\", \"7\", \"8\", \"9\", \"10\", \"11\", \"12\", \"13\", \"14\", \"15\"], \"mode\": \"lines\", \"name\": \"accuracy_max\", \"stepped\": true, \"type\": \"scatter\", \"data\": [0.95, 0.95, 0.95, 0.95, 0.95, 0.95, 0.95, 0.95, 0.95, 0.975, 0.975, 0.975, 0.975, 0.975, 0.9833333333333334, 0.9833333333333334]}], \"recall_score_weighted\": [{\"categories\": [\"0\", \"1\", \"2\", \"3\", \"4\", \"5\", \"6\", \"7\", \"8\", \"9\", \"10\", \"11\", \"12\", \"13\", \"14\", \"15\"], \"mode\": \"markers\", \"name\": \"recall_score_weighted\", \"stepped\": false, \"type\": \"scatter\", \"data\": [0.95, 0.95, 0.95, 0.925, 0.9416666666666667, 0.9416666666666667, 0.9416666666666667, 0.95, 0.95, 0.975, 0.925, 0.9583333333333334, 0.9416666666666668, 0.9416666666666668, 0.9833333333333334, 0.9833333333333334]}, {\"categories\": [\"0\", \"1\", \"2\", \"3\", \"4\", \"5\", \"6\", \"7\", \"8\", \"9\", \"10\", \"11\", \"12\", \"13\", \"14\", \"15\"], \"mode\": \"lines\", \"name\": \"recall_score_weighted_max\", \"stepped\": true, \"type\": \"scatter\", \"data\": [0.95, 0.95, 0.95, 0.95, 0.95, 0.95, 0.95, 0.95, 0.95, 0.975, 0.975, 0.975, 0.975, 0.975, 0.9833333333333334, 0.9833333333333334]}], \"precision_score_weighted\": [{\"categories\": [\"0\", \"1\", \"2\", \"3\", \"4\", \"5\", \"6\", \"7\", \"8\", \"9\", \"10\", \"11\", \"12\", \"13\", \"14\", \"15\"], \"mode\": \"markers\", \"name\": \"precision_score_weighted\", \"stepped\": false, \"type\": \"scatter\", \"data\": [0.9575231481481481, 0.9575231481481481, 0.9575231481481481, 0.9348148148148148, 0.9515972222222221, 0.9510185185185185, 0.9515972222222221, 0.9555555555555555, 0.9569654882154882, 0.9779166666666667, 0.9358333333333333, 0.9648379629629629, 0.9496296296296295, 0.9496296296296295, 0.9854166666666666, 0.9854166666666666]}, {\"categories\": [\"0\", \"1\", \"2\", \"3\", \"4\", \"5\", \"6\", \"7\", \"8\", \"9\", \"10\", \"11\", \"12\", \"13\", \"14\", \"15\"], \"mode\": \"lines\", \"name\": \"precision_score_weighted_max\", \"stepped\": true, \"type\": \"scatter\", \"data\": [0.9575231481481481, 0.9575231481481481, 0.9575231481481481, 0.9575231481481481, 0.9575231481481481, 0.9575231481481481, 0.9575231481481481, 0.9575231481481481, 0.9575231481481481, 0.9779166666666667, 0.9779166666666667, 0.9779166666666667, 0.9779166666666667, 0.9779166666666667, 0.9854166666666666, 0.9854166666666666]}], \"average_precision_score_micro\": [{\"categories\": [\"0\", \"1\", \"2\", \"3\", \"4\", \"5\", \"6\", \"7\", \"8\", \"9\", \"10\", \"11\", \"12\", \"13\", \"14\", \"15\"], \"mode\": \"markers\", \"name\": \"average_precision_score_micro\", \"stepped\": false, \"type\": \"scatter\", \"data\": [0.9901607266320298, 0.9614623875761605, 0.9699735073702465, 0.9867346113238169, 0.9842671287663659, 0.9849793201817485, 0.9766969030278612, 0.984084825421782, 0.9899286050239947, 0.9898297541441909, 0.9757210738907982, 0.9905683487608083, 0.9932009417785279, 0.9912342188809579, 0.9960898161891414, 0.981179050628295]}, {\"categories\": [\"0\", \"1\", \"2\", \"3\", \"4\", \"5\", \"6\", \"7\", \"8\", \"9\", \"10\", \"11\", \"12\", \"13\", \"14\", \"15\"], \"mode\": \"lines\", \"name\": \"average_precision_score_micro_max\", \"stepped\": true, \"type\": \"scatter\", \"data\": [0.9901607266320298, 0.9901607266320298, 0.9901607266320298, 0.9901607266320298, 0.9901607266320298, 0.9901607266320298, 0.9901607266320298, 0.9901607266320298, 0.9901607266320298, 0.9901607266320298, 0.9901607266320298, 0.9905683487608083, 0.9932009417785279, 0.9932009417785279, 0.9960898161891414, 0.9960898161891414]}], \"norm_macro_recall\": [{\"categories\": [\"0\", \"1\", \"2\", \"3\", \"4\", \"5\", \"6\", \"7\", \"8\", \"9\", \"10\", \"11\", \"12\", \"13\", \"14\", \"15\"], \"mode\": \"markers\", \"name\": \"norm_macro_recall\", \"stepped\": false, \"type\": \"scatter\", \"data\": [0.9272222222222221, 0.9272222222222221, 0.9272222222222221, 0.891111111111111, 0.916111111111111, 0.9157142857142857, 0.916111111111111, 0.925436507936508, 0.9216666666666665, 0.9591666666666665, 0.8921031746031746, 0.9383333333333332, 0.9143253968253967, 0.9143253968253967, 0.9716666666666665, 0.9716666666666665]}, {\"categories\": [\"0\", \"1\", \"2\", \"3\", \"4\", \"5\", \"6\", \"7\", \"8\", \"9\", \"10\", \"11\", \"12\", \"13\", \"14\", \"15\"], \"mode\": \"lines\", \"name\": \"norm_macro_recall_max\", \"stepped\": true, \"type\": \"scatter\", \"data\": [0.9272222222222221, 0.9272222222222221, 0.9272222222222221, 0.9272222222222221, 0.9272222222222221, 0.9272222222222221, 0.9272222222222221, 0.9272222222222221, 0.9272222222222221, 0.9591666666666665, 0.9591666666666665, 0.9591666666666665, 0.9591666666666665, 0.9591666666666665, 0.9716666666666665, 0.9716666666666665]}], \"precision_score_micro\": [{\"categories\": [\"0\", \"1\", \"2\", \"3\", \"4\", \"5\", \"6\", \"7\", \"8\", \"9\", \"10\", \"11\", \"12\", \"13\", \"14\", \"15\"], \"mode\": \"markers\", \"name\": \"precision_score_micro\", \"stepped\": false, \"type\": \"scatter\", \"data\": [0.95, 0.95, 0.95, 0.925, 0.9416666666666667, 0.9416666666666667, 0.9416666666666667, 0.95, 0.95, 0.975, 0.925, 0.9583333333333334, 0.9416666666666668, 0.9416666666666668, 0.9833333333333334, 0.9833333333333334]}, {\"categories\": [\"0\", \"1\", \"2\", \"3\", \"4\", \"5\", \"6\", \"7\", \"8\", \"9\", \"10\", \"11\", \"12\", \"13\", \"14\", \"15\"], \"mode\": \"lines\", \"name\": \"precision_score_micro_max\", \"stepped\": true, \"type\": \"scatter\", \"data\": [0.95, 0.95, 0.95, 0.95, 0.95, 0.95, 0.95, 0.95, 0.95, 0.975, 0.975, 0.975, 0.975, 0.975, 0.9833333333333334, 0.9833333333333334]}], \"matthews_correlation\": [{\"categories\": [\"0\", \"1\", \"2\", \"3\", \"4\", \"5\", \"6\", \"7\", \"8\", \"9\", \"10\", \"11\", \"12\", \"13\", \"14\", \"15\"], \"mode\": \"markers\", \"name\": \"matthews_correlation\", \"stepped\": false, \"type\": \"scatter\", \"data\": [0.9268355086096924, 0.9268355086096924, 0.9268355086096924, 0.8905663250663448, 0.9157219480771299, 0.9145718393582571, 0.9157219480771299, 0.9249807366024309, 0.9269518122353464, 0.9622505245661778, 0.8903124588999491, 0.938784535827837, 0.9138671760698683, 0.9138671760698683, 0.9743531852498265, 0.9743531852498265]}, {\"categories\": [\"0\", \"1\", \"2\", \"3\", \"4\", \"5\", \"6\", \"7\", \"8\", \"9\", \"10\", \"11\", \"12\", \"13\", \"14\", \"15\"], \"mode\": \"lines\", \"name\": \"matthews_correlation_max\", \"stepped\": true, \"type\": \"scatter\", \"data\": [0.9268355086096924, 0.9268355086096924, 0.9268355086096924, 0.9268355086096924, 0.9268355086096924, 0.9268355086096924, 0.9268355086096924, 0.9268355086096924, 0.9269518122353464, 0.9622505245661778, 0.9622505245661778, 0.9622505245661778, 0.9622505245661778, 0.9622505245661778, 0.9743531852498265, 0.9743531852498265]}], \"f1_score_macro\": [{\"categories\": [\"0\", \"1\", \"2\", \"3\", \"4\", \"5\", \"6\", \"7\", \"8\", \"9\", \"10\", \"11\", \"12\", \"13\", \"14\", \"15\"], \"mode\": \"markers\", \"name\": \"f1_score_macro\", \"stepped\": false, \"type\": \"scatter\", \"data\": [0.949179045355516, 0.949179045355516, 0.949179045355516, 0.9249275669863906, 0.9412814418696772, 0.9391223155929038, 0.9412814418696772, 0.9465397674221204, 0.9478826506447989, 0.972851936604797, 0.9231823840647368, 0.9574349793080443, 0.9386421639362815, 0.9386421639362815, 0.980805152979066, 0.980805152979066]}, {\"categories\": [\"0\", \"1\", \"2\", \"3\", \"4\", \"5\", \"6\", \"7\", \"8\", \"9\", \"10\", \"11\", \"12\", \"13\", \"14\", \"15\"], \"mode\": \"lines\", \"name\": \"f1_score_macro_max\", \"stepped\": true, \"type\": \"scatter\", \"data\": [0.949179045355516, 0.949179045355516, 0.949179045355516, 0.949179045355516, 0.949179045355516, 0.949179045355516, 0.949179045355516, 0.949179045355516, 0.949179045355516, 0.972851936604797, 0.972851936604797, 0.972851936604797, 0.972851936604797, 0.972851936604797, 0.980805152979066, 0.980805152979066]}], \"precision_score_macro\": [{\"categories\": [\"0\", \"1\", \"2\", \"3\", \"4\", \"5\", \"6\", \"7\", \"8\", \"9\", \"10\", \"11\", \"12\", \"13\", \"14\", \"15\"], \"mode\": \"markers\", \"name\": \"precision_score_macro\", \"stepped\": false, \"type\": \"scatter\", \"data\": [0.9546296296296296, 0.9546296296296296, 0.9546296296296296, 0.9329629629629629, 0.9487037037037037, 0.9423280423280422, 0.9487037037037037, 0.9475132275132274, 0.9563973063973064, 0.9766666666666666, 0.928068783068783, 0.9627777777777776, 0.9415873015873014, 0.9415873015873014, 0.9833333333333334, 0.9833333333333334]}, {\"categories\": [\"0\", \"1\", \"2\", \"3\", \"4\", \"5\", \"6\", \"7\", \"8\", \"9\", \"10\", \"11\", \"12\", \"13\", \"14\", \"15\"], \"mode\": \"lines\", \"name\": \"precision_score_macro_max\", \"stepped\": true, \"type\": \"scatter\", \"data\": [0.9546296296296296, 0.9546296296296296, 0.9546296296296296, 0.9546296296296296, 0.9546296296296296, 0.9546296296296296, 0.9546296296296296, 0.9546296296296296, 0.9563973063973064, 0.9766666666666666, 0.9766666666666666, 0.9766666666666666, 0.9766666666666666, 0.9766666666666666, 0.9833333333333334, 0.9833333333333334]}], \"f1_score_micro\": [{\"categories\": [\"0\", \"1\", \"2\", \"3\", \"4\", \"5\", \"6\", \"7\", \"8\", \"9\", \"10\", \"11\", \"12\", \"13\", \"14\", \"15\"], \"mode\": \"markers\", \"name\": \"f1_score_micro\", \"stepped\": false, \"type\": \"scatter\", \"data\": [0.95, 0.95, 0.95, 0.925, 0.9416666666666667, 0.9416666666666667, 0.9416666666666667, 0.95, 0.95, 0.975, 0.925, 0.9583333333333334, 0.9416666666666668, 0.9416666666666668, 0.9833333333333334, 0.9833333333333334]}, {\"categories\": [\"0\", \"1\", \"2\", \"3\", \"4\", \"5\", \"6\", \"7\", \"8\", \"9\", \"10\", \"11\", \"12\", \"13\", \"14\", \"15\"], \"mode\": \"lines\", \"name\": \"f1_score_micro_max\", \"stepped\": true, \"type\": \"scatter\", \"data\": [0.95, 0.95, 0.95, 0.95, 0.95, 0.95, 0.95, 0.95, 0.95, 0.975, 0.975, 0.975, 0.975, 0.975, 0.9833333333333334, 0.9833333333333334]}], \"weighted_accuracy\": [{\"categories\": [\"0\", \"1\", \"2\", \"3\", \"4\", \"5\", \"6\", \"7\", \"8\", \"9\", \"10\", \"11\", \"12\", \"13\", \"14\", \"15\"], \"mode\": \"markers\", \"name\": \"weighted_accuracy\", \"stepped\": false, \"type\": \"scatter\", \"data\": [0.9474494782307132, 0.9474494782307132, 0.9474494782307132, 0.9215903717015038, 0.9381711277152494, 0.9392966360856269, 0.9381711277152494, 0.9493607932154229, 0.9512421576972792, 0.9761562470443582, 0.9217708628897506, 0.9568137393990982, 0.940082442699959, 0.940082442699959, 0.9844036697247706, 0.9844036697247706]}, {\"categories\": [\"0\", \"1\", \"2\", \"3\", \"4\", \"5\", \"6\", \"7\", \"8\", \"9\", \"10\", \"11\", \"12\", \"13\", \"14\", \"15\"], \"mode\": \"lines\", \"name\": \"weighted_accuracy_max\", \"stepped\": true, \"type\": \"scatter\", \"data\": [0.9474494782307132, 0.9474494782307132, 0.9474494782307132, 0.9474494782307132, 0.9474494782307132, 0.9474494782307132, 0.9474494782307132, 0.9493607932154229, 0.9512421576972792, 0.9761562470443582, 0.9761562470443582, 0.9761562470443582, 0.9761562470443582, 0.9761562470443582, 0.9844036697247706, 0.9844036697247706]}], \"AUC_macro\": [{\"categories\": [\"0\", \"1\", \"2\", \"3\", \"4\", \"5\", \"6\", \"7\", \"8\", \"9\", \"10\", \"11\", \"12\", \"13\", \"14\", \"15\"], \"mode\": \"markers\", \"name\": \"AUC_macro\", \"stepped\": false, \"type\": \"scatter\", \"data\": [0.9915022032204694, 0.9770190795616494, 0.9874780855324587, 0.9919141979403847, 0.9931232825732632, 0.9904786066473374, 0.9887288960418475, 0.9916197714465904, 0.9921028367487346, 0.9904082510197061, 0.9873052849307363, 0.992274722754599, 0.9977148344718003, 0.9956769869253744, 0.9966916474192015, 0.9859557799728078]}, {\"categories\": [\"0\", \"1\", \"2\", \"3\", \"4\", \"5\", \"6\", \"7\", \"8\", \"9\", \"10\", \"11\", \"12\", \"13\", \"14\", \"15\"], \"mode\": \"lines\", \"name\": \"AUC_macro_max\", \"stepped\": true, \"type\": \"scatter\", \"data\": [0.9915022032204694, 0.9915022032204694, 0.9915022032204694, 0.9919141979403847, 0.9931232825732632, 0.9931232825732632, 0.9931232825732632, 0.9931232825732632, 0.9931232825732632, 0.9931232825732632, 0.9931232825732632, 0.9931232825732632, 0.9977148344718003, 0.9977148344718003, 0.9977148344718003, 0.9977148344718003]}]}, \"metricName\": null, \"primaryMetricName\": \"accuracy\", \"showLegend\": false}, \"run_metrics\": [{\"name\": \"experiment_status\", \"run_id\": \"AutoML_ecb72259-be79-4d1d-bc4e-7fbe2df9fb8f\", \"categories\": [0, 1, 2, 3, 4, 5], \"series\": [{\"data\": [\"DatasetEvaluation\", \"FeaturesGeneration\", \"DatasetFeaturization\", \"DatasetFeaturizationCompleted\", \"DatasetCrossValidationSplit\", \"ModelSelection\"]}]}, {\"name\": \"experiment_status_description\", \"run_id\": \"AutoML_ecb72259-be79-4d1d-bc4e-7fbe2df9fb8f\", \"categories\": [0, 1, 2, 3, 4, 5], \"series\": [{\"data\": [\"Gathering dataset statistics.\", \"Generating features for the dataset.\", \"Beginning to fit featurizers and featurize the dataset.\", \"Completed fit featurizers and featurizing the dataset.\", \"Generating individually featurized CV splits.\", \"Beginning model selection.\"]}]}, {\"name\": \"f1_score_weighted\", \"run_id\": \"AutoML_ecb72259-be79-4d1d-bc4e-7fbe2df9fb8f\", \"categories\": [0], \"series\": [{\"data\": [0.9832447665056361]}]}, {\"name\": \"balanced_accuracy\", \"run_id\": \"AutoML_ecb72259-be79-4d1d-bc4e-7fbe2df9fb8f\", \"categories\": [0], \"series\": [{\"data\": [0.981111111111111]}]}, {\"name\": \"matthews_correlation\", \"run_id\": \"AutoML_ecb72259-be79-4d1d-bc4e-7fbe2df9fb8f\", \"categories\": [0], \"series\": [{\"data\": [0.9743531852498265]}]}, {\"name\": \"norm_macro_recall\", \"run_id\": \"AutoML_ecb72259-be79-4d1d-bc4e-7fbe2df9fb8f\", \"categories\": [0], \"series\": [{\"data\": [0.9716666666666665]}]}, {\"name\": \"average_precision_score_macro\", \"run_id\": \"AutoML_ecb72259-be79-4d1d-bc4e-7fbe2df9fb8f\", \"categories\": [0], \"series\": [{\"data\": [0.9932426303854875]}]}, {\"name\": \"AUC_macro\", \"run_id\": \"AutoML_ecb72259-be79-4d1d-bc4e-7fbe2df9fb8f\", \"categories\": [0], \"series\": [{\"data\": [0.9966916474192015]}]}, {\"name\": \"AUC_weighted\", \"run_id\": \"AutoML_ecb72259-be79-4d1d-bc4e-7fbe2df9fb8f\", \"categories\": [0], \"series\": [{\"data\": [0.996701926384589]}]}, {\"name\": \"AUC_micro\", \"run_id\": \"AutoML_ecb72259-be79-4d1d-bc4e-7fbe2df9fb8f\", \"categories\": [0], \"series\": [{\"data\": [0.9979166666666668]}]}, {\"name\": \"recall_score_weighted\", \"run_id\": \"AutoML_ecb72259-be79-4d1d-bc4e-7fbe2df9fb8f\", \"categories\": [0], \"series\": [{\"data\": [0.9833333333333334]}]}, {\"name\": \"log_loss\", \"run_id\": \"AutoML_ecb72259-be79-4d1d-bc4e-7fbe2df9fb8f\", \"categories\": [0], \"series\": [{\"data\": [0.13533743678789437]}]}, {\"name\": \"average_precision_score_weighted\", \"run_id\": \"AutoML_ecb72259-be79-4d1d-bc4e-7fbe2df9fb8f\", \"categories\": [0], \"series\": [{\"data\": [0.9941468253968255]}]}, {\"name\": \"recall_score_micro\", \"run_id\": \"AutoML_ecb72259-be79-4d1d-bc4e-7fbe2df9fb8f\", \"categories\": [0], \"series\": [{\"data\": [0.9833333333333334]}]}, {\"name\": \"average_precision_score_micro\", \"run_id\": \"AutoML_ecb72259-be79-4d1d-bc4e-7fbe2df9fb8f\", \"categories\": [0], \"series\": [{\"data\": [0.9960898161891414]}]}, {\"name\": \"f1_score_macro\", \"run_id\": \"AutoML_ecb72259-be79-4d1d-bc4e-7fbe2df9fb8f\", \"categories\": [0], \"series\": [{\"data\": [0.980805152979066]}]}, {\"name\": \"precision_score_weighted\", \"run_id\": \"AutoML_ecb72259-be79-4d1d-bc4e-7fbe2df9fb8f\", \"categories\": [0], \"series\": [{\"data\": [0.9854166666666666]}]}, {\"name\": \"recall_score_macro\", \"run_id\": \"AutoML_ecb72259-be79-4d1d-bc4e-7fbe2df9fb8f\", \"categories\": [0], \"series\": [{\"data\": [0.981111111111111]}]}, {\"name\": \"f1_score_micro\", \"run_id\": \"AutoML_ecb72259-be79-4d1d-bc4e-7fbe2df9fb8f\", \"categories\": [0], \"series\": [{\"data\": [0.9833333333333334]}]}, {\"name\": \"weighted_accuracy\", \"run_id\": \"AutoML_ecb72259-be79-4d1d-bc4e-7fbe2df9fb8f\", \"categories\": [0], \"series\": [{\"data\": [0.9844036697247706]}]}, {\"name\": \"precision_score_micro\", \"run_id\": \"AutoML_ecb72259-be79-4d1d-bc4e-7fbe2df9fb8f\", \"categories\": [0], \"series\": [{\"data\": [0.9833333333333334]}]}, {\"name\": \"accuracy\", \"run_id\": \"AutoML_ecb72259-be79-4d1d-bc4e-7fbe2df9fb8f\", \"categories\": [0], \"series\": [{\"data\": [0.9833333333333334]}]}, {\"name\": \"precision_score_macro\", \"run_id\": \"AutoML_ecb72259-be79-4d1d-bc4e-7fbe2df9fb8f\", \"categories\": [0], \"series\": [{\"data\": [0.9833333333333334]}]}], \"run_logs\": \"\\nRun is completed.\", \"graph\": {}, \"widget_settings\": {\"childWidgetDisplay\": \"popup\", \"send_telemetry\": false, \"log_level\": \"INFO\", \"sdk_version\": \"1.20.0\"}, \"loading\": false}"
          },
          "metadata": {}
        }
      ],
      "execution_count": 16,
      "metadata": {
        "gather": {
          "logged": 1612703897891
        },
        "jupyter": {
          "outputs_hidden": false,
          "source_hidden": false
        },
        "nteract": {
          "transient": {
            "deleting": false
          }
        }
      }
    },
    {
      "cell_type": "markdown",
      "source": [
        "## Best Model\n",
        "\n",
        "TODO: In the cell below, get the best model from the automl experiments and display all the properties of the model.\n",
        "\n"
      ],
      "metadata": {}
    },
    {
      "cell_type": "code",
      "source": [
        "best_run, best_model = remote_run.get_output()\n",
        "best_run_metrics = best_run.get_metrics()\n",
        "\n",
        "best_run"
      ],
      "outputs": [
        {
          "output_type": "stream",
          "name": "stderr",
          "text": [
            "WARNING:root:The version of the SDK does not match the version the model was trained on.\n",
            "WARNING:root:The consistency in the result may not be guaranteed.\n",
            "WARNING:root:Package:azureml-automl-core, training version:1.21.0, current version:1.20.0\n",
            "Package:azureml-automl-runtime, training version:1.21.0, current version:1.20.0\n",
            "Package:azureml-core, training version:1.21.0.post1, current version:1.20.0\n",
            "Package:azureml-dataprep, training version:2.8.2, current version:2.7.3\n",
            "Package:azureml-dataprep-native, training version:28.0.0, current version:27.0.0\n",
            "Package:azureml-dataprep-rslex, training version:1.6.0, current version:1.5.0\n",
            "Package:azureml-dataset-runtime, training version:1.21.0, current version:1.20.0\n",
            "Package:azureml-defaults, training version:1.21.0, current version:1.20.0\n",
            "Package:azureml-interpret, training version:1.21.0, current version:1.20.0\n",
            "Package:azureml-pipeline-core, training version:1.21.0, current version:1.20.0\n",
            "Package:azureml-telemetry, training version:1.21.0, current version:1.20.0\n",
            "Package:azureml-train-automl-client, training version:1.21.0, current version:1.20.0\n",
            "Package:azureml-train-automl-runtime, training version:1.21.0, current version:1.20.0\n",
            "WARNING:root:Please ensure the version of your local conda dependencies match the version on which your model was trained in order to properly retrieve your model.\n"
          ]
        },
        {
          "output_type": "execute_result",
          "execution_count": 17,
          "data": {
            "text/plain": "Run(Experiment: capstone,\nId: AutoML_ecb72259-be79-4d1d-bc4e-7fbe2df9fb8f_14,\nType: azureml.scriptrun,\nStatus: Completed)",
            "text/html": "<table style=\"width:100%\"><tr><th>Experiment</th><th>Id</th><th>Type</th><th>Status</th><th>Details Page</th><th>Docs Page</th></tr><tr><td>capstone</td><td>AutoML_ecb72259-be79-4d1d-bc4e-7fbe2df9fb8f_14</td><td>azureml.scriptrun</td><td>Completed</td><td><a href=\"https://ml.azure.com/experiments/capstone/runs/AutoML_ecb72259-be79-4d1d-bc4e-7fbe2df9fb8f_14?wsid=/subscriptions/b968fb36-f06a-4c76-a15f-afab68ae7667/resourcegroups/aml-quickstarts-137812/workspaces/quick-starts-ws-137812\" target=\"_blank\" rel=\"noopener\">Link to Azure Machine Learning studio</a></td><td><a href=\"https://docs.microsoft.com/en-us/python/api/azureml-core/azureml.core.run.Run?view=azure-ml-py\" target=\"_blank\" rel=\"noopener\">Link to Documentation</a></td></tr></table>"
          },
          "metadata": {}
        }
      ],
      "execution_count": 17,
      "metadata": {
        "gather": {
          "logged": 1612703926631
        },
        "jupyter": {
          "outputs_hidden": false,
          "source_hidden": false
        },
        "nteract": {
          "transient": {
            "deleting": false
          }
        }
      }
    },
    {
      "cell_type": "code",
      "source": [
        "best_model"
      ],
      "outputs": [
        {
          "output_type": "execute_result",
          "execution_count": 18,
          "data": {
            "text/plain": "PipelineWithYTransformations(Pipeline={'memory': None,\n                                       'steps': [('datatransformer',\n                                                  DataTransformer(enable_dnn=None,\n                                                                  enable_feature_sweeping=None,\n                                                                  feature_sweeping_config=None,\n                                                                  feature_sweeping_timeout=None,\n                                                                  featurization_config=None,\n                                                                  force_text_dnn=None,\n                                                                  is_cross_validation=None,\n                                                                  is_onnx_compatible=None,\n                                                                  logger=None,\n                                                                  observer=None,\n                                                                  task=None,\n                                                                  working_dir=None))...\n                                                                                                                                     min_impurity_decrease=0.0,\n                                                                                                                                     min_impurity_split=None,\n                                                                                                                                     min_samples_leaf=0.01,\n                                                                                                                                     min_samples_split=0.10368421052631578,\n                                                                                                                                     min_weight_fraction_leaf=0.0,\n                                                                                                                                     n_estimators=10,\n                                                                                                                                     n_jobs=1,\n                                                                                                                                     oob_score=False,\n                                                                                                                                     random_state=None,\n                                                                                                                                     verbose=0,\n                                                                                                                                     warm_start=False))],\n                                                                                                      verbose=False))],\n                                                                                flatten_transform=None,\n                                                                                weights=[0.2,\n                                                                                         0.2,\n                                                                                         0.2,\n                                                                                         0.2,\n                                                                                         0.2]))],\n                                       'verbose': False},\n                             y_transformer={},\n                             y_transformer_name='LabelEncoder')"
          },
          "metadata": {}
        }
      ],
      "execution_count": 18,
      "metadata": {
        "gather": {
          "logged": 1612703943496
        }
      }
    },
    {
      "cell_type": "code",
      "source": [
        "print('Best Run Id: ', best_run.id)\n",
        "print('Accuracy:', best_run_metrics['accuracy'])\n",
        "print(best_model._final_estimator)"
      ],
      "outputs": [
        {
          "output_type": "stream",
          "name": "stdout",
          "text": [
            "Best Run Id:  AutoML_ecb72259-be79-4d1d-bc4e-7fbe2df9fb8f_14\n",
            "Accuracy: 0.9833333333333334\n",
            "PreFittedSoftVotingClassifier(classification_labels=None,\n",
            "                              estimators=[('9',\n",
            "                                           Pipeline(memory=None,\n",
            "                                                    steps=[('sparsenormalizer',\n",
            "                                                            <azureml.automl.runtime.shared.model_wrappers.SparseNormalizer object at 0x7f9a2e04d588>),\n",
            "                                                           ('lightgbmclassifier',\n",
            "                                                            LightGBMClassifier(boosting_type='goss',\n",
            "                                                                               class_weight=None,\n",
            "                                                                               colsample_bytree=0.5944444444444444,\n",
            "                                                                               importance_type='split',\n",
            "                                                                               l...\n",
            "                                                                                   max_features='sqrt',\n",
            "                                                                                   max_leaf_nodes=None,\n",
            "                                                                                   max_samples=None,\n",
            "                                                                                   min_impurity_decrease=0.0,\n",
            "                                                                                   min_impurity_split=None,\n",
            "                                                                                   min_samples_leaf=0.01,\n",
            "                                                                                   min_samples_split=0.10368421052631578,\n",
            "                                                                                   min_weight_fraction_leaf=0.0,\n",
            "                                                                                   n_estimators=10,\n",
            "                                                                                   n_jobs=1,\n",
            "                                                                                   oob_score=False,\n",
            "                                                                                   random_state=None,\n",
            "                                                                                   verbose=0,\n",
            "                                                                                   warm_start=False))],\n",
            "                                                    verbose=False))],\n",
            "                              flatten_transform=None,\n",
            "                              weights=[0.2, 0.2, 0.2, 0.2, 0.2])\n"
          ]
        }
      ],
      "execution_count": 19,
      "metadata": {
        "gather": {
          "logged": 1612703950520
        }
      }
    },
    {
      "cell_type": "code",
      "source": [
        "#TODO: Save the best model\n",
        "os.makedirs('./outputs', exist_ok=True)\n",
        "\n",
        "joblib.dump(best_model, filename='outputs/automl.joblib')\n",
        "\n",
        "model_name = best_run.properties['model_name']\n",
        "print(model_name)"
      ],
      "outputs": [
        {
          "output_type": "stream",
          "name": "stdout",
          "text": [
            "AutoMLecb72259b14\n"
          ]
        }
      ],
      "execution_count": 23,
      "metadata": {
        "gather": {
          "logged": 1612704082327
        },
        "jupyter": {
          "outputs_hidden": false,
          "source_hidden": false
        },
        "nteract": {
          "transient": {
            "deleting": false
          }
        }
      }
    },
    {
      "cell_type": "markdown",
      "source": [
        "## Model Deployment\n",
        "\n",
        "Remember you have to deploy only one of the two models you trained.. Perform the steps in the rest of this notebook only if you wish to deploy this model.\n",
        "\n",
        "TODO: In the cell below, register the model, create an inference config and deploy the model as a web service."
      ],
      "metadata": {}
    },
    {
      "cell_type": "code",
      "source": [
        "model = best_run.register_model(model_name = 'automl_model', \n",
        "                                                model_path='outputs/automl.joblib')\n",
        "\n",
        "aci_config = AciWebservice.deploy_configuration(cpu_cores=1, memory_gb=2,\n",
        "                                                enable_app_insights=True, auth_enabled=True)  \n",
        "\n",
        "service_name = 'service_aml'\n",
        "service = Model.deploy(ws, service_name, [model], deployment_config=aci_config)\n",
        "service.wait_for_deployment(show_output = True)\n",
        "print(service.state)\n",
        "print(service.scoring_uri)\n"
      ],
      "outputs": [],
      "execution_count": null,
      "metadata": {
        "gather": {
          "logged": 1598431435189
        },
        "jupyter": {
          "outputs_hidden": false,
          "source_hidden": false
        },
        "nteract": {
          "transient": {
            "deleting": false
          }
        }
      }
    },
    {
      "cell_type": "markdown",
      "source": [
        "TODO: In the cell below, send a request to the web service you deployed to test it."
      ],
      "metadata": {
        "collapsed": true,
        "gather": {
          "logged": 1598431657736
        },
        "jupyter": {
          "outputs_hidden": false,
          "source_hidden": false
        },
        "nteract": {
          "transient": {
            "deleting": false
          }
        }
      }
    },
    {
      "cell_type": "code",
      "source": [
        "test_ws = train.tail()\n",
        "target = test_ws['iris_class']\n",
        "test_ws = test_ws[:-1]\n",
        "\n",
        "test_json = json.dumps({'data':test_ws.to_dict(orient='records')})\n",
        "print(test_json)\n",
        "\n",
        "results = service.run(teste_json)\n",
        "print('Model results:', results)\n",
        "print('Actual results:', y_actual.values)"
      ],
      "outputs": [],
      "execution_count": null,
      "metadata": {
        "gather": {
          "logged": 1598432707604
        },
        "jupyter": {
          "outputs_hidden": false,
          "source_hidden": false
        },
        "nteract": {
          "transient": {
            "deleting": false
          }
        }
      }
    },
    {
      "cell_type": "markdown",
      "source": [
        "TODO: In the cell below, print the logs of the web service and delete the service"
      ],
      "metadata": {
        "collapsed": true,
        "gather": {
          "logged": 1598432765711
        },
        "jupyter": {
          "outputs_hidden": false,
          "source_hidden": false
        },
        "nteract": {
          "transient": {
            "deleting": false
          }
        }
      }
    },
    {
      "cell_type": "code",
      "source": [
        "print(service.get_logs())\n",
        "\n",
        "service.delete()"
      ],
      "outputs": [],
      "execution_count": null,
      "metadata": {
        "jupyter": {
          "outputs_hidden": false,
          "source_hidden": false
        },
        "nteract": {
          "transient": {
            "deleting": false
          }
        }
      }
    }
  ],
  "metadata": {
    "kernel_info": {
      "name": "python3"
    },
    "kernelspec": {
      "name": "python3",
      "language": "python",
      "display_name": "Python 3"
    },
    "language_info": {
      "name": "python",
      "version": "3.6.9",
      "mimetype": "text/x-python",
      "codemirror_mode": {
        "name": "ipython",
        "version": 3
      },
      "pygments_lexer": "ipython3",
      "nbconvert_exporter": "python",
      "file_extension": ".py"
    },
    "nteract": {
      "version": "nteract-front-end@1.0.0"
    }
  },
  "nbformat": 4,
  "nbformat_minor": 2
}